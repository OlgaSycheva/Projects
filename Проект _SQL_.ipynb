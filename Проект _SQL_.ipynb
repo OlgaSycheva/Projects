{
 "cells": [
  {
   "cell_type": "markdown",
   "id": "efa0d12f",
   "metadata": {},
   "source": [
    "## Проект \"Изучение базы данных приложения для чтения книг\""
   ]
  },
  {
   "cell_type": "markdown",
   "id": "2c579e74",
   "metadata": {},
   "source": [
    "В данном проекте производится анализ базы данных, используемой в приложении для чтения книг.\n",
    "Цель - сформулировать рекомендации по улучшению продукта."
   ]
  },
  {
   "cell_type": "markdown",
   "id": "28ba1b9a",
   "metadata": {},
   "source": [
    "\n",
    "##### Описание данных\n",
    "\n",
    "**Таблица `books`**\n",
    "\n",
    "Содержит данные о книгах:\n",
    "\n",
    "- `book_id` — идентификатор книги;\n",
    "- `author_id` — идентификатор автора;\n",
    "- `title` — название книги;\n",
    "- `num_pages` — количество страниц;\n",
    "- `publication_date` — дата публикации книги;\n",
    "- `publisher_id` — идентификатор издателя.\n",
    "\n",
    "**Таблица `authors`**\n",
    "\n",
    "Содержит данные об авторах:\n",
    "\n",
    "- `author_id` — идентификатор автора;\n",
    "- `author` — имя автора.\n",
    "\n",
    "**Таблица `publishers`**\n",
    "\n",
    "Содержит данные об издательствах:\n",
    "\n",
    "- `publisher_id` — идентификатор издательства;\n",
    "- `publisher` — название издательства;\n",
    "\n",
    "**Таблица `ratings`**\n",
    "\n",
    "Содержит данные о пользовательских оценках книг:\n",
    "\n",
    "- `rating_id` — идентификатор оценки;\n",
    "- `book_id` — идентификатор книги;\n",
    "- `username` — имя пользователя, оставившего оценку;\n",
    "- `rating` — оценка книги.\n",
    "\n",
    "**Таблица `reviews`**\n",
    "\n",
    "Содержит данные о пользовательских обзорах на книги:\n",
    "\n",
    "- `review_id` — идентификатор обзора;\n",
    "- `book_id` — идентификатор книги;\n",
    "- `username` — имя пользователя, написавшего обзор;\n",
    "- `text` — текст обзора."
   ]
  },
  {
   "cell_type": "markdown",
   "id": "5f954357",
   "metadata": {},
   "source": [
    "##### Настройка подключения"
   ]
  },
  {
   "cell_type": "code",
   "execution_count": 1,
   "id": "2aa2dc69",
   "metadata": {},
   "outputs": [],
   "source": [
    "# импортируем библиотеки\n",
    "import pandas as pd\n",
    "from sqlalchemy import create_engine"
   ]
  },
  {
   "cell_type": "code",
   "execution_count": 2,
   "id": "d94bea0a",
   "metadata": {},
   "outputs": [],
   "source": [
    "# устанавливаем параметры\n",
    "db_config = {'user': 'praktikum_student', # имя пользователя\n",
    "'pwd': 'Sdf4$2;d-d30pp', # пароль\n",
    "'host': 'rc1b-wcoijxj3yxfsf3fs.mdb.yandexcloud.net',\n",
    "'port': 6432, # порт подключения\n",
    "'db': 'data-analyst-final-project-db'} # название базы данных\n",
    "connection_string = 'postgresql://{}:{}@{}:{}/{}'.format(db_config['user'],\n",
    " db_config['pwd'],\n",
    " db_config['host'],\n",
    " db_config['port'],\n",
    " db_config['db'])\n",
    "# сохраняем коннектор\n",
    "engine = create_engine(connection_string, connect_args={'sslmode':'require'}) "
   ]
  },
  {
   "cell_type": "markdown",
   "id": "c88545f4",
   "metadata": {},
   "source": [
    "##### Чтение и вывод данных из исходных таблиц"
   ]
  },
  {
   "cell_type": "code",
   "execution_count": 3,
   "id": "8e8ccb28",
   "metadata": {},
   "outputs": [],
   "source": [
    "query = ''' SELECT *\n",
    "            FROM books\n",
    "        '''"
   ]
  },
  {
   "cell_type": "code",
   "execution_count": 4,
   "id": "bf3c637e",
   "metadata": {},
   "outputs": [
    {
     "data": {
      "text/html": [
       "<div>\n",
       "<style scoped>\n",
       "    .dataframe tbody tr th:only-of-type {\n",
       "        vertical-align: middle;\n",
       "    }\n",
       "\n",
       "    .dataframe tbody tr th {\n",
       "        vertical-align: top;\n",
       "    }\n",
       "\n",
       "    .dataframe thead th {\n",
       "        text-align: right;\n",
       "    }\n",
       "</style>\n",
       "<table border=\"1\" class=\"dataframe\">\n",
       "  <thead>\n",
       "    <tr style=\"text-align: right;\">\n",
       "      <th></th>\n",
       "      <th>book_id</th>\n",
       "      <th>author_id</th>\n",
       "      <th>title</th>\n",
       "      <th>num_pages</th>\n",
       "      <th>publication_date</th>\n",
       "      <th>publisher_id</th>\n",
       "    </tr>\n",
       "  </thead>\n",
       "  <tbody>\n",
       "    <tr>\n",
       "      <th>0</th>\n",
       "      <td>1</td>\n",
       "      <td>546</td>\n",
       "      <td>'Salem's Lot</td>\n",
       "      <td>594</td>\n",
       "      <td>2005-11-01</td>\n",
       "      <td>93</td>\n",
       "    </tr>\n",
       "    <tr>\n",
       "      <th>1</th>\n",
       "      <td>2</td>\n",
       "      <td>465</td>\n",
       "      <td>1 000 Places to See Before You Die</td>\n",
       "      <td>992</td>\n",
       "      <td>2003-05-22</td>\n",
       "      <td>336</td>\n",
       "    </tr>\n",
       "    <tr>\n",
       "      <th>2</th>\n",
       "      <td>3</td>\n",
       "      <td>407</td>\n",
       "      <td>13 Little Blue Envelopes (Little Blue Envelope...</td>\n",
       "      <td>322</td>\n",
       "      <td>2010-12-21</td>\n",
       "      <td>135</td>\n",
       "    </tr>\n",
       "    <tr>\n",
       "      <th>3</th>\n",
       "      <td>4</td>\n",
       "      <td>82</td>\n",
       "      <td>1491: New Revelations of the Americas Before C...</td>\n",
       "      <td>541</td>\n",
       "      <td>2006-10-10</td>\n",
       "      <td>309</td>\n",
       "    </tr>\n",
       "    <tr>\n",
       "      <th>4</th>\n",
       "      <td>5</td>\n",
       "      <td>125</td>\n",
       "      <td>1776</td>\n",
       "      <td>386</td>\n",
       "      <td>2006-07-04</td>\n",
       "      <td>268</td>\n",
       "    </tr>\n",
       "  </tbody>\n",
       "</table>\n",
       "</div>"
      ],
      "text/plain": [
       "   book_id  author_id                                              title  \\\n",
       "0        1        546                                       'Salem's Lot   \n",
       "1        2        465                 1 000 Places to See Before You Die   \n",
       "2        3        407  13 Little Blue Envelopes (Little Blue Envelope...   \n",
       "3        4         82  1491: New Revelations of the Americas Before C...   \n",
       "4        5        125                                               1776   \n",
       "\n",
       "   num_pages publication_date  publisher_id  \n",
       "0        594       2005-11-01            93  \n",
       "1        992       2003-05-22           336  \n",
       "2        322       2010-12-21           135  \n",
       "3        541       2006-10-10           309  \n",
       "4        386       2006-07-04           268  "
      ]
     },
     "execution_count": 4,
     "metadata": {},
     "output_type": "execute_result"
    }
   ],
   "source": [
    "books = pd.io.sql.read_sql(query, con = engine)\n",
    "books.head()"
   ]
  },
  {
   "cell_type": "code",
   "execution_count": 5,
   "id": "63ffda21",
   "metadata": {},
   "outputs": [
    {
     "name": "stdout",
     "output_type": "stream",
     "text": [
      "<class 'pandas.core.frame.DataFrame'>\n",
      "RangeIndex: 1000 entries, 0 to 999\n",
      "Data columns (total 6 columns):\n",
      " #   Column            Non-Null Count  Dtype \n",
      "---  ------            --------------  ----- \n",
      " 0   book_id           1000 non-null   int64 \n",
      " 1   author_id         1000 non-null   int64 \n",
      " 2   title             1000 non-null   object\n",
      " 3   num_pages         1000 non-null   int64 \n",
      " 4   publication_date  1000 non-null   object\n",
      " 5   publisher_id      1000 non-null   int64 \n",
      "dtypes: int64(4), object(2)\n",
      "memory usage: 47.0+ KB\n"
     ]
    }
   ],
   "source": [
    "books.info()"
   ]
  },
  {
   "cell_type": "code",
   "execution_count": 6,
   "id": "39bb440a",
   "metadata": {},
   "outputs": [],
   "source": [
    "query = ''' SELECT *\n",
    "            FROM authors\n",
    "        '''"
   ]
  },
  {
   "cell_type": "code",
   "execution_count": 7,
   "id": "da01b97e",
   "metadata": {},
   "outputs": [
    {
     "data": {
      "text/html": [
       "<div>\n",
       "<style scoped>\n",
       "    .dataframe tbody tr th:only-of-type {\n",
       "        vertical-align: middle;\n",
       "    }\n",
       "\n",
       "    .dataframe tbody tr th {\n",
       "        vertical-align: top;\n",
       "    }\n",
       "\n",
       "    .dataframe thead th {\n",
       "        text-align: right;\n",
       "    }\n",
       "</style>\n",
       "<table border=\"1\" class=\"dataframe\">\n",
       "  <thead>\n",
       "    <tr style=\"text-align: right;\">\n",
       "      <th></th>\n",
       "      <th>author_id</th>\n",
       "      <th>author</th>\n",
       "    </tr>\n",
       "  </thead>\n",
       "  <tbody>\n",
       "    <tr>\n",
       "      <th>0</th>\n",
       "      <td>1</td>\n",
       "      <td>A.S. Byatt</td>\n",
       "    </tr>\n",
       "    <tr>\n",
       "      <th>1</th>\n",
       "      <td>2</td>\n",
       "      <td>Aesop/Laura Harris/Laura Gibbs</td>\n",
       "    </tr>\n",
       "    <tr>\n",
       "      <th>2</th>\n",
       "      <td>3</td>\n",
       "      <td>Agatha Christie</td>\n",
       "    </tr>\n",
       "    <tr>\n",
       "      <th>3</th>\n",
       "      <td>4</td>\n",
       "      <td>Alan Brennert</td>\n",
       "    </tr>\n",
       "    <tr>\n",
       "      <th>4</th>\n",
       "      <td>5</td>\n",
       "      <td>Alan Moore/David   Lloyd</td>\n",
       "    </tr>\n",
       "  </tbody>\n",
       "</table>\n",
       "</div>"
      ],
      "text/plain": [
       "   author_id                          author\n",
       "0          1                      A.S. Byatt\n",
       "1          2  Aesop/Laura Harris/Laura Gibbs\n",
       "2          3                 Agatha Christie\n",
       "3          4                   Alan Brennert\n",
       "4          5        Alan Moore/David   Lloyd"
      ]
     },
     "execution_count": 7,
     "metadata": {},
     "output_type": "execute_result"
    }
   ],
   "source": [
    "authors = pd.io.sql.read_sql(query, con = engine)\n",
    "authors.head()"
   ]
  },
  {
   "cell_type": "code",
   "execution_count": 8,
   "id": "4a81cc21",
   "metadata": {},
   "outputs": [],
   "source": [
    "query = ''' SELECT *\n",
    "            FROM publishers\n",
    "        '''"
   ]
  },
  {
   "cell_type": "code",
   "execution_count": 9,
   "id": "2ae3d61b",
   "metadata": {},
   "outputs": [
    {
     "data": {
      "text/html": [
       "<div>\n",
       "<style scoped>\n",
       "    .dataframe tbody tr th:only-of-type {\n",
       "        vertical-align: middle;\n",
       "    }\n",
       "\n",
       "    .dataframe tbody tr th {\n",
       "        vertical-align: top;\n",
       "    }\n",
       "\n",
       "    .dataframe thead th {\n",
       "        text-align: right;\n",
       "    }\n",
       "</style>\n",
       "<table border=\"1\" class=\"dataframe\">\n",
       "  <thead>\n",
       "    <tr style=\"text-align: right;\">\n",
       "      <th></th>\n",
       "      <th>publisher_id</th>\n",
       "      <th>publisher</th>\n",
       "    </tr>\n",
       "  </thead>\n",
       "  <tbody>\n",
       "    <tr>\n",
       "      <th>0</th>\n",
       "      <td>1</td>\n",
       "      <td>Ace</td>\n",
       "    </tr>\n",
       "    <tr>\n",
       "      <th>1</th>\n",
       "      <td>2</td>\n",
       "      <td>Ace Book</td>\n",
       "    </tr>\n",
       "    <tr>\n",
       "      <th>2</th>\n",
       "      <td>3</td>\n",
       "      <td>Ace Books</td>\n",
       "    </tr>\n",
       "    <tr>\n",
       "      <th>3</th>\n",
       "      <td>4</td>\n",
       "      <td>Ace Hardcover</td>\n",
       "    </tr>\n",
       "    <tr>\n",
       "      <th>4</th>\n",
       "      <td>5</td>\n",
       "      <td>Addison Wesley Publishing Company</td>\n",
       "    </tr>\n",
       "  </tbody>\n",
       "</table>\n",
       "</div>"
      ],
      "text/plain": [
       "   publisher_id                          publisher\n",
       "0             1                                Ace\n",
       "1             2                           Ace Book\n",
       "2             3                          Ace Books\n",
       "3             4                      Ace Hardcover\n",
       "4             5  Addison Wesley Publishing Company"
      ]
     },
     "execution_count": 9,
     "metadata": {},
     "output_type": "execute_result"
    }
   ],
   "source": [
    "publishers = pd.io.sql.read_sql(query, con = engine)\n",
    "publishers.head()"
   ]
  },
  {
   "cell_type": "code",
   "execution_count": 10,
   "id": "fda17be7",
   "metadata": {},
   "outputs": [],
   "source": [
    "query = ''' SELECT *\n",
    "            FROM ratings\n",
    "        '''"
   ]
  },
  {
   "cell_type": "code",
   "execution_count": 11,
   "id": "56b8cbf5",
   "metadata": {},
   "outputs": [
    {
     "data": {
      "text/html": [
       "<div>\n",
       "<style scoped>\n",
       "    .dataframe tbody tr th:only-of-type {\n",
       "        vertical-align: middle;\n",
       "    }\n",
       "\n",
       "    .dataframe tbody tr th {\n",
       "        vertical-align: top;\n",
       "    }\n",
       "\n",
       "    .dataframe thead th {\n",
       "        text-align: right;\n",
       "    }\n",
       "</style>\n",
       "<table border=\"1\" class=\"dataframe\">\n",
       "  <thead>\n",
       "    <tr style=\"text-align: right;\">\n",
       "      <th></th>\n",
       "      <th>rating_id</th>\n",
       "      <th>book_id</th>\n",
       "      <th>username</th>\n",
       "      <th>rating</th>\n",
       "    </tr>\n",
       "  </thead>\n",
       "  <tbody>\n",
       "    <tr>\n",
       "      <th>0</th>\n",
       "      <td>1</td>\n",
       "      <td>1</td>\n",
       "      <td>ryanfranco</td>\n",
       "      <td>4</td>\n",
       "    </tr>\n",
       "    <tr>\n",
       "      <th>1</th>\n",
       "      <td>2</td>\n",
       "      <td>1</td>\n",
       "      <td>grantpatricia</td>\n",
       "      <td>2</td>\n",
       "    </tr>\n",
       "    <tr>\n",
       "      <th>2</th>\n",
       "      <td>3</td>\n",
       "      <td>1</td>\n",
       "      <td>brandtandrea</td>\n",
       "      <td>5</td>\n",
       "    </tr>\n",
       "    <tr>\n",
       "      <th>3</th>\n",
       "      <td>4</td>\n",
       "      <td>2</td>\n",
       "      <td>lorichen</td>\n",
       "      <td>3</td>\n",
       "    </tr>\n",
       "    <tr>\n",
       "      <th>4</th>\n",
       "      <td>5</td>\n",
       "      <td>2</td>\n",
       "      <td>mariokeller</td>\n",
       "      <td>2</td>\n",
       "    </tr>\n",
       "  </tbody>\n",
       "</table>\n",
       "</div>"
      ],
      "text/plain": [
       "   rating_id  book_id       username  rating\n",
       "0          1        1     ryanfranco       4\n",
       "1          2        1  grantpatricia       2\n",
       "2          3        1   brandtandrea       5\n",
       "3          4        2       lorichen       3\n",
       "4          5        2    mariokeller       2"
      ]
     },
     "execution_count": 11,
     "metadata": {},
     "output_type": "execute_result"
    }
   ],
   "source": [
    "ratings = pd.io.sql.read_sql(query, con = engine)\n",
    "ratings.head()"
   ]
  },
  {
   "cell_type": "code",
   "execution_count": 12,
   "id": "27eec5c3",
   "metadata": {},
   "outputs": [],
   "source": [
    "query = ''' SELECT *\n",
    "            FROM reviews\n",
    "        '''"
   ]
  },
  {
   "cell_type": "code",
   "execution_count": 13,
   "id": "aa11c112",
   "metadata": {},
   "outputs": [
    {
     "data": {
      "text/html": [
       "<div>\n",
       "<style scoped>\n",
       "    .dataframe tbody tr th:only-of-type {\n",
       "        vertical-align: middle;\n",
       "    }\n",
       "\n",
       "    .dataframe tbody tr th {\n",
       "        vertical-align: top;\n",
       "    }\n",
       "\n",
       "    .dataframe thead th {\n",
       "        text-align: right;\n",
       "    }\n",
       "</style>\n",
       "<table border=\"1\" class=\"dataframe\">\n",
       "  <thead>\n",
       "    <tr style=\"text-align: right;\">\n",
       "      <th></th>\n",
       "      <th>review_id</th>\n",
       "      <th>book_id</th>\n",
       "      <th>username</th>\n",
       "      <th>text</th>\n",
       "    </tr>\n",
       "  </thead>\n",
       "  <tbody>\n",
       "    <tr>\n",
       "      <th>0</th>\n",
       "      <td>1</td>\n",
       "      <td>1</td>\n",
       "      <td>brandtandrea</td>\n",
       "      <td>Mention society tell send professor analysis. ...</td>\n",
       "    </tr>\n",
       "    <tr>\n",
       "      <th>1</th>\n",
       "      <td>2</td>\n",
       "      <td>1</td>\n",
       "      <td>ryanfranco</td>\n",
       "      <td>Foot glass pretty audience hit themselves. Amo...</td>\n",
       "    </tr>\n",
       "    <tr>\n",
       "      <th>2</th>\n",
       "      <td>3</td>\n",
       "      <td>2</td>\n",
       "      <td>lorichen</td>\n",
       "      <td>Listen treat keep worry. Miss husband tax but ...</td>\n",
       "    </tr>\n",
       "    <tr>\n",
       "      <th>3</th>\n",
       "      <td>4</td>\n",
       "      <td>3</td>\n",
       "      <td>johnsonamanda</td>\n",
       "      <td>Finally month interesting blue could nature cu...</td>\n",
       "    </tr>\n",
       "    <tr>\n",
       "      <th>4</th>\n",
       "      <td>5</td>\n",
       "      <td>3</td>\n",
       "      <td>scotttamara</td>\n",
       "      <td>Nation purpose heavy give wait song will. List...</td>\n",
       "    </tr>\n",
       "  </tbody>\n",
       "</table>\n",
       "</div>"
      ],
      "text/plain": [
       "   review_id  book_id       username  \\\n",
       "0          1        1   brandtandrea   \n",
       "1          2        1     ryanfranco   \n",
       "2          3        2       lorichen   \n",
       "3          4        3  johnsonamanda   \n",
       "4          5        3    scotttamara   \n",
       "\n",
       "                                                text  \n",
       "0  Mention society tell send professor analysis. ...  \n",
       "1  Foot glass pretty audience hit themselves. Amo...  \n",
       "2  Listen treat keep worry. Miss husband tax but ...  \n",
       "3  Finally month interesting blue could nature cu...  \n",
       "4  Nation purpose heavy give wait song will. List...  "
      ]
     },
     "execution_count": 13,
     "metadata": {},
     "output_type": "execute_result"
    }
   ],
   "source": [
    "reviews = pd.io.sql.read_sql(query, con = engine)\n",
    "reviews.head()"
   ]
  },
  {
   "cell_type": "markdown",
   "id": "608c3d48",
   "metadata": {},
   "source": [
    "### Задача 1."
   ]
  },
  {
   "cell_type": "code",
   "execution_count": 14,
   "id": "2cad9073",
   "metadata": {},
   "outputs": [
    {
     "data": {
      "text/html": [
       "<div>\n",
       "<style scoped>\n",
       "    .dataframe tbody tr th:only-of-type {\n",
       "        vertical-align: middle;\n",
       "    }\n",
       "\n",
       "    .dataframe tbody tr th {\n",
       "        vertical-align: top;\n",
       "    }\n",
       "\n",
       "    .dataframe thead th {\n",
       "        text-align: right;\n",
       "    }\n",
       "</style>\n",
       "<table border=\"1\" class=\"dataframe\">\n",
       "  <thead>\n",
       "    <tr style=\"text-align: right;\">\n",
       "      <th></th>\n",
       "      <th>count</th>\n",
       "    </tr>\n",
       "  </thead>\n",
       "  <tbody>\n",
       "    <tr>\n",
       "      <th>0</th>\n",
       "      <td>819</td>\n",
       "    </tr>\n",
       "  </tbody>\n",
       "</table>\n",
       "</div>"
      ],
      "text/plain": [
       "   count\n",
       "0    819"
      ]
     },
     "execution_count": 14,
     "metadata": {},
     "output_type": "execute_result"
    }
   ],
   "source": [
    "# сколько книг вышло после 2000-01-01\n",
    "query = '''SELECT COUNT(book_id)\n",
    "                FROM books\n",
    "                WHERE publication_date > '2000-01-01'\n",
    "                ;\n",
    "                '''\n",
    "pd.io.sql.read_sql(query, con = engine)"
   ]
  },
  {
   "cell_type": "markdown",
   "id": "26e5d9fa",
   "metadata": {},
   "source": [
    "После 01 января 2000 года вышло 819 книг."
   ]
  },
  {
   "cell_type": "markdown",
   "id": "18d13f29",
   "metadata": {},
   "source": [
    "### Задача 2."
   ]
  },
  {
   "cell_type": "code",
   "execution_count": 15,
   "id": "4e82ded2",
   "metadata": {},
   "outputs": [
    {
     "data": {
      "text/html": [
       "<div>\n",
       "<style scoped>\n",
       "    .dataframe tbody tr th:only-of-type {\n",
       "        vertical-align: middle;\n",
       "    }\n",
       "\n",
       "    .dataframe tbody tr th {\n",
       "        vertical-align: top;\n",
       "    }\n",
       "\n",
       "    .dataframe thead th {\n",
       "        text-align: right;\n",
       "    }\n",
       "</style>\n",
       "<table border=\"1\" class=\"dataframe\">\n",
       "  <thead>\n",
       "    <tr style=\"text-align: right;\">\n",
       "      <th></th>\n",
       "      <th>title</th>\n",
       "      <th>review_cnt</th>\n",
       "      <th>avg_rating</th>\n",
       "    </tr>\n",
       "  </thead>\n",
       "  <tbody>\n",
       "    <tr>\n",
       "      <th>0</th>\n",
       "      <td>Twilight (Twilight  #1)</td>\n",
       "      <td>7</td>\n",
       "      <td>3.662500</td>\n",
       "    </tr>\n",
       "    <tr>\n",
       "      <th>1</th>\n",
       "      <td>Water for Elephants</td>\n",
       "      <td>6</td>\n",
       "      <td>3.977273</td>\n",
       "    </tr>\n",
       "    <tr>\n",
       "      <th>2</th>\n",
       "      <td>The Glass Castle</td>\n",
       "      <td>6</td>\n",
       "      <td>4.206897</td>\n",
       "    </tr>\n",
       "    <tr>\n",
       "      <th>3</th>\n",
       "      <td>Harry Potter and the Prisoner of Azkaban (Harr...</td>\n",
       "      <td>6</td>\n",
       "      <td>4.414634</td>\n",
       "    </tr>\n",
       "    <tr>\n",
       "      <th>4</th>\n",
       "      <td>The Curious Incident of the Dog in the Night-Time</td>\n",
       "      <td>6</td>\n",
       "      <td>4.081081</td>\n",
       "    </tr>\n",
       "    <tr>\n",
       "      <th>...</th>\n",
       "      <td>...</td>\n",
       "      <td>...</td>\n",
       "      <td>...</td>\n",
       "    </tr>\n",
       "    <tr>\n",
       "      <th>995</th>\n",
       "      <td>Anne Rice's The Vampire Lestat: A Graphic Novel</td>\n",
       "      <td>0</td>\n",
       "      <td>3.666667</td>\n",
       "    </tr>\n",
       "    <tr>\n",
       "      <th>996</th>\n",
       "      <td>The Natural Way to Draw</td>\n",
       "      <td>0</td>\n",
       "      <td>3.000000</td>\n",
       "    </tr>\n",
       "    <tr>\n",
       "      <th>997</th>\n",
       "      <td>The Cat in the Hat and Other Dr. Seuss Favorites</td>\n",
       "      <td>0</td>\n",
       "      <td>5.000000</td>\n",
       "    </tr>\n",
       "    <tr>\n",
       "      <th>998</th>\n",
       "      <td>Essential Tales and Poems</td>\n",
       "      <td>0</td>\n",
       "      <td>4.000000</td>\n",
       "    </tr>\n",
       "    <tr>\n",
       "      <th>999</th>\n",
       "      <td>Disney's Beauty and the Beast (A Little Golden...</td>\n",
       "      <td>0</td>\n",
       "      <td>4.000000</td>\n",
       "    </tr>\n",
       "  </tbody>\n",
       "</table>\n",
       "<p>1000 rows × 3 columns</p>\n",
       "</div>"
      ],
      "text/plain": [
       "                                                 title  review_cnt  avg_rating\n",
       "0                              Twilight (Twilight  #1)           7    3.662500\n",
       "1                                  Water for Elephants           6    3.977273\n",
       "2                                     The Glass Castle           6    4.206897\n",
       "3    Harry Potter and the Prisoner of Azkaban (Harr...           6    4.414634\n",
       "4    The Curious Incident of the Dog in the Night-Time           6    4.081081\n",
       "..                                                 ...         ...         ...\n",
       "995    Anne Rice's The Vampire Lestat: A Graphic Novel           0    3.666667\n",
       "996                            The Natural Way to Draw           0    3.000000\n",
       "997   The Cat in the Hat and Other Dr. Seuss Favorites           0    5.000000\n",
       "998                          Essential Tales and Poems           0    4.000000\n",
       "999  Disney's Beauty and the Beast (A Little Golden...           0    4.000000\n",
       "\n",
       "[1000 rows x 3 columns]"
      ]
     },
     "execution_count": 15,
     "metadata": {},
     "output_type": "execute_result"
    }
   ],
   "source": [
    "query = '''\n",
    "            SELECT\n",
    "                books.title,\n",
    "                (\n",
    "                    SELECT\n",
    "                        COUNT(review_id) AS review_cnt\n",
    "                    FROM reviews\n",
    "                    WHERE book_id = books.book_id\n",
    "                ),\n",
    "                (\n",
    "                    SELECT\n",
    "                        AVG(rating)\n",
    "                    FROM ratings\n",
    "                    WHERE book_id = books.book_id) AS avg_rating\n",
    "            FROM books, reviews\n",
    "            GROUP BY books.book_id\n",
    "            ORDER BY review_cnt DESC\n",
    "        '''\n",
    "pd.io.sql.read_sql(query, con=engine)"
   ]
  },
  {
   "cell_type": "markdown",
   "id": "799c4980",
   "metadata": {},
   "source": [
    "Выведена информация о количестве рецензий и среднем рейтинге по каждой книге."
   ]
  },
  {
   "cell_type": "markdown",
   "id": "85f1f354",
   "metadata": {},
   "source": [
    "### Задача 3."
   ]
  },
  {
   "cell_type": "code",
   "execution_count": 16,
   "id": "9adf8928",
   "metadata": {},
   "outputs": [
    {
     "data": {
      "text/html": [
       "<div>\n",
       "<style scoped>\n",
       "    .dataframe tbody tr th:only-of-type {\n",
       "        vertical-align: middle;\n",
       "    }\n",
       "\n",
       "    .dataframe tbody tr th {\n",
       "        vertical-align: top;\n",
       "    }\n",
       "\n",
       "    .dataframe thead th {\n",
       "        text-align: right;\n",
       "    }\n",
       "</style>\n",
       "<table border=\"1\" class=\"dataframe\">\n",
       "  <thead>\n",
       "    <tr style=\"text-align: right;\">\n",
       "      <th></th>\n",
       "      <th>publisher</th>\n",
       "      <th>books_count</th>\n",
       "    </tr>\n",
       "  </thead>\n",
       "  <tbody>\n",
       "    <tr>\n",
       "      <th>0</th>\n",
       "      <td>Penguin Books</td>\n",
       "      <td>42</td>\n",
       "    </tr>\n",
       "  </tbody>\n",
       "</table>\n",
       "</div>"
      ],
      "text/plain": [
       "       publisher  books_count\n",
       "0  Penguin Books           42"
      ]
     },
     "execution_count": 16,
     "metadata": {},
     "output_type": "execute_result"
    }
   ],
   "source": [
    "# издательство, которое выпустило наибольшее число книг толще 50 страниц \n",
    "query = '''SELECT pub.publisher,\n",
    "COUNT(b.book_id) AS books_count\n",
    "                FROM books AS b\n",
    "                LEFT JOIN publishers AS pub ON b.publisher_id=pub.publisher_id\n",
    "                WHERE b.num_pages > 50\n",
    "                GROUP BY pub.publisher\n",
    "                ORDER BY books_count DESC\n",
    "                LIMIT 1;\n",
    "                '''\n",
    "pd.io.sql.read_sql(query, con = engine)"
   ]
  },
  {
   "cell_type": "markdown",
   "id": "0f8afb63",
   "metadata": {},
   "source": [
    "Наибольшее число книг толщиной более 50 страниц - 42,  выпустило издательство Penguin Books."
   ]
  },
  {
   "cell_type": "markdown",
   "id": "279c7e77",
   "metadata": {},
   "source": [
    "### Задача 4."
   ]
  },
  {
   "cell_type": "code",
   "execution_count": 17,
   "id": "3ee97b93",
   "metadata": {},
   "outputs": [
    {
     "data": {
      "text/html": [
       "<div>\n",
       "<style scoped>\n",
       "    .dataframe tbody tr th:only-of-type {\n",
       "        vertical-align: middle;\n",
       "    }\n",
       "\n",
       "    .dataframe tbody tr th {\n",
       "        vertical-align: top;\n",
       "    }\n",
       "\n",
       "    .dataframe thead th {\n",
       "        text-align: right;\n",
       "    }\n",
       "</style>\n",
       "<table border=\"1\" class=\"dataframe\">\n",
       "  <thead>\n",
       "    <tr style=\"text-align: right;\">\n",
       "      <th></th>\n",
       "      <th>author</th>\n",
       "      <th>avg</th>\n",
       "    </tr>\n",
       "  </thead>\n",
       "  <tbody>\n",
       "    <tr>\n",
       "      <th>0</th>\n",
       "      <td>J.K. Rowling/Mary GrandPré</td>\n",
       "      <td>4.283844</td>\n",
       "    </tr>\n",
       "  </tbody>\n",
       "</table>\n",
       "</div>"
      ],
      "text/plain": [
       "                       author       avg\n",
       "0  J.K. Rowling/Mary GrandPré  4.283844"
      ]
     },
     "execution_count": 17,
     "metadata": {},
     "output_type": "execute_result"
    }
   ],
   "source": [
    "# автор с самой высокой средней оценкой книг — только книги с 50 и более оценками\n",
    "query = '''WITH r AS (SELECT AVG(rating) AS av_r, book_id\n",
    "                      FROM ratings\n",
    "                      GROUP BY book_id\n",
    "                      HAVING COUNT(rating_id) >= 50)\n",
    "         SELECT a.author, AVG(r.av_r)\n",
    "         FROM books AS b JOIN r ON b.book_id=r.book_id\n",
    "         JOIN authors AS a ON b.author_id=a.author_id\n",
    "         GROUP BY a.author\n",
    "         ORDER BY AVG(r.av_r) DESC\n",
    "         LIMIT 1;\n",
    "                '''\n",
    "pd.io.sql.read_sql(query, con = engine)"
   ]
  },
  {
   "cell_type": "markdown",
   "id": "c7ee6fca",
   "metadata": {},
   "source": [
    "Автор с самой высокой средней оценкой книг - 4.3, которому пользователями выставлено 50 и более оценок - J.K. Rowling/Mary GrandPré."
   ]
  },
  {
   "cell_type": "markdown",
   "id": "e1c8cb6a",
   "metadata": {},
   "source": [
    "### Задача 5."
   ]
  },
  {
   "cell_type": "code",
   "execution_count": 18,
   "id": "f44b2ca5",
   "metadata": {},
   "outputs": [
    {
     "data": {
      "text/html": [
       "<div>\n",
       "<style scoped>\n",
       "    .dataframe tbody tr th:only-of-type {\n",
       "        vertical-align: middle;\n",
       "    }\n",
       "\n",
       "    .dataframe tbody tr th {\n",
       "        vertical-align: top;\n",
       "    }\n",
       "\n",
       "    .dataframe thead th {\n",
       "        text-align: right;\n",
       "    }\n",
       "</style>\n",
       "<table border=\"1\" class=\"dataframe\">\n",
       "  <thead>\n",
       "    <tr style=\"text-align: right;\">\n",
       "      <th></th>\n",
       "      <th>avg_counts_reviews</th>\n",
       "    </tr>\n",
       "  </thead>\n",
       "  <tbody>\n",
       "    <tr>\n",
       "      <th>0</th>\n",
       "      <td>24.0</td>\n",
       "    </tr>\n",
       "  </tbody>\n",
       "</table>\n",
       "</div>"
      ],
      "text/plain": [
       "   avg_counts_reviews\n",
       "0                24.0"
      ]
     },
     "execution_count": 18,
     "metadata": {},
     "output_type": "execute_result"
    }
   ],
   "source": [
    "# среднее количество обзоров от пользователей, которые поставили больше 50 оценок\n",
    "query = '''WITH rat_50 AS (SELECT username\n",
    "                             FROM ratings\n",
    "                             GROUP BY username\n",
    "                             HAVING COUNT(rating_id) > 50),\n",
    "                rev_count AS (SELECT COUNT(review_id) AS count,\n",
    "                username\n",
    "                FROM reviews\n",
    "                GROUP BY username)                     \n",
    "SELECT ROUND (AVG(rev_count.count)) AS avg_counts_reviews\n",
    "FROM rat_50 INNER JOIN rev_count ON rat_50.username = rev_count.username;'''\n",
    "\n",
    "pd.io.sql.read_sql(query, con = engine)"
   ]
  },
  {
   "cell_type": "markdown",
   "id": "ceb55074",
   "metadata": {},
   "source": [
    "Среднее количество обзоров от пользователей, которые одновременно поставили больше 50 оценок, - 24."
   ]
  },
  {
   "cell_type": "markdown",
   "id": "0f919f7c",
   "metadata": {},
   "source": [
    "### Вывод\n",
    "- Добавить на стартовой странице приложения книги с высоким рейтингом,\n",
    "- Вывести на главный экран рекомендуемого автора,\n",
    "- Ввести систему поощрений пользователей за написанные обзоры и поставленные оценки,\n",
    "- Промоакции по книгам издательства Penguin Books."
   ]
  }
 ],
 "metadata": {
  "ExecuteTimeLog": [
   {
    "duration": 476,
    "start_time": "2022-09-27T04:57:42.985Z"
   },
   {
    "duration": 8297,
    "start_time": "2022-09-27T04:57:47.800Z"
   },
   {
    "duration": 66,
    "start_time": "2022-09-27T05:14:29.451Z"
   },
   {
    "duration": 3,
    "start_time": "2022-09-27T05:14:41.637Z"
   },
   {
    "duration": 20,
    "start_time": "2022-09-27T05:14:41.643Z"
   },
   {
    "duration": 27,
    "start_time": "2022-09-27T05:14:41.665Z"
   },
   {
    "duration": 93,
    "start_time": "2022-09-27T05:14:41.693Z"
   },
   {
    "duration": 3,
    "start_time": "2022-09-27T05:14:41.788Z"
   },
   {
    "duration": 27,
    "start_time": "2022-09-27T05:14:41.793Z"
   },
   {
    "duration": 3,
    "start_time": "2022-09-27T05:14:41.821Z"
   },
   {
    "duration": 20,
    "start_time": "2022-09-27T05:14:41.826Z"
   },
   {
    "duration": 19,
    "start_time": "2022-09-27T05:14:41.848Z"
   },
   {
    "duration": 49,
    "start_time": "2022-09-27T05:14:41.869Z"
   },
   {
    "duration": 3,
    "start_time": "2022-09-27T05:14:41.920Z"
   },
   {
    "duration": 45,
    "start_time": "2022-09-27T05:14:41.925Z"
   },
   {
    "duration": 11,
    "start_time": "2022-09-27T05:14:47.317Z"
   },
   {
    "duration": 11,
    "start_time": "2022-09-27T05:15:51.470Z"
   },
   {
    "duration": 124,
    "start_time": "2022-09-27T05:16:43.866Z"
   },
   {
    "duration": 116,
    "start_time": "2022-09-27T05:17:19.041Z"
   },
   {
    "duration": 28,
    "start_time": "2022-09-27T05:17:39.918Z"
   },
   {
    "duration": 30,
    "start_time": "2022-09-27T05:18:24.008Z"
   },
   {
    "duration": 33,
    "start_time": "2022-09-27T05:18:46.061Z"
   },
   {
    "duration": 24,
    "start_time": "2022-09-27T05:24:12.945Z"
   },
   {
    "duration": 154,
    "start_time": "2022-09-27T05:24:50.342Z"
   },
   {
    "duration": 25,
    "start_time": "2022-09-27T05:25:50.375Z"
   },
   {
    "duration": 30,
    "start_time": "2022-09-27T05:26:50.237Z"
   },
   {
    "duration": 91,
    "start_time": "2022-09-27T05:38:42.192Z"
   },
   {
    "duration": 89,
    "start_time": "2022-09-27T05:42:27.193Z"
   },
   {
    "duration": 106,
    "start_time": "2022-09-27T05:42:37.631Z"
   },
   {
    "duration": 93,
    "start_time": "2022-09-27T05:56:49.026Z"
   },
   {
    "duration": 96,
    "start_time": "2022-09-27T05:57:07.880Z"
   },
   {
    "duration": 89,
    "start_time": "2022-09-27T05:57:17.416Z"
   },
   {
    "duration": 97,
    "start_time": "2022-09-27T05:58:07.656Z"
   },
   {
    "duration": 97,
    "start_time": "2022-09-27T05:58:27.668Z"
   },
   {
    "duration": 103,
    "start_time": "2022-09-27T05:58:37.681Z"
   },
   {
    "duration": 109,
    "start_time": "2022-09-27T06:00:20.056Z"
   },
   {
    "duration": 16,
    "start_time": "2022-09-27T06:00:35.439Z"
   },
   {
    "duration": 93,
    "start_time": "2022-09-27T06:00:49.156Z"
   },
   {
    "duration": 88,
    "start_time": "2022-09-27T06:01:46.685Z"
   },
   {
    "duration": 99,
    "start_time": "2022-09-27T06:02:54.251Z"
   },
   {
    "duration": 101,
    "start_time": "2022-09-27T06:04:30.241Z"
   },
   {
    "duration": 99,
    "start_time": "2022-09-27T06:05:08.723Z"
   },
   {
    "duration": 95,
    "start_time": "2022-09-27T06:05:52.577Z"
   },
   {
    "duration": 16,
    "start_time": "2022-09-27T06:06:55.425Z"
   },
   {
    "duration": 124,
    "start_time": "2022-09-27T06:14:39.141Z"
   },
   {
    "duration": 115,
    "start_time": "2022-09-27T06:19:56.442Z"
   },
   {
    "duration": 91,
    "start_time": "2022-09-27T06:22:04.524Z"
   },
   {
    "duration": 103,
    "start_time": "2022-09-27T08:18:36.949Z"
   },
   {
    "duration": 130,
    "start_time": "2022-09-27T08:19:13.949Z"
   },
   {
    "duration": 13,
    "start_time": "2022-09-27T08:19:43.054Z"
   },
   {
    "duration": 13,
    "start_time": "2022-09-27T08:20:02.359Z"
   },
   {
    "duration": 14,
    "start_time": "2022-09-27T08:22:13.631Z"
   },
   {
    "duration": 14,
    "start_time": "2022-09-27T08:23:04.495Z"
   },
   {
    "duration": 137,
    "start_time": "2022-09-27T08:42:02.216Z"
   },
   {
    "duration": 107,
    "start_time": "2022-09-27T08:42:09.402Z"
   },
   {
    "duration": 168,
    "start_time": "2022-09-27T08:43:25.198Z"
   },
   {
    "duration": 16,
    "start_time": "2022-09-27T08:43:43.811Z"
   },
   {
    "duration": 94,
    "start_time": "2022-09-27T08:45:12.538Z"
   },
   {
    "duration": 13,
    "start_time": "2022-09-27T08:45:17.292Z"
   },
   {
    "duration": 114,
    "start_time": "2022-09-27T08:48:02.894Z"
   },
   {
    "duration": 93,
    "start_time": "2022-09-27T08:48:57.300Z"
   },
   {
    "duration": 15,
    "start_time": "2022-09-27T08:49:21.157Z"
   },
   {
    "duration": 16,
    "start_time": "2022-09-27T08:49:39.336Z"
   },
   {
    "duration": 101,
    "start_time": "2022-09-27T08:56:05.404Z"
   },
   {
    "duration": 14,
    "start_time": "2022-09-27T08:56:18.944Z"
   },
   {
    "duration": 15,
    "start_time": "2022-09-27T08:57:33.026Z"
   },
   {
    "duration": 115,
    "start_time": "2022-09-27T09:02:18.983Z"
   },
   {
    "duration": 137,
    "start_time": "2022-09-27T09:03:49.731Z"
   },
   {
    "duration": 96,
    "start_time": "2022-09-27T09:08:43.973Z"
   },
   {
    "duration": 92,
    "start_time": "2022-09-27T09:09:12.513Z"
   },
   {
    "duration": 98,
    "start_time": "2022-09-27T09:12:59.653Z"
   },
   {
    "duration": 26,
    "start_time": "2022-09-27T09:13:18.545Z"
   },
   {
    "duration": 27,
    "start_time": "2022-09-27T09:13:57.972Z"
   },
   {
    "duration": 29,
    "start_time": "2022-09-27T09:14:54.745Z"
   },
   {
    "duration": 30,
    "start_time": "2022-09-27T09:15:38.398Z"
   },
   {
    "duration": 30,
    "start_time": "2022-09-27T09:16:02.072Z"
   },
   {
    "duration": 3,
    "start_time": "2022-09-27T09:16:58.725Z"
   },
   {
    "duration": 860,
    "start_time": "2022-09-27T09:17:15.079Z"
   },
   {
    "duration": 170,
    "start_time": "2022-09-27T09:21:45.534Z"
   },
   {
    "duration": 32,
    "start_time": "2022-09-27T09:22:07.548Z"
   },
   {
    "duration": 120,
    "start_time": "2022-09-27T09:23:15.209Z"
   },
   {
    "duration": 28,
    "start_time": "2022-09-27T09:23:22.505Z"
   },
   {
    "duration": 97,
    "start_time": "2022-09-27T09:25:29.006Z"
   },
   {
    "duration": 92,
    "start_time": "2022-09-27T09:26:07.328Z"
   },
   {
    "duration": 27,
    "start_time": "2022-09-27T09:34:48.860Z"
   },
   {
    "duration": 28,
    "start_time": "2022-09-27T09:35:42.999Z"
   },
   {
    "duration": 25,
    "start_time": "2022-09-27T09:36:02.343Z"
   },
   {
    "duration": 676,
    "start_time": "2022-09-27T09:39:15.561Z"
   },
   {
    "duration": 101,
    "start_time": "2022-09-27T09:50:38.436Z"
   },
   {
    "duration": 112,
    "start_time": "2022-09-27T09:50:50.038Z"
   },
   {
    "duration": 96,
    "start_time": "2022-09-27T09:50:51.805Z"
   },
   {
    "duration": 16,
    "start_time": "2022-09-27T09:51:14.057Z"
   },
   {
    "duration": 13,
    "start_time": "2022-09-27T09:52:18.759Z"
   },
   {
    "duration": 473,
    "start_time": "2022-09-27T09:53:46.049Z"
   },
   {
    "duration": 8512,
    "start_time": "2022-09-27T09:53:46.524Z"
   },
   {
    "duration": 3,
    "start_time": "2022-09-27T09:53:55.037Z"
   },
   {
    "duration": 72,
    "start_time": "2022-09-27T09:53:55.042Z"
   },
   {
    "duration": 10,
    "start_time": "2022-09-27T09:53:55.115Z"
   },
   {
    "duration": 5,
    "start_time": "2022-09-27T09:53:55.127Z"
   },
   {
    "duration": 22,
    "start_time": "2022-09-27T09:53:55.134Z"
   },
   {
    "duration": 9,
    "start_time": "2022-09-27T09:53:55.157Z"
   },
   {
    "duration": 34,
    "start_time": "2022-09-27T09:53:55.168Z"
   },
   {
    "duration": 12,
    "start_time": "2022-09-27T09:53:55.204Z"
   },
   {
    "duration": 57,
    "start_time": "2022-09-27T09:53:55.217Z"
   },
   {
    "duration": 2,
    "start_time": "2022-09-27T09:53:55.275Z"
   },
   {
    "duration": 30,
    "start_time": "2022-09-27T09:53:55.279Z"
   },
   {
    "duration": 9,
    "start_time": "2022-09-27T09:53:55.310Z"
   },
   {
    "duration": 664,
    "start_time": "2022-09-27T09:53:55.320Z"
   },
   {
    "duration": 10,
    "start_time": "2022-09-27T09:53:55.986Z"
   },
   {
    "duration": 37,
    "start_time": "2022-09-27T09:53:55.997Z"
   },
   {
    "duration": 44,
    "start_time": "2022-09-27T09:53:56.036Z"
   }
  ],
  "kernelspec": {
   "display_name": "Python 3 (ipykernel)",
   "language": "python",
   "name": "python3"
  },
  "language_info": {
   "codemirror_mode": {
    "name": "ipython",
    "version": 3
   },
   "file_extension": ".py",
   "mimetype": "text/x-python",
   "name": "python",
   "nbconvert_exporter": "python",
   "pygments_lexer": "ipython3",
   "version": "3.9.5"
  },
  "toc": {
   "base_numbering": 1,
   "nav_menu": {},
   "number_sections": true,
   "sideBar": true,
   "skip_h1_title": true,
   "title_cell": "Table of Contents",
   "title_sidebar": "Contents",
   "toc_cell": false,
   "toc_position": {},
   "toc_section_display": true,
   "toc_window_display": true
  }
 },
 "nbformat": 4,
 "nbformat_minor": 5
}
