{
 "cells": [
  {
   "cell_type": "markdown",
   "metadata": {},
   "source": [
    "## Проект \"Прогнозирование поведения клиентов фитнес-центра\""
   ]
  },
  {
   "cell_type": "markdown",
   "metadata": {},
   "source": [
    "Данный проект выполнен на основе данных из анкет посетителей фитнес-центра \"Культурист-датасаентист\" с целью оценки вероятности оттока посетителей и определения мер по улучшению коммуникации с посетителями.\n",
    "В исходном датафрейме содержится следующая информация:\n",
    "##### Данные клиента за предыдущий до проверки факта оттока месяц:\n",
    "- 'gender' — пол;\n",
    "- 'Near_Location' — проживание или работа в районе, где находится фитнес-центр;\n",
    "- 'Partner' — сотрудник компании-партнёра клуба (сотрудничество с компаниями, чьи сотрудники могут получать скидки на абонемент — в таком случае фитнес-центр хранит информацию о работодателе клиента);\n",
    "- Promo_friends — факт первоначальной записи в рамках акции «приведи друга» (использовал промо-код от знакомого при оплате первого абонемента);\n",
    "- 'Phone' — наличие контактного телефона;\n",
    "- 'Age' — возраст;\n",
    "- 'Lifetime' — время с момента первого обращения в фитнес-центр (в месяцах).\n",
    "##### Информация на основе журнала посещений, покупок и информация о текущем статусе абонемента клиента:\n",
    "- 'Contract_period' — длительность текущего действующего абонемента (месяц, 6 месяцев, год);\n",
    "- 'Month_to_end_contract' — срок до окончания текущего действующего абонемента (в месяцах);\n",
    "- 'Group_visits' — факт посещения групповых занятий;\n",
    "- 'Avg_class_frequency_total' — средняя частота посещений в неделю за все время с начала действия абонемента;\n",
    "- 'Avg_class_frequency_current_month' — средняя частота посещений в неделю за предыдущий месяц;\n",
    "- 'Avg_additional_charges_total' — суммарная выручка от других услуг фитнес-центра: кафе, спорттовары, косметический и массажный салон.\n",
    "- 'Churn' — факт оттока в текущем месяце."
   ]
  },
  {
   "cell_type": "markdown",
   "metadata": {},
   "source": [
    "### Загрузка данных"
   ]
  },
  {
   "cell_type": "code",
   "execution_count": 9,
   "metadata": {},
   "outputs": [],
   "source": [
    "#импортируем необходимые библиотеки\n",
    "import pandas as pd\n",
    "\n",
    "import seaborn as sns\n",
    "import matplotlib.pyplot as plt\n",
    "\n",
    "from sklearn.model_selection import train_test_split\n",
    "from sklearn.linear_model import LogisticRegression\n",
    "from sklearn.preprocessing import StandardScaler\n",
    "from sklearn.metrics import accuracy_score, precision_score, recall_score, f1_score\n",
    "from sklearn.ensemble import RandomForestClassifier\n",
    "from sklearn.cluster import KMeans\n",
    "from scipy.cluster.hierarchy import dendrogram, linkage \n",
    "\n",
    "import itertools"
   ]
  },
  {
   "cell_type": "code",
   "execution_count": 10,
   "metadata": {},
   "outputs": [
    {
     "data": {
      "text/html": [
       "<div>\n",
       "<style scoped>\n",
       "    .dataframe tbody tr th:only-of-type {\n",
       "        vertical-align: middle;\n",
       "    }\n",
       "\n",
       "    .dataframe tbody tr th {\n",
       "        vertical-align: top;\n",
       "    }\n",
       "\n",
       "    .dataframe thead th {\n",
       "        text-align: right;\n",
       "    }\n",
       "</style>\n",
       "<table border=\"1\" class=\"dataframe\">\n",
       "  <thead>\n",
       "    <tr style=\"text-align: right;\">\n",
       "      <th></th>\n",
       "      <th>gender</th>\n",
       "      <th>Near_Location</th>\n",
       "      <th>Partner</th>\n",
       "      <th>Promo_friends</th>\n",
       "      <th>Phone</th>\n",
       "      <th>Contract_period</th>\n",
       "      <th>Group_visits</th>\n",
       "      <th>Age</th>\n",
       "      <th>Avg_additional_charges_total</th>\n",
       "      <th>Month_to_end_contract</th>\n",
       "      <th>Lifetime</th>\n",
       "      <th>Avg_class_frequency_total</th>\n",
       "      <th>Avg_class_frequency_current_month</th>\n",
       "      <th>Churn</th>\n",
       "    </tr>\n",
       "  </thead>\n",
       "  <tbody>\n",
       "    <tr>\n",
       "      <th>0</th>\n",
       "      <td>1</td>\n",
       "      <td>1</td>\n",
       "      <td>1</td>\n",
       "      <td>1</td>\n",
       "      <td>0</td>\n",
       "      <td>6</td>\n",
       "      <td>1</td>\n",
       "      <td>29</td>\n",
       "      <td>14.227470</td>\n",
       "      <td>5.0</td>\n",
       "      <td>3</td>\n",
       "      <td>0.020398</td>\n",
       "      <td>0.000000</td>\n",
       "      <td>0</td>\n",
       "    </tr>\n",
       "    <tr>\n",
       "      <th>1</th>\n",
       "      <td>0</td>\n",
       "      <td>1</td>\n",
       "      <td>0</td>\n",
       "      <td>0</td>\n",
       "      <td>1</td>\n",
       "      <td>12</td>\n",
       "      <td>1</td>\n",
       "      <td>31</td>\n",
       "      <td>113.202938</td>\n",
       "      <td>12.0</td>\n",
       "      <td>7</td>\n",
       "      <td>1.922936</td>\n",
       "      <td>1.910244</td>\n",
       "      <td>0</td>\n",
       "    </tr>\n",
       "    <tr>\n",
       "      <th>2</th>\n",
       "      <td>0</td>\n",
       "      <td>1</td>\n",
       "      <td>1</td>\n",
       "      <td>0</td>\n",
       "      <td>1</td>\n",
       "      <td>1</td>\n",
       "      <td>0</td>\n",
       "      <td>28</td>\n",
       "      <td>129.448479</td>\n",
       "      <td>1.0</td>\n",
       "      <td>2</td>\n",
       "      <td>1.859098</td>\n",
       "      <td>1.736502</td>\n",
       "      <td>0</td>\n",
       "    </tr>\n",
       "    <tr>\n",
       "      <th>3</th>\n",
       "      <td>0</td>\n",
       "      <td>1</td>\n",
       "      <td>1</td>\n",
       "      <td>1</td>\n",
       "      <td>1</td>\n",
       "      <td>12</td>\n",
       "      <td>1</td>\n",
       "      <td>33</td>\n",
       "      <td>62.669863</td>\n",
       "      <td>12.0</td>\n",
       "      <td>2</td>\n",
       "      <td>3.205633</td>\n",
       "      <td>3.357215</td>\n",
       "      <td>0</td>\n",
       "    </tr>\n",
       "    <tr>\n",
       "      <th>4</th>\n",
       "      <td>1</td>\n",
       "      <td>1</td>\n",
       "      <td>1</td>\n",
       "      <td>1</td>\n",
       "      <td>1</td>\n",
       "      <td>1</td>\n",
       "      <td>0</td>\n",
       "      <td>26</td>\n",
       "      <td>198.362265</td>\n",
       "      <td>1.0</td>\n",
       "      <td>3</td>\n",
       "      <td>1.113884</td>\n",
       "      <td>1.120078</td>\n",
       "      <td>0</td>\n",
       "    </tr>\n",
       "  </tbody>\n",
       "</table>\n",
       "</div>"
      ],
      "text/plain": [
       "   gender  Near_Location  Partner  Promo_friends  Phone  Contract_period  \\\n",
       "0       1              1        1              1      0                6   \n",
       "1       0              1        0              0      1               12   \n",
       "2       0              1        1              0      1                1   \n",
       "3       0              1        1              1      1               12   \n",
       "4       1              1        1              1      1                1   \n",
       "\n",
       "   Group_visits  Age  Avg_additional_charges_total  Month_to_end_contract  \\\n",
       "0             1   29                     14.227470                    5.0   \n",
       "1             1   31                    113.202938                   12.0   \n",
       "2             0   28                    129.448479                    1.0   \n",
       "3             1   33                     62.669863                   12.0   \n",
       "4             0   26                    198.362265                    1.0   \n",
       "\n",
       "   Lifetime  Avg_class_frequency_total  Avg_class_frequency_current_month  \\\n",
       "0         3                   0.020398                           0.000000   \n",
       "1         7                   1.922936                           1.910244   \n",
       "2         2                   1.859098                           1.736502   \n",
       "3         2                   3.205633                           3.357215   \n",
       "4         3                   1.113884                           1.120078   \n",
       "\n",
       "   Churn  \n",
       "0      0  \n",
       "1      0  \n",
       "2      0  \n",
       "3      0  \n",
       "4      0  "
      ]
     },
     "execution_count": 10,
     "metadata": {},
     "output_type": "execute_result"
    }
   ],
   "source": [
    "#загрузим данные\n",
    "data = pd.read_csv('/datasets/gym_churn.csv')\n",
    "data.head()"
   ]
  },
  {
   "cell_type": "markdown",
   "metadata": {},
   "source": [
    "### Исследовательский анализ данных"
   ]
  },
  {
   "cell_type": "code",
   "execution_count": 11,
   "metadata": {},
   "outputs": [
    {
     "data": {
      "text/html": [
       "<div>\n",
       "<style scoped>\n",
       "    .dataframe tbody tr th:only-of-type {\n",
       "        vertical-align: middle;\n",
       "    }\n",
       "\n",
       "    .dataframe tbody tr th {\n",
       "        vertical-align: top;\n",
       "    }\n",
       "\n",
       "    .dataframe thead th {\n",
       "        text-align: right;\n",
       "    }\n",
       "</style>\n",
       "<table border=\"1\" class=\"dataframe\">\n",
       "  <thead>\n",
       "    <tr style=\"text-align: right;\">\n",
       "      <th></th>\n",
       "      <th>gender</th>\n",
       "      <th>Near_Location</th>\n",
       "      <th>Partner</th>\n",
       "      <th>Promo_friends</th>\n",
       "      <th>Phone</th>\n",
       "      <th>Contract_period</th>\n",
       "      <th>Group_visits</th>\n",
       "      <th>Age</th>\n",
       "      <th>Avg_additional_charges_total</th>\n",
       "      <th>Month_to_end_contract</th>\n",
       "      <th>Lifetime</th>\n",
       "      <th>Avg_class_frequency_total</th>\n",
       "      <th>Avg_class_frequency_current_month</th>\n",
       "      <th>Churn</th>\n",
       "    </tr>\n",
       "  </thead>\n",
       "  <tbody>\n",
       "    <tr>\n",
       "      <th>count</th>\n",
       "      <td>4000.000000</td>\n",
       "      <td>4000.000000</td>\n",
       "      <td>4000.000000</td>\n",
       "      <td>4000.000000</td>\n",
       "      <td>4000.000000</td>\n",
       "      <td>4000.000000</td>\n",
       "      <td>4000.000000</td>\n",
       "      <td>4000.000000</td>\n",
       "      <td>4000.000000</td>\n",
       "      <td>4000.000000</td>\n",
       "      <td>4000.000000</td>\n",
       "      <td>4000.000000</td>\n",
       "      <td>4000.000000</td>\n",
       "      <td>4000.000000</td>\n",
       "    </tr>\n",
       "    <tr>\n",
       "      <th>mean</th>\n",
       "      <td>0.510250</td>\n",
       "      <td>0.845250</td>\n",
       "      <td>0.486750</td>\n",
       "      <td>0.308500</td>\n",
       "      <td>0.903500</td>\n",
       "      <td>4.681250</td>\n",
       "      <td>0.412250</td>\n",
       "      <td>29.184250</td>\n",
       "      <td>146.943728</td>\n",
       "      <td>4.322750</td>\n",
       "      <td>3.724750</td>\n",
       "      <td>1.879020</td>\n",
       "      <td>1.767052</td>\n",
       "      <td>0.265250</td>\n",
       "    </tr>\n",
       "    <tr>\n",
       "      <th>std</th>\n",
       "      <td>0.499957</td>\n",
       "      <td>0.361711</td>\n",
       "      <td>0.499887</td>\n",
       "      <td>0.461932</td>\n",
       "      <td>0.295313</td>\n",
       "      <td>4.549706</td>\n",
       "      <td>0.492301</td>\n",
       "      <td>3.258367</td>\n",
       "      <td>96.355602</td>\n",
       "      <td>4.191297</td>\n",
       "      <td>3.749267</td>\n",
       "      <td>0.972245</td>\n",
       "      <td>1.052906</td>\n",
       "      <td>0.441521</td>\n",
       "    </tr>\n",
       "    <tr>\n",
       "      <th>min</th>\n",
       "      <td>0.000000</td>\n",
       "      <td>0.000000</td>\n",
       "      <td>0.000000</td>\n",
       "      <td>0.000000</td>\n",
       "      <td>0.000000</td>\n",
       "      <td>1.000000</td>\n",
       "      <td>0.000000</td>\n",
       "      <td>18.000000</td>\n",
       "      <td>0.148205</td>\n",
       "      <td>1.000000</td>\n",
       "      <td>0.000000</td>\n",
       "      <td>0.000000</td>\n",
       "      <td>0.000000</td>\n",
       "      <td>0.000000</td>\n",
       "    </tr>\n",
       "    <tr>\n",
       "      <th>25%</th>\n",
       "      <td>0.000000</td>\n",
       "      <td>1.000000</td>\n",
       "      <td>0.000000</td>\n",
       "      <td>0.000000</td>\n",
       "      <td>1.000000</td>\n",
       "      <td>1.000000</td>\n",
       "      <td>0.000000</td>\n",
       "      <td>27.000000</td>\n",
       "      <td>68.868830</td>\n",
       "      <td>1.000000</td>\n",
       "      <td>1.000000</td>\n",
       "      <td>1.180875</td>\n",
       "      <td>0.963003</td>\n",
       "      <td>0.000000</td>\n",
       "    </tr>\n",
       "    <tr>\n",
       "      <th>50%</th>\n",
       "      <td>1.000000</td>\n",
       "      <td>1.000000</td>\n",
       "      <td>0.000000</td>\n",
       "      <td>0.000000</td>\n",
       "      <td>1.000000</td>\n",
       "      <td>1.000000</td>\n",
       "      <td>0.000000</td>\n",
       "      <td>29.000000</td>\n",
       "      <td>136.220159</td>\n",
       "      <td>1.000000</td>\n",
       "      <td>3.000000</td>\n",
       "      <td>1.832768</td>\n",
       "      <td>1.719574</td>\n",
       "      <td>0.000000</td>\n",
       "    </tr>\n",
       "    <tr>\n",
       "      <th>75%</th>\n",
       "      <td>1.000000</td>\n",
       "      <td>1.000000</td>\n",
       "      <td>1.000000</td>\n",
       "      <td>1.000000</td>\n",
       "      <td>1.000000</td>\n",
       "      <td>6.000000</td>\n",
       "      <td>1.000000</td>\n",
       "      <td>31.000000</td>\n",
       "      <td>210.949625</td>\n",
       "      <td>6.000000</td>\n",
       "      <td>5.000000</td>\n",
       "      <td>2.536078</td>\n",
       "      <td>2.510336</td>\n",
       "      <td>1.000000</td>\n",
       "    </tr>\n",
       "    <tr>\n",
       "      <th>max</th>\n",
       "      <td>1.000000</td>\n",
       "      <td>1.000000</td>\n",
       "      <td>1.000000</td>\n",
       "      <td>1.000000</td>\n",
       "      <td>1.000000</td>\n",
       "      <td>12.000000</td>\n",
       "      <td>1.000000</td>\n",
       "      <td>41.000000</td>\n",
       "      <td>552.590740</td>\n",
       "      <td>12.000000</td>\n",
       "      <td>31.000000</td>\n",
       "      <td>6.023668</td>\n",
       "      <td>6.146783</td>\n",
       "      <td>1.000000</td>\n",
       "    </tr>\n",
       "  </tbody>\n",
       "</table>\n",
       "</div>"
      ],
      "text/plain": [
       "            gender  Near_Location      Partner  Promo_friends        Phone  \\\n",
       "count  4000.000000    4000.000000  4000.000000    4000.000000  4000.000000   \n",
       "mean      0.510250       0.845250     0.486750       0.308500     0.903500   \n",
       "std       0.499957       0.361711     0.499887       0.461932     0.295313   \n",
       "min       0.000000       0.000000     0.000000       0.000000     0.000000   \n",
       "25%       0.000000       1.000000     0.000000       0.000000     1.000000   \n",
       "50%       1.000000       1.000000     0.000000       0.000000     1.000000   \n",
       "75%       1.000000       1.000000     1.000000       1.000000     1.000000   \n",
       "max       1.000000       1.000000     1.000000       1.000000     1.000000   \n",
       "\n",
       "       Contract_period  Group_visits          Age  \\\n",
       "count      4000.000000   4000.000000  4000.000000   \n",
       "mean          4.681250      0.412250    29.184250   \n",
       "std           4.549706      0.492301     3.258367   \n",
       "min           1.000000      0.000000    18.000000   \n",
       "25%           1.000000      0.000000    27.000000   \n",
       "50%           1.000000      0.000000    29.000000   \n",
       "75%           6.000000      1.000000    31.000000   \n",
       "max          12.000000      1.000000    41.000000   \n",
       "\n",
       "       Avg_additional_charges_total  Month_to_end_contract     Lifetime  \\\n",
       "count                   4000.000000            4000.000000  4000.000000   \n",
       "mean                     146.943728               4.322750     3.724750   \n",
       "std                       96.355602               4.191297     3.749267   \n",
       "min                        0.148205               1.000000     0.000000   \n",
       "25%                       68.868830               1.000000     1.000000   \n",
       "50%                      136.220159               1.000000     3.000000   \n",
       "75%                      210.949625               6.000000     5.000000   \n",
       "max                      552.590740              12.000000    31.000000   \n",
       "\n",
       "       Avg_class_frequency_total  Avg_class_frequency_current_month  \\\n",
       "count                4000.000000                        4000.000000   \n",
       "mean                    1.879020                           1.767052   \n",
       "std                     0.972245                           1.052906   \n",
       "min                     0.000000                           0.000000   \n",
       "25%                     1.180875                           0.963003   \n",
       "50%                     1.832768                           1.719574   \n",
       "75%                     2.536078                           2.510336   \n",
       "max                     6.023668                           6.146783   \n",
       "\n",
       "             Churn  \n",
       "count  4000.000000  \n",
       "mean      0.265250  \n",
       "std       0.441521  \n",
       "min       0.000000  \n",
       "25%       0.000000  \n",
       "50%       0.000000  \n",
       "75%       1.000000  \n",
       "max       1.000000  "
      ]
     },
     "execution_count": 11,
     "metadata": {},
     "output_type": "execute_result"
    }
   ],
   "source": [
    "#изучим структуру данных\n",
    "data.describe()"
   ]
  },
  {
   "cell_type": "code",
   "execution_count": 12,
   "metadata": {},
   "outputs": [
    {
     "name": "stdout",
     "output_type": "stream",
     "text": [
      "<class 'pandas.core.frame.DataFrame'>\n",
      "RangeIndex: 4000 entries, 0 to 3999\n",
      "Data columns (total 14 columns):\n",
      " #   Column                             Non-Null Count  Dtype  \n",
      "---  ------                             --------------  -----  \n",
      " 0   gender                             4000 non-null   int64  \n",
      " 1   Near_Location                      4000 non-null   int64  \n",
      " 2   Partner                            4000 non-null   int64  \n",
      " 3   Promo_friends                      4000 non-null   int64  \n",
      " 4   Phone                              4000 non-null   int64  \n",
      " 5   Contract_period                    4000 non-null   int64  \n",
      " 6   Group_visits                       4000 non-null   int64  \n",
      " 7   Age                                4000 non-null   int64  \n",
      " 8   Avg_additional_charges_total       4000 non-null   float64\n",
      " 9   Month_to_end_contract              4000 non-null   float64\n",
      " 10  Lifetime                           4000 non-null   int64  \n",
      " 11  Avg_class_frequency_total          4000 non-null   float64\n",
      " 12  Avg_class_frequency_current_month  4000 non-null   float64\n",
      " 13  Churn                              4000 non-null   int64  \n",
      "dtypes: float64(4), int64(10)\n",
      "memory usage: 437.6 KB\n"
     ]
    }
   ],
   "source": [
    "#изучим отсутствующие значения\n",
    "data.info()"
   ]
  },
  {
   "cell_type": "markdown",
   "metadata": {},
   "source": [
    "Пропусков в данных нет. Большая часть признаков разделена согласно бинарной классификации."
   ]
  },
  {
   "cell_type": "code",
   "execution_count": 13,
   "metadata": {},
   "outputs": [
    {
     "data": {
      "text/plain": [
       "array([0, 1])"
      ]
     },
     "execution_count": 13,
     "metadata": {},
     "output_type": "execute_result"
    }
   ],
   "source": [
    "data['Churn'].unique()"
   ]
  },
  {
   "cell_type": "code",
   "execution_count": 14,
   "metadata": {
    "scrolled": true
   },
   "outputs": [
    {
     "data": {
      "text/html": [
       "<div>\n",
       "<style scoped>\n",
       "    .dataframe tbody tr th:only-of-type {\n",
       "        vertical-align: middle;\n",
       "    }\n",
       "\n",
       "    .dataframe tbody tr th {\n",
       "        vertical-align: top;\n",
       "    }\n",
       "\n",
       "    .dataframe thead th {\n",
       "        text-align: right;\n",
       "    }\n",
       "</style>\n",
       "<table border=\"1\" class=\"dataframe\">\n",
       "  <thead>\n",
       "    <tr style=\"text-align: right;\">\n",
       "      <th></th>\n",
       "      <th>gender</th>\n",
       "      <th>Near_Location</th>\n",
       "      <th>Partner</th>\n",
       "      <th>Promo_friends</th>\n",
       "      <th>Phone</th>\n",
       "      <th>Contract_period</th>\n",
       "      <th>Group_visits</th>\n",
       "      <th>Age</th>\n",
       "      <th>Avg_additional_charges_total</th>\n",
       "      <th>Month_to_end_contract</th>\n",
       "      <th>Lifetime</th>\n",
       "      <th>Avg_class_frequency_total</th>\n",
       "      <th>Avg_class_frequency_current_month</th>\n",
       "    </tr>\n",
       "    <tr>\n",
       "      <th>Churn</th>\n",
       "      <th></th>\n",
       "      <th></th>\n",
       "      <th></th>\n",
       "      <th></th>\n",
       "      <th></th>\n",
       "      <th></th>\n",
       "      <th></th>\n",
       "      <th></th>\n",
       "      <th></th>\n",
       "      <th></th>\n",
       "      <th></th>\n",
       "      <th></th>\n",
       "      <th></th>\n",
       "    </tr>\n",
       "  </thead>\n",
       "  <tbody>\n",
       "    <tr>\n",
       "      <th>0</th>\n",
       "      <td>0.510037</td>\n",
       "      <td>0.873086</td>\n",
       "      <td>0.534195</td>\n",
       "      <td>0.353522</td>\n",
       "      <td>0.903709</td>\n",
       "      <td>5.747193</td>\n",
       "      <td>0.464103</td>\n",
       "      <td>29.976523</td>\n",
       "      <td>158.445715</td>\n",
       "      <td>5.283089</td>\n",
       "      <td>4.711807</td>\n",
       "      <td>2.024876</td>\n",
       "      <td>2.027882</td>\n",
       "    </tr>\n",
       "    <tr>\n",
       "      <th>1</th>\n",
       "      <td>0.510839</td>\n",
       "      <td>0.768143</td>\n",
       "      <td>0.355325</td>\n",
       "      <td>0.183789</td>\n",
       "      <td>0.902922</td>\n",
       "      <td>1.728558</td>\n",
       "      <td>0.268615</td>\n",
       "      <td>26.989632</td>\n",
       "      <td>115.082899</td>\n",
       "      <td>1.662582</td>\n",
       "      <td>0.990575</td>\n",
       "      <td>1.474995</td>\n",
       "      <td>1.044546</td>\n",
       "    </tr>\n",
       "  </tbody>\n",
       "</table>\n",
       "</div>"
      ],
      "text/plain": [
       "         gender  Near_Location   Partner  Promo_friends     Phone  \\\n",
       "Churn                                                               \n",
       "0      0.510037       0.873086  0.534195       0.353522  0.903709   \n",
       "1      0.510839       0.768143  0.355325       0.183789  0.902922   \n",
       "\n",
       "       Contract_period  Group_visits        Age  Avg_additional_charges_total  \\\n",
       "Churn                                                                           \n",
       "0             5.747193      0.464103  29.976523                    158.445715   \n",
       "1             1.728558      0.268615  26.989632                    115.082899   \n",
       "\n",
       "       Month_to_end_contract  Lifetime  Avg_class_frequency_total  \\\n",
       "Churn                                                               \n",
       "0                   5.283089  4.711807                   2.024876   \n",
       "1                   1.662582  0.990575                   1.474995   \n",
       "\n",
       "       Avg_class_frequency_current_month  \n",
       "Churn                                     \n",
       "0                               2.027882  \n",
       "1                               1.044546  "
      ]
     },
     "execution_count": 14,
     "metadata": {},
     "output_type": "execute_result"
    }
   ],
   "source": [
    "#сгруппируем клиентов по признаку оттока и оценим средние значения признаков\n",
    "data_churn = data.groupby(['Churn']).mean()\n",
    "data_churn"
   ]
  },
  {
   "cell_type": "code",
   "execution_count": 15,
   "metadata": {},
   "outputs": [
    {
     "data": {
      "image/png": "[encoded data removed]",
      "text/plain": [
       "<Figure size 432x288 with 1 Axes>"
      ]
     },
     "metadata": {
      "needs_background": "light"
     },
     "output_type": "display_data"
    },
    {
     "data": {
      "image/png": "[encoded data removed]",
      "text/plain": [
       "<Figure size 432x288 with 1 Axes>"
      ]
     },
     "metadata": {
      "needs_background": "light"
     },
     "output_type": "display_data"
    },
    {
     "data": {
      "image/png": "[encoded data removed]",
      "text/plain": [
       "<Figure size 432x288 with 1 Axes>"
      ]
     },
     "metadata": {
      "needs_background": "light"
     },
     "output_type": "display_data"
    },
    {
     "data": {
      "image/png": "[encoded data removed]",
      "text/plain": [
       "<Figure size 432x288 with 1 Axes>"
      ]
     },
     "metadata": {
      "needs_background": "light"
     },
     "output_type": "display_data"
    },
    {
     "data": {
      "image/png": "[encoded data removed]",
      "text/plain": [
       "<Figure size 432x288 with 1 Axes>"
      ]
     },
     "metadata": {
      "needs_background": "light"
     },
     "output_type": "display_data"
    },
    {
     "data": {
      "image/png": "[encoded data removed]",
      "text/plain": [
       "<Figure size 432x288 with 1 Axes>"
      ]
     },
     "metadata": {
      "needs_background": "light"
     },
     "output_type": "display_data"
    },
    {
     "data": {
      "image/png": "[encoded data removed]",
      "text/plain": [
       "<Figure size 432x288 with 1 Axes>"
      ]
     },
     "metadata": {
      "needs_background": "light"
     },
     "output_type": "display_data"
    },
    {
     "data": {
      "image/png": "[encoded data removed]",
      "text/plain": [
       "<Figure size 432x288 with 1 Axes>"
      ]
     },
     "metadata": {
      "needs_background": "light"
     },
     "output_type": "display_data"
    },
    {
     "data": {
      "image/png": "[encoded data removed]",
      "text/plain": [
       "<Figure size 432x288 with 1 Axes>"
      ]
     },
     "metadata": {
      "needs_background": "light"
     },
     "output_type": "display_data"
    },
    {
     "data": {
      "image/png": "[encoded data removed]",
      "text/plain": [
       "<Figure size 432x288 with 1 Axes>"
      ]
     },
     "metadata": {
      "needs_background": "light"
     },
     "output_type": "display_data"
    },
    {
     "data": {
      "image/png": "[encoded data removed]",
      "text/plain": [
       "<Figure size 432x288 with 1 Axes>"
      ]
     },
     "metadata": {
      "needs_background": "light"
     },
     "output_type": "display_data"
    },
    {
     "data": {
      "image/png": "[encoded data removed]",
      "text/plain": [
       "<Figure size 432x288 with 1 Axes>"
      ]
     },
     "metadata": {
      "needs_background": "light"
     },
     "output_type": "display_data"
    },
    {
     "data": {
      "image/png": "[encoded data removed]",
      "text/plain": [
       "<Figure size 432x288 with 1 Axes>"
      ]
     },
     "metadata": {
      "needs_background": "light"
     },
     "output_type": "display_data"
    }
   ],
   "source": [
    "#построим столбчатые диаграммы для всех признаков\n",
    "for col in data.drop('Churn', axis = 1).columns:\n",
    "    sns.barplot(x=data[col], y=data['Churn'])\n",
    "    plt.show()"
   ]
  },
  {
   "cell_type": "markdown",
   "metadata": {},
   "source": [
    "По диаграммам можно предварительно определить признаки, которые дают положительную динамику посещаемости: \n",
    "- близость посещаемого фитнес-центра от места проживания, \n",
    "- посещение клуба в рамках партнерской программы (со скидкой), \n",
    "- первое посещение в рамках акции \"приведи друга\" (со скидкой), \n",
    "- долгая продолжительность посещения (при посещении около года значение оттока близко  к нулю),\n",
    "- чем старше возраст клиента, тем меньше вероятность его \"оттока\",\n",
    "- посещение групповых занятий."
   ]
  },
  {
   "cell_type": "code",
   "execution_count": 19,
   "metadata": {},
   "outputs": [
    {
     "data": {
      "image/png": "[encoded data removed]",
      "text/plain": [
       "<Figure size 720x720 with 2 Axes>"
      ]
     },
     "metadata": {
      "needs_background": "light"
     },
     "output_type": "display_data"
    }
   ],
   "source": [
    "#построим матрицу корреляций признаков и визуализируем её:\n",
    "cm = data.corr() #вычисляем матрицу корреляций\n",
    "plt.figure(figsize=(10, 10)) \n",
    "\n",
    "#нарисуем тепловую карту с подписями для матрицы корреляций\n",
    "sns.heatmap(cm, annot = True, square = True)#ваш код здесь\n",
    "ax.set_ylim(\n",
    "    7, 0\n",
    ")  # корректировка \"рваных\" полей heatmap в последней версии библиотеки\n",
    "\n",
    "plt.show()"
   ]
  },
  {
   "cell_type": "markdown",
   "metadata": {},
   "source": [
    "У целевой переменной \"Churn\" слабая корреляция с остальными признаками."
   ]
  },
  {
   "cell_type": "markdown",
   "metadata": {},
   "source": [
    "### Модель прогнозирования оттока клиентов"
   ]
  },
  {
   "cell_type": "code",
   "execution_count": null,
   "metadata": {},
   "outputs": [],
   "source": [
    "# разделяем данные на признаки (матрица X) и целевую переменную (y)\n",
    "X = data.drop('Churn', axis = 1)\n",
    "y = data['Churn']"
   ]
  },
  {
   "cell_type": "code",
   "execution_count": null,
   "metadata": {},
   "outputs": [],
   "source": [
    "# разделяем модель на обучающую и валидационную выборку\n",
    "X_train, X_test, y_train, y_test = train_test_split(X, y, test_size=0.2, random_state=0)"
   ]
  },
  {
   "cell_type": "code",
   "execution_count": null,
   "metadata": {},
   "outputs": [],
   "source": [
    "#создадим функцию для расчета метрик\n",
    "def metrics(m, y_true, predictions):\n",
    "    model = m\n",
    "    model.fit(X_train, y_train)\n",
    "    probabilities = model.predict_proba(X_test)[:,1]\n",
    "    predictions = model.predict(X_test)\n",
    "    print ('Accuracy : {:.2f}'.format(accuracy_score(y_true, predictions)),\n",
    "           'Precision: {:.2f}'.format(precision_score(y_true, predictions)),\n",
    "           'Recall: {:.2f}'.format(recall_score(y_true, predictions)),\n",
    "           'F1: {:.2f}.' .format(f1_score(y_true, predictions))\n",
    "          )"
   ]
  },
  {
   "cell_type": "code",
   "execution_count": null,
   "metadata": {},
   "outputs": [],
   "source": [
    "#рассчитаем метрики для алгоритма \"логистическая регрессия\"\n",
    "metrics((LogisticRegression(solver = 'liblinear',random_state = 0)), y_test, predictions)"
   ]
  },
  {
   "cell_type": "code",
   "execution_count": null,
   "metadata": {},
   "outputs": [],
   "source": [
    "#рассчитаем метрики для адгоритма \"случайный лес\"\n",
    "metrics((RandomForestClassifier(n_estimators = 100, random_state = 0)), y_test, predictions)"
   ]
  },
  {
   "cell_type": "markdown",
   "metadata": {},
   "source": [
    "Модель, обученная с помощью логистической регрессии, показала себя лучше."
   ]
  },
  {
   "cell_type": "markdown",
   "metadata": {},
   "source": [
    "### Кластеризация клиентов"
   ]
  },
  {
   "cell_type": "code",
   "execution_count": null,
   "metadata": {},
   "outputs": [],
   "source": [
    "# обязательная стандартизация данных перед работой с алгоритмами\n",
    "sc = StandardScaler()\n",
    "X_sc = sc.fit_transform(data)\n",
    "\n",
    "linked = linkage(X_sc, method = 'ward')"
   ]
  },
  {
   "cell_type": "code",
   "execution_count": null,
   "metadata": {},
   "outputs": [],
   "source": [
    "plt.figure(figsize=(15, 10))  \n",
    "dendrogram(linked, orientation='top')\n",
    "plt.title('Дендрограмма')\n",
    "plt.show() "
   ]
  },
  {
   "cell_type": "markdown",
   "metadata": {},
   "source": [
    "На основании дендрограммы можно выделить 5 кластеров -  по количеству цветов."
   ]
  },
  {
   "cell_type": "code",
   "execution_count": null,
   "metadata": {},
   "outputs": [],
   "source": [
    "# задаём модель k_means с числом кластеров 5 и фиксируем значение random_state\n",
    "km = KMeans(n_clusters=5, random_state=0)\n",
    "# прогнозируем кластеры для наблюдений \n",
    "labels = km.fit_predict(X_sc)\n",
    "\n",
    "# сохраняем метки кластера в поле нашего датасета\n",
    "data['cluster_km'] = labels\n",
    "\n",
    "# выводим статистику по средним значениям наших признаков по кластеру\n",
    "clusters = data.groupby(['cluster_km']).mean()\n",
    "clusters"
   ]
  },
  {
   "cell_type": "markdown",
   "metadata": {},
   "source": [
    "Добавление кластеров подтверждает выводы, сделанные по диаграммам: редко уходят те, кто давно посещает фитнес-центр."
   ]
  },
  {
   "cell_type": "code",
   "execution_count": null,
   "metadata": {},
   "outputs": [],
   "source": [
    "#зададим функцию для отрисовки зависимостей между признаками\n",
    "def show_clusters_on_plot(df, x_name, y_name, cluster_name):\n",
    "    plt.figure(figsize = (10,10))\n",
    "    sns.scatterplot(df[x_name], df[y_name],\n",
    "           hue = df[cluster_name], palette = 'Paired'\n",
    "       )\n",
    "    plt.title('{} vs {}'.format(x_name, y_name))\n",
    "    plt.show()\n",
    "    \n",
    " #построим распределение признаков по кластерам\n",
    "col_pairs = list(itertools.combinations(data.drop('cluster_km', axis=1).columns, 2))\n",
    "for pair in col_pairs:\n",
    "    show_clusters_on_plot(data, pair[0], pair[1], 'cluster_km')"
   ]
  },
  {
   "cell_type": "markdown",
   "metadata": {},
   "source": [
    "Определенных зависимостей между признаками по графикам не замечено."
   ]
  },
  {
   "cell_type": "markdown",
   "metadata": {},
   "source": [
    "### Выводы\n",
    "Исходя из проделанного анализа, можно дать следующие рекомендации отделу маркетинга:\n",
    "- Давать рекламу в местах, расположенных близко к фитнес-центра, в том числе - в жилых кварталах,\n",
    "- Выделять больше средств для софинансирования партнерских программ,\n",
    "- Проводить акции по привлечению знакомых."
   ]
  }
 ],
 "metadata": {
  "ExecuteTimeLog": [
   {
    "duration": 438,
    "start_time": "2022-08-30T12:18:52.660Z"
   },
   {
    "duration": 149,
    "start_time": "2022-08-30T12:19:31.227Z"
   },
   {
    "duration": 42,
    "start_time": "2022-08-30T12:19:50.330Z"
   },
   {
    "duration": 54,
    "start_time": "2022-08-30T12:24:14.150Z"
   },
   {
    "duration": 3,
    "start_time": "2022-08-30T12:42:27.975Z"
   },
   {
    "duration": 12,
    "start_time": "2022-08-30T12:42:38.693Z"
   },
   {
    "duration": 3,
    "start_time": "2022-08-30T12:47:57.735Z"
   },
   {
    "duration": 5,
    "start_time": "2022-08-30T12:48:04.945Z"
   },
   {
    "duration": 3,
    "start_time": "2022-08-30T12:48:45.014Z"
   },
   {
    "duration": 16,
    "start_time": "2022-08-30T12:48:57.272Z"
   },
   {
    "duration": 72,
    "start_time": "2022-08-30T12:49:22.956Z"
   },
   {
    "duration": 9,
    "start_time": "2022-08-30T12:49:28.808Z"
   },
   {
    "duration": 16,
    "start_time": "2022-08-30T12:49:40.962Z"
   },
   {
    "duration": 14,
    "start_time": "2022-08-30T12:50:23.086Z"
   },
   {
    "duration": 4,
    "start_time": "2022-08-30T13:00:03.873Z"
   },
   {
    "duration": 5,
    "start_time": "2022-08-30T13:00:42.875Z"
   },
   {
    "duration": 19,
    "start_time": "2022-08-30T13:00:56.491Z"
   },
   {
    "duration": 17,
    "start_time": "2022-08-30T13:02:23.091Z"
   },
   {
    "duration": 12,
    "start_time": "2022-08-30T13:10:45.488Z"
   },
   {
    "duration": 1072,
    "start_time": "2022-08-30T13:16:41.439Z"
   },
   {
    "duration": 246931,
    "start_time": "2022-08-30T13:16:47.910Z"
   },
   {
    "duration": 3,
    "start_time": "2022-08-30T15:48:57.962Z"
   },
   {
    "duration": 62,
    "start_time": "2022-08-30T15:48:57.968Z"
   },
   {
    "duration": 50,
    "start_time": "2022-08-30T15:48:58.032Z"
   },
   {
    "duration": 12,
    "start_time": "2022-08-30T15:48:58.084Z"
   },
   {
    "duration": 32,
    "start_time": "2022-08-30T15:48:58.099Z"
   },
   {
    "duration": 43,
    "start_time": "2022-08-30T15:48:58.133Z"
   },
   {
    "duration": 33654,
    "start_time": "2022-08-30T15:48:58.177Z"
   },
   {
    "duration": 0,
    "start_time": "2022-08-30T15:49:59.963Z"
   },
   {
    "duration": 0,
    "start_time": "2022-08-30T15:49:59.964Z"
   },
   {
    "duration": 0,
    "start_time": "2022-08-30T15:49:59.965Z"
   },
   {
    "duration": 0,
    "start_time": "2022-08-30T15:49:59.966Z"
   },
   {
    "duration": 0,
    "start_time": "2022-08-30T15:49:59.967Z"
   },
   {
    "duration": 0,
    "start_time": "2022-08-30T15:49:59.969Z"
   },
   {
    "duration": 0,
    "start_time": "2022-08-30T15:49:59.970Z"
   },
   {
    "duration": 3,
    "start_time": "2022-08-30T15:50:05.490Z"
   },
   {
    "duration": 55,
    "start_time": "2022-08-30T15:50:05.495Z"
   },
   {
    "duration": 48,
    "start_time": "2022-08-30T15:50:05.552Z"
   },
   {
    "duration": 12,
    "start_time": "2022-08-30T15:50:05.602Z"
   },
   {
    "duration": 7,
    "start_time": "2022-08-30T15:50:05.616Z"
   },
   {
    "duration": 18,
    "start_time": "2022-08-30T15:50:11.886Z"
   },
   {
    "duration": 240835,
    "start_time": "2022-08-30T15:50:13.950Z"
   },
   {
    "duration": 1433,
    "start_time": "2022-08-30T16:01:43.914Z"
   },
   {
    "duration": 5,
    "start_time": "2022-08-30T16:06:46.811Z"
   },
   {
    "duration": 9,
    "start_time": "2022-08-30T16:06:48.508Z"
   },
   {
    "duration": 282,
    "start_time": "2022-08-30T16:07:08.337Z"
   },
   {
    "duration": 5,
    "start_time": "2022-08-30T16:07:17.303Z"
   },
   {
    "duration": 10,
    "start_time": "2022-08-30T16:14:04.663Z"
   },
   {
    "duration": 20,
    "start_time": "2022-08-30T16:15:40.515Z"
   },
   {
    "duration": 5,
    "start_time": "2022-08-30T16:16:28.229Z"
   },
   {
    "duration": 18,
    "start_time": "2022-08-30T16:16:36.800Z"
   },
   {
    "duration": 3,
    "start_time": "2022-08-30T16:19:41.293Z"
   },
   {
    "duration": 6,
    "start_time": "2022-08-30T16:19:43.164Z"
   },
   {
    "duration": 24,
    "start_time": "2022-08-30T16:19:45.684Z"
   },
   {
    "duration": 9,
    "start_time": "2022-08-30T16:20:20.642Z"
   },
   {
    "duration": 8,
    "start_time": "2022-08-30T16:21:13.215Z"
   },
   {
    "duration": 4,
    "start_time": "2022-08-30T16:27:52.070Z"
   },
   {
    "duration": 14,
    "start_time": "2022-08-30T16:29:11.217Z"
   },
   {
    "duration": 3,
    "start_time": "2022-08-30T16:31:49.537Z"
   },
   {
    "duration": 2,
    "start_time": "2022-08-30T16:31:51.077Z"
   },
   {
    "duration": 14,
    "start_time": "2022-08-30T16:32:52.516Z"
   },
   {
    "duration": 4,
    "start_time": "2022-08-30T16:34:55.405Z"
   },
   {
    "duration": 4,
    "start_time": "2022-08-30T16:35:01.150Z"
   },
   {
    "duration": 37,
    "start_time": "2022-08-30T16:35:03.077Z"
   },
   {
    "duration": 60,
    "start_time": "2022-08-30T16:36:51.640Z"
   },
   {
    "duration": 35,
    "start_time": "2022-08-30T16:37:57.957Z"
   },
   {
    "duration": 396,
    "start_time": "2022-08-30T16:39:53.201Z"
   },
   {
    "duration": 3,
    "start_time": "2022-08-30T16:45:44.243Z"
   },
   {
    "duration": 92,
    "start_time": "2022-08-30T16:47:00.309Z"
   },
   {
    "duration": 380,
    "start_time": "2022-08-30T16:47:02.549Z"
   },
   {
    "duration": 23,
    "start_time": "2022-08-30T16:48:27.395Z"
   },
   {
    "duration": 4,
    "start_time": "2022-08-30T16:51:47.216Z"
   },
   {
    "duration": 719,
    "start_time": "2022-08-30T16:52:01.888Z"
   },
   {
    "duration": 81717,
    "start_time": "2022-08-30T16:53:00.676Z"
   },
   {
    "duration": 581,
    "start_time": "2022-08-30T16:54:49.612Z"
   },
   {
    "duration": 121878,
    "start_time": "2022-08-30T16:54:53.237Z"
   },
   {
    "duration": 1706,
    "start_time": "2022-08-30T16:58:23.702Z"
   },
   {
    "duration": 13,
    "start_time": "2022-08-30T17:07:27.108Z"
   },
   {
    "duration": 5,
    "start_time": "2022-08-30T17:08:06.894Z"
   },
   {
    "duration": 11,
    "start_time": "2022-08-30T17:08:11.151Z"
   },
   {
    "duration": 4,
    "start_time": "2022-08-30T17:09:34.874Z"
   },
   {
    "duration": 12,
    "start_time": "2022-08-30T17:09:48.989Z"
   },
   {
    "duration": 43273,
    "start_time": "2022-08-30T17:11:45.305Z"
   },
   {
    "duration": 41812,
    "start_time": "2022-08-30T17:15:24.266Z"
   },
   {
    "duration": 1555,
    "start_time": "2022-08-31T04:48:34.997Z"
   },
   {
    "duration": 83,
    "start_time": "2022-08-31T04:48:36.554Z"
   },
   {
    "duration": 43,
    "start_time": "2022-08-31T04:48:36.639Z"
   },
   {
    "duration": 10,
    "start_time": "2022-08-31T04:48:36.684Z"
   },
   {
    "duration": 15,
    "start_time": "2022-08-31T04:48:36.696Z"
   },
   {
    "duration": 16,
    "start_time": "2022-08-31T04:48:36.713Z"
   },
   {
    "duration": 0,
    "start_time": "2022-08-31T04:52:11.619Z"
   },
   {
    "duration": 0,
    "start_time": "2022-08-31T04:52:11.620Z"
   },
   {
    "duration": 0,
    "start_time": "2022-08-31T04:52:11.620Z"
   },
   {
    "duration": 0,
    "start_time": "2022-08-31T04:52:11.622Z"
   },
   {
    "duration": 0,
    "start_time": "2022-08-31T04:52:11.623Z"
   },
   {
    "duration": 0,
    "start_time": "2022-08-31T04:52:11.624Z"
   },
   {
    "duration": 0,
    "start_time": "2022-08-31T04:52:11.625Z"
   },
   {
    "duration": 1300,
    "start_time": "2022-08-31T04:53:35.663Z"
   },
   {
    "duration": 45,
    "start_time": "2022-08-31T04:53:36.965Z"
   },
   {
    "duration": 42,
    "start_time": "2022-08-31T04:53:37.011Z"
   },
   {
    "duration": 11,
    "start_time": "2022-08-31T04:53:37.055Z"
   },
   {
    "duration": 7,
    "start_time": "2022-08-31T04:53:37.069Z"
   },
   {
    "duration": 39,
    "start_time": "2022-08-31T04:53:37.078Z"
   },
   {
    "duration": 213017,
    "start_time": "2022-08-31T04:53:37.119Z"
   },
   {
    "duration": 0,
    "start_time": "2022-08-31T04:57:11.607Z"
   },
   {
    "duration": 0,
    "start_time": "2022-08-31T04:57:11.609Z"
   },
   {
    "duration": 0,
    "start_time": "2022-08-31T04:57:11.610Z"
   },
   {
    "duration": 0,
    "start_time": "2022-08-31T04:57:11.612Z"
   },
   {
    "duration": 0,
    "start_time": "2022-08-31T04:57:11.613Z"
   },
   {
    "duration": 0,
    "start_time": "2022-08-31T04:57:11.614Z"
   },
   {
    "duration": 0,
    "start_time": "2022-08-31T04:57:11.616Z"
   },
   {
    "duration": 0,
    "start_time": "2022-08-31T04:57:11.617Z"
   },
   {
    "duration": 0,
    "start_time": "2022-08-31T04:57:11.619Z"
   },
   {
    "duration": 0,
    "start_time": "2022-08-31T04:57:11.620Z"
   },
   {
    "duration": 4,
    "start_time": "2022-08-31T06:11:06.819Z"
   },
   {
    "duration": 50,
    "start_time": "2022-08-31T06:11:06.825Z"
   },
   {
    "duration": 43,
    "start_time": "2022-08-31T06:11:06.877Z"
   },
   {
    "duration": 9,
    "start_time": "2022-08-31T06:11:06.922Z"
   },
   {
    "duration": 8,
    "start_time": "2022-08-31T06:11:06.934Z"
   },
   {
    "duration": 22,
    "start_time": "2022-08-31T06:11:06.944Z"
   },
   {
    "duration": 216435,
    "start_time": "2022-08-31T06:11:06.968Z"
   },
   {
    "duration": 1299,
    "start_time": "2022-08-31T06:14:43.410Z"
   },
   {
    "duration": 1316,
    "start_time": "2022-08-31T06:16:27.407Z"
   },
   {
    "duration": 1425,
    "start_time": "2022-08-31T06:16:51.087Z"
   },
   {
    "duration": 1399,
    "start_time": "2022-08-31T06:17:11.228Z"
   }
  ],
  "kernelspec": {
   "display_name": "Python 3 (ipykernel)",
   "language": "python",
   "name": "python3"
  },
  "language_info": {
   "codemirror_mode": {
    "name": "ipython",
    "version": 3
   },
   "file_extension": ".py",
   "mimetype": "text/x-python",
   "name": "python",
   "nbconvert_exporter": "python",
   "pygments_lexer": "ipython3",
   "version": "3.9.5"
  },
  "toc": {
   "base_numbering": 1,
   "nav_menu": {},
   "number_sections": true,
   "sideBar": true,
   "skip_h1_title": true,
   "title_cell": "Table of Contents",
   "title_sidebar": "Contents",
   "toc_cell": false,
   "toc_position": {},
   "toc_section_display": true,
   "toc_window_display": false
  }
 },
 "nbformat": 4,
 "nbformat_minor": 2
}
