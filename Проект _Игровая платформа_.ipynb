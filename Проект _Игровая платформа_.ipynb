{
 "cells": [
  {
   "cell_type": "markdown",
   "metadata": {},
   "source": [
    "### Формирование задания на проект.\n",
    "Проект готовится на основания данных о пользователях магазина компьютерных игр \"Стримчик\", собранных до 2016 года, с целью формирования компании на будущий год и выявления факторов, определяющих популярность компьютерных игр у разных категорий.\n",
    "В наличии следующие данные: \n",
    "- названия игр;\n",
    "- названия платформ, на которых игры выходили;\n",
    "- год выпуска;\n",
    "- жанр;\n",
    "- возрастной рейтинг от компании ESRB;\n",
    "- NA_sales — продажи в Северной Америке (миллионы проданных копий)\n",
    "- EU_sales — продажи в Европе (миллионы проданных копий)\n",
    "- JP_sales — продажи в Японии (миллионы проданных копий)\n",
    "- Other_sales — продажи в других странах (миллионы проданных копий)\n",
    "- Critic_Score — оценка критиков (максимум 100)\n",
    "- User_Score — оценка пользователей (максимум 10)\n",
    "\n",
    "### Изучим данные, проведём обработку:\n"
   ]
  },
  {
   "cell_type": "code",
   "execution_count": 1,
   "metadata": {},
   "outputs": [],
   "source": [
    "import pandas as pd\n",
    "import numpy as np\n",
    "import matplotlib.pyplot as plt\n",
    "from scipy import stats as st"
   ]
  },
  {
   "cell_type": "code",
   "execution_count": 2,
   "metadata": {},
   "outputs": [
    {
     "name": "stdout",
     "output_type": "stream",
     "text": [
      "<class 'pandas.core.frame.DataFrame'>\n",
      "RangeIndex: 16715 entries, 0 to 16714\n",
      "Data columns (total 11 columns):\n",
      " #   Column           Non-Null Count  Dtype  \n",
      "---  ------           --------------  -----  \n",
      " 0   Name             16713 non-null  object \n",
      " 1   Platform         16715 non-null  object \n",
      " 2   Year_of_Release  16446 non-null  float64\n",
      " 3   Genre            16713 non-null  object \n",
      " 4   NA_sales         16715 non-null  float64\n",
      " 5   EU_sales         16715 non-null  float64\n",
      " 6   JP_sales         16715 non-null  float64\n",
      " 7   Other_sales      16715 non-null  float64\n",
      " 8   Critic_Score     8137 non-null   float64\n",
      " 9   User_Score       10014 non-null  object \n",
      " 10  Rating           9949 non-null   object \n",
      "dtypes: float64(6), object(5)\n",
      "memory usage: 1.4+ MB\n"
     ]
    }
   ],
   "source": [
    "games = pd.read_csv('/datasets/games.csv')\n",
    "games.info()"
   ]
  },
  {
   "cell_type": "code",
   "execution_count": 3,
   "metadata": {},
   "outputs": [
    {
     "data": {
      "text/html": [
       "<div>\n",
       "<style scoped>\n",
       "    .dataframe tbody tr th:only-of-type {\n",
       "        vertical-align: middle;\n",
       "    }\n",
       "\n",
       "    .dataframe tbody tr th {\n",
       "        vertical-align: top;\n",
       "    }\n",
       "\n",
       "    .dataframe thead th {\n",
       "        text-align: right;\n",
       "    }\n",
       "</style>\n",
       "<table border=\"1\" class=\"dataframe\">\n",
       "  <thead>\n",
       "    <tr style=\"text-align: right;\">\n",
       "      <th></th>\n",
       "      <th>Name</th>\n",
       "      <th>Platform</th>\n",
       "      <th>Year_of_Release</th>\n",
       "      <th>Genre</th>\n",
       "      <th>NA_sales</th>\n",
       "      <th>EU_sales</th>\n",
       "      <th>JP_sales</th>\n",
       "      <th>Other_sales</th>\n",
       "      <th>Critic_Score</th>\n",
       "      <th>User_Score</th>\n",
       "      <th>Rating</th>\n",
       "    </tr>\n",
       "  </thead>\n",
       "  <tbody>\n",
       "    <tr>\n",
       "      <th>0</th>\n",
       "      <td>Wii Sports</td>\n",
       "      <td>Wii</td>\n",
       "      <td>2006.0</td>\n",
       "      <td>Sports</td>\n",
       "      <td>41.36</td>\n",
       "      <td>28.96</td>\n",
       "      <td>3.77</td>\n",
       "      <td>8.45</td>\n",
       "      <td>76.0</td>\n",
       "      <td>8</td>\n",
       "      <td>E</td>\n",
       "    </tr>\n",
       "    <tr>\n",
       "      <th>1</th>\n",
       "      <td>Super Mario Bros.</td>\n",
       "      <td>NES</td>\n",
       "      <td>1985.0</td>\n",
       "      <td>Platform</td>\n",
       "      <td>29.08</td>\n",
       "      <td>3.58</td>\n",
       "      <td>6.81</td>\n",
       "      <td>0.77</td>\n",
       "      <td>NaN</td>\n",
       "      <td>NaN</td>\n",
       "      <td>NaN</td>\n",
       "    </tr>\n",
       "    <tr>\n",
       "      <th>2</th>\n",
       "      <td>Mario Kart Wii</td>\n",
       "      <td>Wii</td>\n",
       "      <td>2008.0</td>\n",
       "      <td>Racing</td>\n",
       "      <td>15.68</td>\n",
       "      <td>12.76</td>\n",
       "      <td>3.79</td>\n",
       "      <td>3.29</td>\n",
       "      <td>82.0</td>\n",
       "      <td>8.3</td>\n",
       "      <td>E</td>\n",
       "    </tr>\n",
       "    <tr>\n",
       "      <th>3</th>\n",
       "      <td>Wii Sports Resort</td>\n",
       "      <td>Wii</td>\n",
       "      <td>2009.0</td>\n",
       "      <td>Sports</td>\n",
       "      <td>15.61</td>\n",
       "      <td>10.93</td>\n",
       "      <td>3.28</td>\n",
       "      <td>2.95</td>\n",
       "      <td>80.0</td>\n",
       "      <td>8</td>\n",
       "      <td>E</td>\n",
       "    </tr>\n",
       "    <tr>\n",
       "      <th>4</th>\n",
       "      <td>Pokemon Red/Pokemon Blue</td>\n",
       "      <td>GB</td>\n",
       "      <td>1996.0</td>\n",
       "      <td>Role-Playing</td>\n",
       "      <td>11.27</td>\n",
       "      <td>8.89</td>\n",
       "      <td>10.22</td>\n",
       "      <td>1.00</td>\n",
       "      <td>NaN</td>\n",
       "      <td>NaN</td>\n",
       "      <td>NaN</td>\n",
       "    </tr>\n",
       "    <tr>\n",
       "      <th>5</th>\n",
       "      <td>Tetris</td>\n",
       "      <td>GB</td>\n",
       "      <td>1989.0</td>\n",
       "      <td>Puzzle</td>\n",
       "      <td>23.20</td>\n",
       "      <td>2.26</td>\n",
       "      <td>4.22</td>\n",
       "      <td>0.58</td>\n",
       "      <td>NaN</td>\n",
       "      <td>NaN</td>\n",
       "      <td>NaN</td>\n",
       "    </tr>\n",
       "    <tr>\n",
       "      <th>6</th>\n",
       "      <td>New Super Mario Bros.</td>\n",
       "      <td>DS</td>\n",
       "      <td>2006.0</td>\n",
       "      <td>Platform</td>\n",
       "      <td>11.28</td>\n",
       "      <td>9.14</td>\n",
       "      <td>6.50</td>\n",
       "      <td>2.88</td>\n",
       "      <td>89.0</td>\n",
       "      <td>8.5</td>\n",
       "      <td>E</td>\n",
       "    </tr>\n",
       "    <tr>\n",
       "      <th>7</th>\n",
       "      <td>Wii Play</td>\n",
       "      <td>Wii</td>\n",
       "      <td>2006.0</td>\n",
       "      <td>Misc</td>\n",
       "      <td>13.96</td>\n",
       "      <td>9.18</td>\n",
       "      <td>2.93</td>\n",
       "      <td>2.84</td>\n",
       "      <td>58.0</td>\n",
       "      <td>6.6</td>\n",
       "      <td>E</td>\n",
       "    </tr>\n",
       "    <tr>\n",
       "      <th>8</th>\n",
       "      <td>New Super Mario Bros. Wii</td>\n",
       "      <td>Wii</td>\n",
       "      <td>2009.0</td>\n",
       "      <td>Platform</td>\n",
       "      <td>14.44</td>\n",
       "      <td>6.94</td>\n",
       "      <td>4.70</td>\n",
       "      <td>2.24</td>\n",
       "      <td>87.0</td>\n",
       "      <td>8.4</td>\n",
       "      <td>E</td>\n",
       "    </tr>\n",
       "    <tr>\n",
       "      <th>9</th>\n",
       "      <td>Duck Hunt</td>\n",
       "      <td>NES</td>\n",
       "      <td>1984.0</td>\n",
       "      <td>Shooter</td>\n",
       "      <td>26.93</td>\n",
       "      <td>0.63</td>\n",
       "      <td>0.28</td>\n",
       "      <td>0.47</td>\n",
       "      <td>NaN</td>\n",
       "      <td>NaN</td>\n",
       "      <td>NaN</td>\n",
       "    </tr>\n",
       "  </tbody>\n",
       "</table>\n",
       "</div>"
      ],
      "text/plain": [
       "                        Name Platform  Year_of_Release         Genre  \\\n",
       "0                 Wii Sports      Wii           2006.0        Sports   \n",
       "1          Super Mario Bros.      NES           1985.0      Platform   \n",
       "2             Mario Kart Wii      Wii           2008.0        Racing   \n",
       "3          Wii Sports Resort      Wii           2009.0        Sports   \n",
       "4   Pokemon Red/Pokemon Blue       GB           1996.0  Role-Playing   \n",
       "5                     Tetris       GB           1989.0        Puzzle   \n",
       "6      New Super Mario Bros.       DS           2006.0      Platform   \n",
       "7                   Wii Play      Wii           2006.0          Misc   \n",
       "8  New Super Mario Bros. Wii      Wii           2009.0      Platform   \n",
       "9                  Duck Hunt      NES           1984.0       Shooter   \n",
       "\n",
       "   NA_sales  EU_sales  JP_sales  Other_sales  Critic_Score User_Score Rating  \n",
       "0     41.36     28.96      3.77         8.45          76.0          8      E  \n",
       "1     29.08      3.58      6.81         0.77           NaN        NaN    NaN  \n",
       "2     15.68     12.76      3.79         3.29          82.0        8.3      E  \n",
       "3     15.61     10.93      3.28         2.95          80.0          8      E  \n",
       "4     11.27      8.89     10.22         1.00           NaN        NaN    NaN  \n",
       "5     23.20      2.26      4.22         0.58           NaN        NaN    NaN  \n",
       "6     11.28      9.14      6.50         2.88          89.0        8.5      E  \n",
       "7     13.96      9.18      2.93         2.84          58.0        6.6      E  \n",
       "8     14.44      6.94      4.70         2.24          87.0        8.4      E  \n",
       "9     26.93      0.63      0.28         0.47           NaN        NaN    NaN  "
      ]
     },
     "execution_count": 3,
     "metadata": {},
     "output_type": "execute_result"
    }
   ],
   "source": [
    "games.head(10)"
   ]
  },
  {
   "cell_type": "markdown",
   "metadata": {},
   "source": [
    "- Следует заменить регистр в названиях столбцов:"
   ]
  },
  {
   "cell_type": "code",
   "execution_count": 4,
   "metadata": {},
   "outputs": [
    {
     "data": {
      "text/plain": [
       "Need for Speed: Most Wanted                   12\n",
       "Ratatouille                                    9\n",
       "LEGO Marvel Super Heroes                       9\n",
       "Madden NFL 07                                  9\n",
       "FIFA 14                                        9\n",
       "                                              ..\n",
       "Jikkyou Powerful Pro Yakyuu 2000 Ketteiban     1\n",
       "Littlest Pet Shop: Winter                      1\n",
       "I Spy: Universe                                1\n",
       "True Pinball                                   1\n",
       "Evil Genius                                    1\n",
       "Name: name, Length: 11559, dtype: int64"
      ]
     },
     "execution_count": 4,
     "metadata": {},
     "output_type": "execute_result"
    }
   ],
   "source": [
    "games.columns = games.columns.str.lower()\n",
    "games['name'].value_counts()"
   ]
  },
  {
   "cell_type": "markdown",
   "metadata": {},
   "source": [
    "Рассчитаем отношение пропусков в  столбцах к общему количеству строк:"
   ]
  },
  {
   "cell_type": "code",
   "execution_count": 5,
   "metadata": {},
   "outputs": [
    {
     "data": {
      "text/plain": [
       "name               0.000120\n",
       "platform           0.000000\n",
       "year_of_release    0.016357\n",
       "genre              0.000120\n",
       "na_sales           0.000000\n",
       "eu_sales           0.000000\n",
       "jp_sales           0.000000\n",
       "other_sales        0.000000\n",
       "critic_score       1.054197\n",
       "user_score         0.669163\n",
       "rating             0.680068\n",
       "dtype: float64"
      ]
     },
     "execution_count": 5,
     "metadata": {},
     "output_type": "execute_result"
    }
   ],
   "source": [
    "games.isnull().sum()/games.count()"
   ]
  },
  {
   "cell_type": "markdown",
   "metadata": {},
   "source": [
    "Пропуски обнаружены в столбцах:\n",
    "- name - так как на данных о названиях игр базируется исследование, пропуски удалим.\n",
    "- год выхода - нет данных для замены, заполним нулями, чтобы не удалять нужную информацию по играм.\n",
    "- оценки критиков, пользователей и возрастной рейтинг - пропуски заполнить нечем, оставим пустыми, так как удалять нельзя в связи с большим количеством пропусков. \n",
    "Пропуски в данных столбцах могли возникнуть, потому что это не обязательный к заполнению атрибут."
   ]
  },
  {
   "cell_type": "code",
   "execution_count": 6,
   "metadata": {},
   "outputs": [
    {
     "name": "stdout",
     "output_type": "stream",
     "text": [
      "<class 'pandas.core.frame.DataFrame'>\n",
      "Int64Index: 16713 entries, 0 to 16714\n",
      "Data columns (total 11 columns):\n",
      " #   Column           Non-Null Count  Dtype  \n",
      "---  ------           --------------  -----  \n",
      " 0   name             16713 non-null  object \n",
      " 1   platform         16713 non-null  object \n",
      " 2   year_of_release  16713 non-null  float64\n",
      " 3   genre            16713 non-null  object \n",
      " 4   na_sales         16713 non-null  float64\n",
      " 5   eu_sales         16713 non-null  float64\n",
      " 6   jp_sales         16713 non-null  float64\n",
      " 7   other_sales      16713 non-null  float64\n",
      " 8   critic_score     16713 non-null  float64\n",
      " 9   user_score       16713 non-null  object \n",
      " 10  rating           16713 non-null  object \n",
      "dtypes: float64(6), object(5)\n",
      "memory usage: 1.5+ MB\n"
     ]
    }
   ],
   "source": [
    "games = games.dropna(subset = ['name'])\n",
    "games['critic_score'] = games['critic_score'].fillna(value = 0)\n",
    "games['user_score'] = games['user_score'].fillna(value = 0)\n",
    "games['rating'] = games['rating'].fillna(value = 'Nan')\n",
    "games['year_of_release'] = games['year_of_release'].fillna(value = 0)\n",
    "games.info()"
   ]
  },
  {
   "cell_type": "markdown",
   "metadata": {},
   "source": [
    "- Заменим типы данных: на целые числа (int) год выхода, рейтинг критиков.  "
   ]
  },
  {
   "cell_type": "code",
   "execution_count": 7,
   "metadata": {},
   "outputs": [
    {
     "data": {
      "text/plain": [
       "array(['8', 0, '8.3', '8.5', '6.6', '8.4', '8.6', '7.7', '6.3', '7.4',\n",
       "       '8.2', '9', '7.9', '8.1', '8.7', '7.1', '3.4', '5.3', '4.8', '3.2',\n",
       "       '8.9', '6.4', '7.8', '7.5', '2.6', '7.2', '9.2', '7', '7.3', '4.3',\n",
       "       '7.6', '5.7', '5', '9.1', '6.5', 'tbd', '8.8', '6.9', '9.4', '6.8',\n",
       "       '6.1', '6.7', '5.4', '4', '4.9', '4.5', '9.3', '6.2', '4.2', '6',\n",
       "       '3.7', '4.1', '5.8', '5.6', '5.5', '4.4', '4.6', '5.9', '3.9',\n",
       "       '3.1', '2.9', '5.2', '3.3', '4.7', '5.1', '3.5', '2.5', '1.9', '3',\n",
       "       '2.7', '2.2', '2', '9.5', '2.1', '3.6', '2.8', '1.8', '3.8', '0',\n",
       "       '1.6', '9.6', '2.4', '1.7', '1.1', '0.3', '1.5', '0.7', '1.2',\n",
       "       '2.3', '0.5', '1.3', '0.2', '0.6', '1.4', '0.9', '1', '9.7'],\n",
       "      dtype=object)"
      ]
     },
     "execution_count": 7,
     "metadata": {},
     "output_type": "execute_result"
    }
   ],
   "source": [
    "games['year_of_release'] = games['year_of_release'].astype(int)\n",
    "games['critic_score'] = games['critic_score'].astype(int)\n",
    "games['user_score'].unique()"
   ]
  },
  {
   "cell_type": "markdown",
   "metadata": {},
   "source": [
    "Аббревиатура tbd значит to be determined - то есть, данные были нарочно не заполнены, так как пользователи не определились с рейтингом. Поэтому необходимо заменить tbd на Nan, а затем изменить тип переменных в столбце. "
   ]
  },
  {
   "cell_type": "code",
   "execution_count": 8,
   "metadata": {},
   "outputs": [
    {
     "name": "stdout",
     "output_type": "stream",
     "text": [
      "<class 'pandas.core.frame.DataFrame'>\n",
      "Int64Index: 16713 entries, 0 to 16714\n",
      "Data columns (total 11 columns):\n",
      " #   Column           Non-Null Count  Dtype  \n",
      "---  ------           --------------  -----  \n",
      " 0   name             16713 non-null  object \n",
      " 1   platform         16713 non-null  object \n",
      " 2   year_of_release  16713 non-null  int64  \n",
      " 3   genre            16713 non-null  object \n",
      " 4   na_sales         16713 non-null  float64\n",
      " 5   eu_sales         16713 non-null  float64\n",
      " 6   jp_sales         16713 non-null  float64\n",
      " 7   other_sales      16713 non-null  float64\n",
      " 8   critic_score     16713 non-null  int64  \n",
      " 9   user_score       16713 non-null  float64\n",
      " 10  rating           16713 non-null  object \n",
      "dtypes: float64(5), int64(2), object(4)\n",
      "memory usage: 1.5+ MB\n"
     ]
    }
   ],
   "source": [
    "games['user_score'] = games['user_score'].replace('tbd', np.nan)\n",
    "games['user_score'] = games['user_score'].astype(float)\n",
    "games['user_score'] = games['user_score'].fillna(0)\n",
    "games.info()"
   ]
  },
  {
   "cell_type": "markdown",
   "metadata": {},
   "source": [
    "- Посчитаем суммарные продажи игр:"
   ]
  },
  {
   "cell_type": "code",
   "execution_count": 9,
   "metadata": {},
   "outputs": [],
   "source": [
    "games['sales'] = games['na_sales'] + games['eu_sales'] + games['jp_sales'] + games['other_sales']"
   ]
  },
  {
   "cell_type": "markdown",
   "metadata": {},
   "source": [
    "### Проведём исследовательский анализ данных:"
   ]
  },
  {
   "cell_type": "markdown",
   "metadata": {},
   "source": [
    "- Проверим, сколько игр выпускалось в разные годы. Важны ли данные за все периоды?"
   ]
  },
  {
   "cell_type": "code",
   "execution_count": 10,
   "metadata": {},
   "outputs": [
    {
     "data": {
      "text/html": [
       "<div>\n",
       "<style scoped>\n",
       "    .dataframe tbody tr th:only-of-type {\n",
       "        vertical-align: middle;\n",
       "    }\n",
       "\n",
       "    .dataframe tbody tr th {\n",
       "        vertical-align: top;\n",
       "    }\n",
       "\n",
       "    .dataframe thead th {\n",
       "        text-align: right;\n",
       "    }\n",
       "</style>\n",
       "<table border=\"1\" class=\"dataframe\">\n",
       "  <thead>\n",
       "    <tr style=\"text-align: right;\">\n",
       "      <th></th>\n",
       "      <th>name</th>\n",
       "    </tr>\n",
       "    <tr>\n",
       "      <th>year_of_release</th>\n",
       "      <th></th>\n",
       "    </tr>\n",
       "  </thead>\n",
       "  <tbody>\n",
       "    <tr>\n",
       "      <th>0</th>\n",
       "      <td>269</td>\n",
       "    </tr>\n",
       "    <tr>\n",
       "      <th>1980</th>\n",
       "      <td>9</td>\n",
       "    </tr>\n",
       "    <tr>\n",
       "      <th>1981</th>\n",
       "      <td>46</td>\n",
       "    </tr>\n",
       "    <tr>\n",
       "      <th>1982</th>\n",
       "      <td>36</td>\n",
       "    </tr>\n",
       "    <tr>\n",
       "      <th>1983</th>\n",
       "      <td>17</td>\n",
       "    </tr>\n",
       "    <tr>\n",
       "      <th>1984</th>\n",
       "      <td>14</td>\n",
       "    </tr>\n",
       "    <tr>\n",
       "      <th>1985</th>\n",
       "      <td>14</td>\n",
       "    </tr>\n",
       "    <tr>\n",
       "      <th>1986</th>\n",
       "      <td>21</td>\n",
       "    </tr>\n",
       "    <tr>\n",
       "      <th>1987</th>\n",
       "      <td>16</td>\n",
       "    </tr>\n",
       "    <tr>\n",
       "      <th>1988</th>\n",
       "      <td>15</td>\n",
       "    </tr>\n",
       "  </tbody>\n",
       "</table>\n",
       "</div>"
      ],
      "text/plain": [
       "                 name\n",
       "year_of_release      \n",
       "0                 269\n",
       "1980                9\n",
       "1981               46\n",
       "1982               36\n",
       "1983               17\n",
       "1984               14\n",
       "1985               14\n",
       "1986               21\n",
       "1987               16\n",
       "1988               15"
      ]
     },
     "execution_count": 10,
     "metadata": {},
     "output_type": "execute_result"
    }
   ],
   "source": [
    "games_years = games.pivot_table( index = ('year_of_release'), values = ('name'), aggfunc = 'count')\n",
    "games_years.head(10)"
   ]
  },
  {
   "cell_type": "markdown",
   "metadata": {},
   "source": [
    "В нашем распоряжении данные, начиная с 1980 года выпуска игр. Так как рынок кормпьютерных игр очень быстро меняется, достаточно будет рассматривать критерии, формирующие привлекательность игр, за актуальный период, границы которого предстоит установить. Также выявлено, что для 269 игр не указан год выпуска."
   ]
  },
  {
   "cell_type": "code",
   "execution_count": 11,
   "metadata": {},
   "outputs": [
    {
     "data": {
      "text/html": [
       "<div>\n",
       "<style scoped>\n",
       "    .dataframe tbody tr th:only-of-type {\n",
       "        vertical-align: middle;\n",
       "    }\n",
       "\n",
       "    .dataframe tbody tr th {\n",
       "        vertical-align: top;\n",
       "    }\n",
       "\n",
       "    .dataframe thead th {\n",
       "        text-align: right;\n",
       "    }\n",
       "</style>\n",
       "<table border=\"1\" class=\"dataframe\">\n",
       "  <thead>\n",
       "    <tr style=\"text-align: right;\">\n",
       "      <th></th>\n",
       "      <th>platform</th>\n",
       "      <th>year_of_release</th>\n",
       "      <th>sales</th>\n",
       "    </tr>\n",
       "  </thead>\n",
       "  <tbody>\n",
       "    <tr>\n",
       "      <th>0</th>\n",
       "      <td>2600</td>\n",
       "      <td>0</td>\n",
       "      <td>10.50</td>\n",
       "    </tr>\n",
       "    <tr>\n",
       "      <th>1</th>\n",
       "      <td>2600</td>\n",
       "      <td>1980</td>\n",
       "      <td>11.38</td>\n",
       "    </tr>\n",
       "    <tr>\n",
       "      <th>2</th>\n",
       "      <td>2600</td>\n",
       "      <td>1981</td>\n",
       "      <td>35.68</td>\n",
       "    </tr>\n",
       "    <tr>\n",
       "      <th>3</th>\n",
       "      <td>2600</td>\n",
       "      <td>1982</td>\n",
       "      <td>28.88</td>\n",
       "    </tr>\n",
       "    <tr>\n",
       "      <th>4</th>\n",
       "      <td>2600</td>\n",
       "      <td>1983</td>\n",
       "      <td>5.84</td>\n",
       "    </tr>\n",
       "    <tr>\n",
       "      <th>...</th>\n",
       "      <td>...</td>\n",
       "      <td>...</td>\n",
       "      <td>...</td>\n",
       "    </tr>\n",
       "    <tr>\n",
       "      <th>249</th>\n",
       "      <td>XB</td>\n",
       "      <td>2008</td>\n",
       "      <td>0.18</td>\n",
       "    </tr>\n",
       "    <tr>\n",
       "      <th>250</th>\n",
       "      <td>XOne</td>\n",
       "      <td>2013</td>\n",
       "      <td>18.96</td>\n",
       "    </tr>\n",
       "    <tr>\n",
       "      <th>251</th>\n",
       "      <td>XOne</td>\n",
       "      <td>2014</td>\n",
       "      <td>54.07</td>\n",
       "    </tr>\n",
       "    <tr>\n",
       "      <th>252</th>\n",
       "      <td>XOne</td>\n",
       "      <td>2015</td>\n",
       "      <td>60.14</td>\n",
       "    </tr>\n",
       "    <tr>\n",
       "      <th>253</th>\n",
       "      <td>XOne</td>\n",
       "      <td>2016</td>\n",
       "      <td>26.15</td>\n",
       "    </tr>\n",
       "  </tbody>\n",
       "</table>\n",
       "<p>254 rows × 3 columns</p>\n",
       "</div>"
      ],
      "text/plain": [
       "    platform  year_of_release  sales\n",
       "0       2600                0  10.50\n",
       "1       2600             1980  11.38\n",
       "2       2600             1981  35.68\n",
       "3       2600             1982  28.88\n",
       "4       2600             1983   5.84\n",
       "..       ...              ...    ...\n",
       "249       XB             2008   0.18\n",
       "250     XOne             2013  18.96\n",
       "251     XOne             2014  54.07\n",
       "252     XOne             2015  60.14\n",
       "253     XOne             2016  26.15\n",
       "\n",
       "[254 rows x 3 columns]"
      ]
     },
     "execution_count": 11,
     "metadata": {},
     "output_type": "execute_result"
    }
   ],
   "source": [
    "games_sales = games.pivot_table(index = ('platform', 'year_of_release'), values = ('sales'), aggfunc = 'sum').reset_index()\n",
    "games_sales"
   ]
  },
  {
   "cell_type": "code",
   "execution_count": 12,
   "metadata": {},
   "outputs": [
    {
     "data": {
      "text/html": [
       "<div>\n",
       "<style scoped>\n",
       "    .dataframe tbody tr th:only-of-type {\n",
       "        vertical-align: middle;\n",
       "    }\n",
       "\n",
       "    .dataframe tbody tr th {\n",
       "        vertical-align: top;\n",
       "    }\n",
       "\n",
       "    .dataframe thead th {\n",
       "        text-align: right;\n",
       "    }\n",
       "</style>\n",
       "<table border=\"1\" class=\"dataframe\">\n",
       "  <thead>\n",
       "    <tr style=\"text-align: right;\">\n",
       "      <th></th>\n",
       "      <th>sales</th>\n",
       "    </tr>\n",
       "    <tr>\n",
       "      <th>platform</th>\n",
       "      <th></th>\n",
       "    </tr>\n",
       "  </thead>\n",
       "  <tbody>\n",
       "    <tr>\n",
       "      <th>PS2</th>\n",
       "      <td>1255.77</td>\n",
       "    </tr>\n",
       "    <tr>\n",
       "      <th>X360</th>\n",
       "      <td>971.42</td>\n",
       "    </tr>\n",
       "    <tr>\n",
       "      <th>PS3</th>\n",
       "      <td>939.65</td>\n",
       "    </tr>\n",
       "    <tr>\n",
       "      <th>Wii</th>\n",
       "      <td>907.51</td>\n",
       "    </tr>\n",
       "    <tr>\n",
       "      <th>DS</th>\n",
       "      <td>806.12</td>\n",
       "    </tr>\n",
       "  </tbody>\n",
       "</table>\n",
       "</div>"
      ],
      "text/plain": [
       "            sales\n",
       "platform         \n",
       "PS2       1255.77\n",
       "X360       971.42\n",
       "PS3        939.65\n",
       "Wii        907.51\n",
       "DS         806.12"
      ]
     },
     "execution_count": 12,
     "metadata": {},
     "output_type": "execute_result"
    }
   ],
   "source": [
    "#Выберем 5 платформ с наибольшими суммарными продажами:\n",
    "games_sales.pivot_table(index = 'platform', values = 'sales', aggfunc = 'sum').sort_values(\n",
    "    by = 'sales', ascending = False).head(5)\n"
   ]
  },
  {
   "cell_type": "markdown",
   "metadata": {},
   "source": []
  },
  {
   "cell_type": "code",
   "execution_count": 13,
   "metadata": {},
   "outputs": [
    {
     "data": {
      "text/plain": [
       "<AxesSubplot:title={'center':'Продажи PS2 по годам'}, xlabel='Год выпуска'>"
      ]
     },
     "execution_count": 13,
     "metadata": {},
     "output_type": "execute_result"
    },
    {
     "data": {
      "image/png": "[encoded data removed]",
      "text/plain": [
       "<Figure size 432x288 with 1 Axes>"
      ]
     },
     "metadata": {
      "needs_background": "light"
     },
     "output_type": "display_data"
    }
   ],
   "source": [
    "games_sales.query('year_of_release > 0').query('platform == \"PS2\"').plot(\n",
    "    xlabel = 'Год выпуска', title = \"Продажи PS2 по годам\", x = \"year_of_release\", grid = True)"
   ]
  },
  {
   "cell_type": "code",
   "execution_count": 14,
   "metadata": {},
   "outputs": [
    {
     "data": {
      "text/plain": [
       "<AxesSubplot:title={'center':'Продажи X360 по годам'}, xlabel='Год выпуска'>"
      ]
     },
     "execution_count": 14,
     "metadata": {},
     "output_type": "execute_result"
    },
    {
     "data": {
      "image/png": "[encoded data removed]",
      "text/plain": [
       "<Figure size 432x288 with 1 Axes>"
      ]
     },
     "metadata": {
      "needs_background": "light"
     },
     "output_type": "display_data"
    }
   ],
   "source": [
    "games_sales.query('year_of_release > 0').query('platform == \"X360\" ').plot(\n",
    "    xlabel = 'Год выпуска', title = \"Продажи X360 по годам\", x = \"year_of_release\", grid = True) "
   ]
  },
  {
   "cell_type": "code",
   "execution_count": 15,
   "metadata": {},
   "outputs": [
    {
     "data": {
      "text/plain": [
       "<AxesSubplot:title={'center':'Продажи PS3 по годам'}, xlabel='Год выпуска'>"
      ]
     },
     "execution_count": 15,
     "metadata": {},
     "output_type": "execute_result"
    },
    {
     "data": {
      "image/png": "[encoded data removed]",
      "text/plain": [
       "<Figure size 432x288 with 1 Axes>"
      ]
     },
     "metadata": {
      "needs_background": "light"
     },
     "output_type": "display_data"
    }
   ],
   "source": [
    "games_sales.query('year_of_release > 0').query('platform == \"PS3\" ').plot(\n",
    "    xlabel = 'Год выпуска', title = \"Продажи PS3 по годам\", x = \"year_of_release\", grid = True) "
   ]
  },
  {
   "cell_type": "code",
   "execution_count": 16,
   "metadata": {},
   "outputs": [
    {
     "data": {
      "text/plain": [
       "<AxesSubplot:title={'center':'Продажи Wii по годам'}, xlabel='Год выпуска'>"
      ]
     },
     "execution_count": 16,
     "metadata": {},
     "output_type": "execute_result"
    },
    {
     "data": {
      "image/png": "[encoded data removed]",
      "text/plain": [
       "<Figure size 432x288 with 1 Axes>"
      ]
     },
     "metadata": {
      "needs_background": "light"
     },
     "output_type": "display_data"
    }
   ],
   "source": [
    "games_sales.query('year_of_release > 0').query('platform == \"Wii\" ').plot(\n",
    "    xlabel = 'Год выпуска', title = \"Продажи Wii по годам\", x = \"year_of_release\", grid = True) "
   ]
  },
  {
   "cell_type": "code",
   "execution_count": 17,
   "metadata": {},
   "outputs": [
    {
     "data": {
      "text/plain": [
       "<AxesSubplot:title={'center':'Продажи DS по годам'}, xlabel='Год выпуска'>"
      ]
     },
     "execution_count": 17,
     "metadata": {},
     "output_type": "execute_result"
    },
    {
     "data": {
      "image/png": "[encoded data removed]",
      "text/plain": [
       "<Figure size 432x288 with 1 Axes>"
      ]
     },
     "metadata": {
      "needs_background": "light"
     },
     "output_type": "display_data"
    }
   ],
   "source": [
    "games_sales.query('year_of_release > 0').query('platform == \"DS\" ').plot(\n",
    "    xlabel = 'Год выпуска', title = \"Продажи DS по годам\", x = \"year_of_release\", grid = True) "
   ]
  },
  {
   "cell_type": "markdown",
   "metadata": {},
   "source": [
    "Анализ распределения продаж по пяти платформам с наибольшими продажами показал, что средний срок \"жизни\" платформы составляет 10 лет. В связи с этим далее в исследовании будут учитываться данные за 2006 - 2016 года."
   ]
  },
  {
   "cell_type": "markdown",
   "metadata": {},
   "source": [
    "- Примем, что актуальным является период 2 года с 2014 по 2016 года. Отфильтруем таблицу."
   ]
  },
  {
   "cell_type": "code",
   "execution_count": 18,
   "metadata": {},
   "outputs": [],
   "source": [
    "games_sales_actual = games.query('year_of_release > = 2014')"
   ]
  },
  {
   "cell_type": "code",
   "execution_count": 19,
   "metadata": {},
   "outputs": [
    {
     "name": "stdout",
     "output_type": "stream",
     "text": [
      "Платформы с наибольшим числом продаж за последние 2 года:\n"
     ]
    },
    {
     "data": {
      "text/html": [
       "<div>\n",
       "<style scoped>\n",
       "    .dataframe tbody tr th:only-of-type {\n",
       "        vertical-align: middle;\n",
       "    }\n",
       "\n",
       "    .dataframe tbody tr th {\n",
       "        vertical-align: top;\n",
       "    }\n",
       "\n",
       "    .dataframe thead th {\n",
       "        text-align: right;\n",
       "    }\n",
       "</style>\n",
       "<table border=\"1\" class=\"dataframe\">\n",
       "  <thead>\n",
       "    <tr style=\"text-align: right;\">\n",
       "      <th></th>\n",
       "      <th>sales</th>\n",
       "    </tr>\n",
       "    <tr>\n",
       "      <th>platform</th>\n",
       "      <th></th>\n",
       "    </tr>\n",
       "  </thead>\n",
       "  <tbody>\n",
       "    <tr>\n",
       "      <th>PS4</th>\n",
       "      <td>288.15</td>\n",
       "    </tr>\n",
       "    <tr>\n",
       "      <th>XOne</th>\n",
       "      <td>140.36</td>\n",
       "    </tr>\n",
       "    <tr>\n",
       "      <th>3DS</th>\n",
       "      <td>86.68</td>\n",
       "    </tr>\n",
       "    <tr>\n",
       "      <th>PS3</th>\n",
       "      <td>68.18</td>\n",
       "    </tr>\n",
       "    <tr>\n",
       "      <th>X360</th>\n",
       "      <td>48.22</td>\n",
       "    </tr>\n",
       "  </tbody>\n",
       "</table>\n",
       "</div>"
      ],
      "text/plain": [
       "           sales\n",
       "platform        \n",
       "PS4       288.15\n",
       "XOne      140.36\n",
       "3DS        86.68\n",
       "PS3        68.18\n",
       "X360       48.22"
      ]
     },
     "execution_count": 19,
     "metadata": {},
     "output_type": "execute_result"
    }
   ],
   "source": [
    "#Выберем 5 платформ с наибольшими суммарными продажами за последние 10 лет:\n",
    "print('Платформы с наибольшим числом продаж за последние 2 года:')\n",
    "games_sales_actual.pivot_table(index = 'platform', values = 'sales', aggfunc = 'sum').sort_values(\n",
    "    by = 'sales', ascending = False).head(5)"
   ]
  },
  {
   "cell_type": "code",
   "execution_count": 20,
   "metadata": {},
   "outputs": [
    {
     "name": "stdout",
     "output_type": "stream",
     "text": [
      "Платформы с наименьшим числом продаж за последние 2 года:\n"
     ]
    },
    {
     "data": {
      "text/html": [
       "<div>\n",
       "<style scoped>\n",
       "    .dataframe tbody tr th:only-of-type {\n",
       "        vertical-align: middle;\n",
       "    }\n",
       "\n",
       "    .dataframe tbody tr th {\n",
       "        vertical-align: top;\n",
       "    }\n",
       "\n",
       "    .dataframe thead th {\n",
       "        text-align: right;\n",
       "    }\n",
       "</style>\n",
       "<table border=\"1\" class=\"dataframe\">\n",
       "  <thead>\n",
       "    <tr style=\"text-align: right;\">\n",
       "      <th></th>\n",
       "      <th>sales</th>\n",
       "    </tr>\n",
       "    <tr>\n",
       "      <th>platform</th>\n",
       "      <th></th>\n",
       "    </tr>\n",
       "  </thead>\n",
       "  <tbody>\n",
       "    <tr>\n",
       "      <th>PSP</th>\n",
       "      <td>0.36</td>\n",
       "    </tr>\n",
       "    <tr>\n",
       "      <th>Wii</th>\n",
       "      <td>5.07</td>\n",
       "    </tr>\n",
       "    <tr>\n",
       "      <th>PSV</th>\n",
       "      <td>22.40</td>\n",
       "    </tr>\n",
       "    <tr>\n",
       "      <th>PC</th>\n",
       "      <td>27.05</td>\n",
       "    </tr>\n",
       "    <tr>\n",
       "      <th>WiiU</th>\n",
       "      <td>42.98</td>\n",
       "    </tr>\n",
       "  </tbody>\n",
       "</table>\n",
       "</div>"
      ],
      "text/plain": [
       "          sales\n",
       "platform       \n",
       "PSP        0.36\n",
       "Wii        5.07\n",
       "PSV       22.40\n",
       "PC        27.05\n",
       "WiiU      42.98"
      ]
     },
     "execution_count": 20,
     "metadata": {},
     "output_type": "execute_result"
    }
   ],
   "source": [
    "print('Платформы с наименьшим числом продаж за последние 2 года:')\n",
    "games_sales_actual.pivot_table(index = 'platform', values = 'sales', aggfunc = 'sum').sort_values(\n",
    "    by = 'sales', ascending = True).head(5)"
   ]
  },
  {
   "cell_type": "code",
   "execution_count": 21,
   "metadata": {},
   "outputs": [
    {
     "data": {
      "text/plain": [
       "<AxesSubplot:title={'center':'sales'}, xlabel='platform'>"
      ]
     },
     "execution_count": 21,
     "metadata": {},
     "output_type": "execute_result"
    },
    {
     "data": {
      "image/png": "[encoded data removed]",
      "text/plain": [
       "<Figure size 1440x720 with 1 Axes>"
      ]
     },
     "metadata": {
      "needs_background": "light"
     },
     "output_type": "display_data"
    }
   ],
   "source": [
    "games_sales_actual.boxplot(by = 'platform', column = 'sales', figsize = (20,10))"
   ]
  },
  {
   "cell_type": "code",
   "execution_count": 22,
   "metadata": {},
   "outputs": [
    {
     "data": {
      "text/plain": [
       "(0.0, 2.0)"
      ]
     },
     "execution_count": 22,
     "metadata": {},
     "output_type": "execute_result"
    },
    {
     "data": {
      "image/png": "[encoded data removed]",
      "text/plain": [
       "<Figure size 1440x720 with 1 Axes>"
      ]
     },
     "metadata": {
      "needs_background": "light"
     },
     "output_type": "display_data"
    }
   ],
   "source": [
    "games_sales_actual.boxplot(by = 'platform', column = 'sales', figsize = (20,10))\n",
    "plt.ylim(0, 2)"
   ]
  },
  {
   "cell_type": "markdown",
   "metadata": {},
   "source": [
    "- По графику разброса глобальных продаж с разбивкой по платформам видно, что медианное значение продаж за последние 2 года находится в пределах 250 000 в год. Подтвердились данные по платформам лидерам и аутсайдерам по продажам. Стоит отметить, что лидеры продаж PS4 и XOne имеют широкий диапазон положительных значений, смещение в положительную сторону, в то время, как платформа 3DS лидерует за счёт большого количества выбросов, а значит делать ставку на её прибыльность преждевременно."
   ]
  },
  {
   "cell_type": "markdown",
   "metadata": {},
   "source": [
    "- На примере платформы PS4 рассмотрим зависимость между продажами и отзывами пользователей и критиков."
   ]
  },
  {
   "cell_type": "code",
   "execution_count": 23,
   "metadata": {},
   "outputs": [
    {
     "data": {
      "text/plain": [
       "(-0.04013158947269733, 0.40266141068104094)"
      ]
     },
     "execution_count": 23,
     "metadata": {},
     "output_type": "execute_result"
    },
    {
     "data": {
      "image/png": "[encoded data removed]",
      "text/plain": [
       "<Figure size 432x288 with 1 Axes>"
      ]
     },
     "metadata": {
      "needs_background": "light"
     },
     "output_type": "display_data"
    },
    {
     "data": {
      "image/png": "[encoded data removed]",
      "text/plain": [
       "<Figure size 432x288 with 1 Axes>"
      ]
     },
     "metadata": {
      "needs_background": "light"
     },
     "output_type": "display_data"
    }
   ],
   "source": [
    "games_ps4_users = games_sales_actual.query('platform == \"PS4\"')\n",
    "games_ps4_users = games_ps4_users.query('user_score != 0')\n",
    "\n",
    "games_ps4_users.plot(x = 'sales', y = 'user_score', kind = 'scatter')\n",
    "\n",
    "games_ps4_critic = games_sales_actual.query('platform == \"PS4\"')\n",
    "games_ps4_critic = games_ps4_critic.query('critic_score !=0')\n",
    "games_ps4_critic.plot(x = 'sales', y = 'critic_score', kind = 'scatter')\n",
    "\n",
    "games_ps4_users['sales'].corr(games_ps4_users['user_score']), games_ps4_critic['sales'].corr(games_ps4_critic['critic_score'])"
   ]
  },
  {
   "cell_type": "markdown",
   "metadata": {},
   "source": [
    "### Вывод: \n",
    "Между оценками пользователей и общими продажами отсутствует корреляция (значение коэффициента корреляции -4%). Между оценками критиков и продажами есть небольшая прямо пропорциональная зависимость (значение около 40%)."
   ]
  },
  {
   "cell_type": "code",
   "execution_count": 24,
   "metadata": {},
   "outputs": [
    {
     "data": {
      "text/plain": [
       "(-0.0703839280647581, 0.42867694370333226)"
      ]
     },
     "execution_count": 24,
     "metadata": {},
     "output_type": "execute_result"
    },
    {
     "data": {
      "image/png": "[encoded data removed]",
      "text/plain": [
       "<Figure size 432x288 with 1 Axes>"
      ]
     },
     "metadata": {
      "needs_background": "light"
     },
     "output_type": "display_data"
    },
    {
     "data": {
      "image/png": "[encoded data removed]",
      "text/plain": [
       "<Figure size 432x288 with 1 Axes>"
      ]
     },
     "metadata": {
      "needs_background": "light"
     },
     "output_type": "display_data"
    }
   ],
   "source": [
    "#Исследуем взаимосвязь на основе платформы XOne:\n",
    "games_XOne_users = games_sales_actual.query('platform == \"XOne\"') \n",
    "games_XOne_users = games_XOne_users.query('user_score !=0')\n",
    "                                            \n",
    "games_XOne_users.plot(x = 'sales', y = 'user_score', kind = 'scatter')\n",
    "\n",
    "games_XOne_critic = games_sales_actual.query('platform == \"XOne\"') \n",
    "games_XOne_critic = games_XOne_critic.query('critic_score !=0')\n",
    "\n",
    "games_XOne_critic.plot(x = 'sales', y = 'critic_score', kind = 'scatter')\n",
    "\n",
    "games_XOne_users['sales'].corr(games_XOne_users['user_score']), games_XOne_critic['sales'].corr(games_XOne_critic['critic_score'])\n"
   ]
  },
  {
   "cell_type": "code",
   "execution_count": 25,
   "metadata": {},
   "outputs": [
    {
     "data": {
      "text/plain": [
       "(-0.138444570945665, 0.5257228356581523)"
      ]
     },
     "execution_count": 25,
     "metadata": {},
     "output_type": "execute_result"
    },
    {
     "data": {
      "image/png": "[encoded data removed]",
      "text/plain": [
       "<Figure size 432x288 with 1 Axes>"
      ]
     },
     "metadata": {
      "needs_background": "light"
     },
     "output_type": "display_data"
    },
    {
     "data": {
      "image/png": "[encoded data removed]",
      "text/plain": [
       "<Figure size 432x288 with 1 Axes>"
      ]
     },
     "metadata": {
      "needs_background": "light"
     },
     "output_type": "display_data"
    }
   ],
   "source": [
    "#Исследуем взаимосвязь на основе платформы X360:\n",
    "games_X360_users = games_sales_actual.query('platform == \"X360\"') \n",
    "games_X360_users = games_X360_users.query('user_score !=0')\n",
    "                                            \n",
    "games_X360_users.plot(x = 'sales', y = 'user_score', kind = 'scatter')\n",
    "\n",
    "games_X360_critic = games_sales_actual.query('platform == \"X360\"') \n",
    "games_X360_critic = games_X360_critic.query('critic_score !=0')\n",
    "\n",
    "games_X360_critic.plot(x = 'sales', y = 'critic_score', kind = 'scatter')\n",
    "\n",
    "games_X360_users['sales'].corr(games_X360_users['user_score']), games_X360_critic['sales'].corr(games_X360_critic['critic_score'])"
   ]
  },
  {
   "cell_type": "code",
   "execution_count": 26,
   "metadata": {},
   "outputs": [
    {
     "data": {
      "text/plain": [
       "array([<AxesSubplot:ylabel='sales'>], dtype=object)"
      ]
     },
     "execution_count": 26,
     "metadata": {},
     "output_type": "execute_result"
    },
    {
     "data": {
      "image/png": "[encoded data removed]",
      "text/plain": [
       "<Figure size 720x720 with 1 Axes>"
      ]
     },
     "metadata": {},
     "output_type": "display_data"
    }
   ],
   "source": [
    "#Определим жанры-лидеры по продажам за последние 10 лет: \n",
    "games_sales_actual.pivot_table(index = 'genre', values = 'sales', aggfunc = 'sum').sort_values(\n",
    "    by = 'sales', ascending = False).plot(kind = 'pie', subplots=True, figsize = (10,10))"
   ]
  },
  {
   "cell_type": "markdown",
   "metadata": {},
   "source": [
    "В распределении игр по жанрам наблюдается значительная разница (в 15 раз) между жанрами с наибольшими показателями по продажам (Action, Sports, Shooter) и наименьшими (Strategy, Puzzle, Adventure)."
   ]
  },
  {
   "cell_type": "code",
   "execution_count": 27,
   "metadata": {},
   "outputs": [
    {
     "data": {
      "text/plain": [
       "array([<AxesSubplot:ylabel='sales'>], dtype=object)"
      ]
     },
     "execution_count": 27,
     "metadata": {},
     "output_type": "execute_result"
    },
    {
     "data": {
      "image/png": "[encoded data removed]",
      "text/plain": [
       "<Figure size 720x720 with 1 Axes>"
      ]
     },
     "metadata": {},
     "output_type": "display_data"
    }
   ],
   "source": [
    "games_sales_actual.pivot_table(index = 'genre', values = 'sales', aggfunc = 'mean').sort_values(\n",
    "    by = 'sales', ascending = False).plot(kind = 'pie', subplots=True, figsize = (10,10))"
   ]
  },
  {
   "cell_type": "markdown",
   "metadata": {},
   "source": [
    "### Вывод:\n",
    "Наибольшую прибыль приносят продажи в жанрах Shooter, Sports, Platform и Fighting."
   ]
  },
  {
   "cell_type": "markdown",
   "metadata": {},
   "source": [
    "- Определим лидеров продаж по регионам:"
   ]
  },
  {
   "cell_type": "code",
   "execution_count": 28,
   "metadata": {},
   "outputs": [
    {
     "data": {
      "text/plain": [
       "<AxesSubplot:title={'center':'Продажи в Северной Америке за последние 2 года, млн проданных копий'}, xlabel='platform'>"
      ]
     },
     "execution_count": 28,
     "metadata": {},
     "output_type": "execute_result"
    },
    {
     "data": {
      "image/png": "[encoded data removed]",
      "text/plain": [
       "<Figure size 432x288 with 1 Axes>"
      ]
     },
     "metadata": {
      "needs_background": "light"
     },
     "output_type": "display_data"
    }
   ],
   "source": [
    "games_sales_actual.pivot_table(index = ('platform'), values = 'na_sales', aggfunc = 'sum').sort_values(\n",
    "    by = 'na_sales', ascending = False).head(5).plot(\n",
    "    kind = 'bar', title = 'Продажи в Северной Америке за последние 2 года, млн проданных копий', grid = True)"
   ]
  },
  {
   "cell_type": "code",
   "execution_count": 29,
   "metadata": {},
   "outputs": [
    {
     "data": {
      "text/plain": [
       "<AxesSubplot:title={'center':'Продажи в Европе за последние 2 года, млн проданных копий'}, xlabel='platform'>"
      ]
     },
     "execution_count": 29,
     "metadata": {},
     "output_type": "execute_result"
    },
    {
     "data": {
      "image/png": "[encoded data removed]",
      "text/plain": [
       "<Figure size 432x288 with 1 Axes>"
      ]
     },
     "metadata": {
      "needs_background": "light"
     },
     "output_type": "display_data"
    }
   ],
   "source": [
    "games_sales_actual.pivot_table(index = 'platform', values = 'eu_sales', aggfunc = 'sum').sort_values(\n",
    "    by = 'eu_sales', ascending = False).head(5).plot(\n",
    "    kind = 'bar', title = 'Продажи в Европе за последние 2 года, млн проданных копий', grid = True)"
   ]
  },
  {
   "cell_type": "code",
   "execution_count": 30,
   "metadata": {},
   "outputs": [
    {
     "data": {
      "text/plain": [
       "<AxesSubplot:title={'center':'Продажи в Японии за последние 2 года, млн проданных копий'}, xlabel='platform'>"
      ]
     },
     "execution_count": 30,
     "metadata": {},
     "output_type": "execute_result"
    },
    {
     "data": {
      "image/png": "[encoded data removed]",
      "text/plain": [
       "<Figure size 432x288 with 1 Axes>"
      ]
     },
     "metadata": {
      "needs_background": "light"
     },
     "output_type": "display_data"
    }
   ],
   "source": [
    "games_sales_actual.pivot_table(index = 'platform', values = 'jp_sales', aggfunc = 'sum').sort_values(\n",
    "    by = 'jp_sales', ascending = False).head(5).plot(\n",
    "    kind = 'bar', title = 'Продажи в Японии за последние 2 года, млн проданных копий', grid=True)"
   ]
  },
  {
   "cell_type": "markdown",
   "metadata": {},
   "source": [
    "### Вывод:\n",
    "В Северной Америке лидируют продажи на платформах PS4 и XОne (100 и 80 млн проданных копий), более чем в 2 раза меньше продаж по платформам X360, 3DS и PS3 (30, 20 и 20 млн копий).\n",
    "В Европе продано 130 млн копий на платформе PS4, 50 млн - Xone, и около 20 млн на каждой из платформ PS3, PC, 3DS. В Японии продано 50 млн на платформе 3DS, по 15 млн - PS4 и PSV, около 10 млн PS3, 8 млн WiiiU."
   ]
  },
  {
   "cell_type": "code",
   "execution_count": 31,
   "metadata": {},
   "outputs": [
    {
     "data": {
      "text/plain": [
       "<AxesSubplot:title={'center':'ТОП-5 жанров-лидеров продаж в Северной Америке за период 2014-2016 гг'}, xlabel='genre'>"
      ]
     },
     "execution_count": 31,
     "metadata": {},
     "output_type": "execute_result"
    },
    {
     "data": {
      "image/png": "[encoded data removed]",
      "text/plain": [
       "<Figure size 432x288 with 1 Axes>"
      ]
     },
     "metadata": {
      "needs_background": "light"
     },
     "output_type": "display_data"
    }
   ],
   "source": [
    "games_sales_actual.pivot_table(index = 'genre', values = 'na_sales', aggfunc = 'sum').reset_index().sort_values(\n",
    "    by = 'na_sales', ascending = False).head(5).plot(\n",
    "    kind = 'bar', title = 'ТОП-5 жанров-лидеров продаж в Северной Америке за период 2014-2016 гг', x = 'genre', grid = 'True')"
   ]
  },
  {
   "cell_type": "code",
   "execution_count": 32,
   "metadata": {},
   "outputs": [
    {
     "data": {
      "text/plain": [
       "<AxesSubplot:title={'center':'ТОП-5 жанров-лидеров продаж в Европе за период 2014-2016 гг'}, xlabel='genre'>"
      ]
     },
     "execution_count": 32,
     "metadata": {},
     "output_type": "execute_result"
    },
    {
     "data": {
      "image/png": "[encoded data removed]",
      "text/plain": [
       "<Figure size 432x288 with 1 Axes>"
      ]
     },
     "metadata": {
      "needs_background": "light"
     },
     "output_type": "display_data"
    }
   ],
   "source": [
    "games_sales_actual.pivot_table(index = 'genre', values = 'eu_sales', aggfunc = 'sum').sort_values(\n",
    "    by = 'eu_sales', ascending = False).head(5).plot(\n",
    "    kind = 'bar', title = 'ТОП-5 жанров-лидеров продаж в Европе за период 2014-2016 гг', grid = 'True')"
   ]
  },
  {
   "cell_type": "code",
   "execution_count": 33,
   "metadata": {},
   "outputs": [
    {
     "data": {
      "text/plain": [
       "<AxesSubplot:title={'center':'ТОП-5 жанров-лидеров продаж в Японии за период 2014-2016 гг'}, xlabel='genre'>"
      ]
     },
     "execution_count": 33,
     "metadata": {},
     "output_type": "execute_result"
    },
    {
     "data": {
      "image/png": "[encoded data removed]",
      "text/plain": [
       "<Figure size 432x288 with 1 Axes>"
      ]
     },
     "metadata": {
      "needs_background": "light"
     },
     "output_type": "display_data"
    }
   ],
   "source": [
    "games_sales_actual.pivot_table(index = 'genre', values = 'jp_sales', aggfunc = 'sum').sort_values(\n",
    "    by = 'jp_sales', ascending = False).head(5).plot(\n",
    "    kind = 'bar', title = 'ТОП-5 жанров-лидеров продаж в Японии за период 2014-2016 гг', grid = True)"
   ]
  },
  {
   "cell_type": "markdown",
   "metadata": {},
   "source": [
    "### Вывод: \n",
    "В Северной Америке среди жанров лидируют Shooter, Action, Sports (80, 72 и 48 млн проданных копий соответственно), в Европе Action, Shooter, Sports (74, 65, 48 млн копий), в Японии - Role-Playing, Action (32, 30 млн копий). "
   ]
  },
  {
   "cell_type": "code",
   "execution_count": 34,
   "metadata": {},
   "outputs": [
    {
     "data": {
      "image/png": "[encoded data removed]",
      "text/plain": [
       "<Figure size 432x288 with 1 Axes>"
      ]
     },
     "metadata": {
      "needs_background": "light"
     },
     "output_type": "display_data"
    }
   ],
   "source": [
    "#Отобразим на графике зависимость между рейтингом ESBR и продажами в регионах:\n",
    "games_esbr = games_sales_actual.pivot_table(index = 'rating', \n",
    "                                            values = ('jp_sales', 'eu_sales', 'na_sales'), aggfunc = 'sum').reset_index().plot(kind = 'bar',x='rating')"
   ]
  },
  {
   "cell_type": "markdown",
   "metadata": {},
   "source": [
    "<id = 'error'>\n",
    "### Вывод: \n",
    "\n",
    "В Европе и Северной Америке больше всего игр продаётся в категории М, на втором месте в Европе продади игр без категории и с категорией Е, в Северной Америке - игр без категории. В Японии больше всего продаж игр без категории, так как организация ESBR не работает на японском рынке и игр без маркировки ESBR в Японии преобладающее количество."
   ]
  },
  {
   "cell_type": "markdown",
   "metadata": {},
   "source": [
    "### Проверка гипотез\n",
    "- Средние пользовательские рейтинги платформ Xbox One и PC одинаковые.\n",
    "Нулевая гипотеза будет звучать как \"Средние пользовательские рейтинги платформ Xbox One и PC равны\". Альтернативная гипотеза может звучать как \"Средние пользовательские рейтинги платформ Xbox One и PC не равны\". Проверим нулевую гипотезу по методу сравнения среднего выборочного двух генеральных совокупностей."
   ]
  },
  {
   "cell_type": "code",
   "execution_count": 35,
   "metadata": {},
   "outputs": [
    {
     "data": {
      "text/plain": [
       "array(['PS4', '3DS', 'XOne', 'WiiU', 'PS3', 'X360', 'PC', 'Wii', 'PSV',\n",
       "       'PSP'], dtype=object)"
      ]
     },
     "execution_count": 35,
     "metadata": {},
     "output_type": "execute_result"
    }
   ],
   "source": [
    "games_sales_actual['platform'].unique()"
   ]
  },
  {
   "cell_type": "code",
   "execution_count": 36,
   "metadata": {},
   "outputs": [],
   "source": [
    "games_gip = games.query('user_score !=0')"
   ]
  },
  {
   "cell_type": "code",
   "execution_count": 37,
   "metadata": {},
   "outputs": [
    {
     "name": "stdout",
     "output_type": "stream",
     "text": [
      "Отвергаем нулевую гипотезу\n"
     ]
    },
    {
     "name": "stderr",
     "output_type": "stream",
     "text": [
      "/tmp/ipykernel_150/3966213566.py:6: DeprecationWarning: Please use `ttest_ind` from the `scipy.stats` namespace, the `scipy.stats.stats` namespace is deprecated.\n",
      "  result = st.stats.ttest_ind(xbox,pc)\n"
     ]
    }
   ],
   "source": [
    "alpha = 0.05\n",
    "xbox = games_gip.query('platform == \"XOne\"')\n",
    "xbox = xbox['user_score']\n",
    "pc = games_gip.query('platform == \"PC\"')\n",
    "pc = pc['user_score']\n",
    "result = st.stats.ttest_ind(xbox,pc)\n",
    "if result.pvalue<alpha:\n",
    "    print (\"Отвергаем нулевую гипотезу\")\n",
    "else:\n",
    "    print ('Не получилось отвергнуть гипотезу')   "
   ]
  },
  {
   "cell_type": "markdown",
   "metadata": {},
   "source": [
    "Нулевая гипотеза отвергнута, следовательно мы принимаем альтернативную: средние пользовательские рейтинги платформ Xbox One и PC не равны."
   ]
  },
  {
   "cell_type": "markdown",
   "metadata": {},
   "source": [
    "- Проверяем нулевую гипотезу \"Средние пользовательские рейтинги жанров Action (англ. «действие», экшен-игры) и Sports (англ. «спортивные соревнования») разные\". Альтернативной будет гипотеза \"Средние пользовательские рейтинги жанров Action (англ. «действие», экшен-игры) и Sports (англ. «спортивные соревнования») равны\""
   ]
  },
  {
   "cell_type": "code",
   "execution_count": 38,
   "metadata": {},
   "outputs": [
    {
     "name": "stdout",
     "output_type": "stream",
     "text": [
      "Не получилось отвергнуть гипотезу\n"
     ]
    },
    {
     "name": "stderr",
     "output_type": "stream",
     "text": [
      "/tmp/ipykernel_150/928013263.py:6: DeprecationWarning: Please use `ttest_ind` from the `scipy.stats` namespace, the `scipy.stats.stats` namespace is deprecated.\n",
      "  result = st.stats.ttest_ind(action,sports)\n"
     ]
    }
   ],
   "source": [
    "alpha = 0.05\n",
    "action = games_gip.query('genre == \"Action\"')\n",
    "action = action['user_score']\n",
    "sports = games_gip.query('genre == \"Sports\"')\n",
    "sports = sports['user_score']\n",
    "result = st.stats.ttest_ind(action,sports)\n",
    "if result.pvalue<alpha:\n",
    "    print (\"Отвергаем нулевую гипотезу\")\n",
    "else:\n",
    "    print ('Не получилось отвергнуть гипотезу')"
   ]
  },
  {
   "cell_type": "markdown",
   "metadata": {},
   "source": [
    "Нулевую гипотезу \"Средние пользовательские рейтинги жанров Action (англ. «действие», экшен-игры) и Sports (англ. «спортивные соревнования») разные\" не получилось отвергнуть, следовательно мы её принимаем, принимаем альтернативную гипотезу средние пользовательские рейтинги жанров Action (англ. «действие», экшен-игры) и Sports (англ. «спортивные соревнования») равны."
   ]
  },
  {
   "cell_type": "markdown",
   "metadata": {},
   "source": [
    "### Вывод:\n",
    "Исследования в проекте производились на основании актуального периода - 2 прошедших года.\n",
    "Выявлены платформы-лидеры по продажам за указанный период: PS4 (288,15 млн), X360 (140,36 млн). Самые низкие продажи отмечены по платформам Wii - 5,07 млн и PSP - 0,36 млн.\n",
    "На основании общего распределения продаж получены выводы: среднее количество прдаваемых игр по всем платформам составляет 50 млн копий.\n",
    "На основании анализа трёх прибыльных платформ было установлено, что зависимости между оценками пользователей и количеством продаж нет, однако продажи увеличиваются прямо пропорционально оценкам критиков.\n",
    "В целом наиболее прибыльными являются игры в жанрах Action, Sports и Shooter, та же закономерность наблюдается в странах Северной Америки и Европы. В Японии лидируют жанры Role-Playing, Action.\n",
    "Лидерство в общем количестве продаж в странах Северной Америки и Европы составляют платформы XOne и PS4, в Японии - 3DS. \n",
    "Стоит отметить, что доля продаж жителям Японии в 2,5 раза меньше, чем в Северной Америке и Европе.\n",
    "Также получены выводы о том, что средние пользовательские рейтинги жанров Action (англ. «действие», экшен-игры) и Sports (англ. «спортивные соревнования») равны, и средние пользовательские рейтинги платформ Xbox One и PC также равны.\n",
    "Таким образом, на текущий момент потенциально прибыльными являются платформы XOne и PS4, для продвижения на рынке Японии следует обратить внимание на платформу 3DS. Жанрами, приносящими наибольшую прибыль, являются - Action, Sports и Shooter, для Японии - это Role-Playing, Action. "
   ]
  }
 ],
 "metadata": {
  "ExecuteTimeLog": [
   {
    "duration": 52,
    "start_time": "2022-05-25T13:49:27.370Z"
   },
   {
    "duration": 775,
    "start_time": "2022-05-25T13:49:33.365Z"
   },
   {
    "duration": 170,
    "start_time": "2022-05-25T13:49:34.142Z"
   },
   {
    "duration": 73,
    "start_time": "2022-05-25T13:49:59.638Z"
   },
   {
    "duration": 71,
    "start_time": "2022-05-25T13:50:18.775Z"
   },
   {
    "duration": 2,
    "start_time": "2022-05-25T13:53:42.985Z"
   },
   {
    "duration": 8,
    "start_time": "2022-05-25T14:00:27.472Z"
   },
   {
    "duration": 11,
    "start_time": "2022-05-25T14:03:14.193Z"
   },
   {
    "duration": 7,
    "start_time": "2022-05-25T14:04:02.814Z"
   },
   {
    "duration": 4,
    "start_time": "2022-05-25T14:04:14.966Z"
   },
   {
    "duration": 12,
    "start_time": "2022-05-25T14:05:24.775Z"
   },
   {
    "duration": 2,
    "start_time": "2022-05-25T14:06:32.079Z"
   },
   {
    "duration": 19,
    "start_time": "2022-05-25T14:06:34.718Z"
   },
   {
    "duration": 559,
    "start_time": "2022-05-25T14:14:00.262Z"
   },
   {
    "duration": 8,
    "start_time": "2022-05-25T14:14:24.260Z"
   },
   {
    "duration": 7,
    "start_time": "2022-05-25T14:14:40.952Z"
   },
   {
    "duration": 12,
    "start_time": "2022-05-25T14:15:44.435Z"
   },
   {
    "duration": 7,
    "start_time": "2022-05-25T14:19:18.246Z"
   },
   {
    "duration": 6,
    "start_time": "2022-05-25T14:19:33.598Z"
   },
   {
    "duration": 9,
    "start_time": "2022-05-25T14:20:54.414Z"
   },
   {
    "duration": 13,
    "start_time": "2022-05-25T14:21:44.871Z"
   },
   {
    "duration": 12,
    "start_time": "2022-05-25T14:22:00.787Z"
   },
   {
    "duration": 356,
    "start_time": "2022-05-25T14:22:52.638Z"
   },
   {
    "duration": 2,
    "start_time": "2022-05-25T14:24:53.397Z"
   },
   {
    "duration": 69,
    "start_time": "2022-05-25T14:24:53.402Z"
   },
   {
    "duration": 7,
    "start_time": "2022-05-25T14:24:55.630Z"
   },
   {
    "duration": 8,
    "start_time": "2022-05-25T14:25:08.353Z"
   },
   {
    "duration": 8,
    "start_time": "2022-05-25T14:25:13.110Z"
   },
   {
    "duration": 8,
    "start_time": "2022-05-25T14:25:18.030Z"
   },
   {
    "duration": 11,
    "start_time": "2022-05-25T14:25:25.682Z"
   },
   {
    "duration": 15,
    "start_time": "2022-05-25T14:28:27.822Z"
   },
   {
    "duration": 7,
    "start_time": "2022-05-27T10:38:16.813Z"
   },
   {
    "duration": 7,
    "start_time": "2022-05-27T10:48:08.442Z"
   },
   {
    "duration": 15,
    "start_time": "2022-05-27T10:48:23.595Z"
   },
   {
    "duration": 77,
    "start_time": "2022-05-27T10:48:39.299Z"
   },
   {
    "duration": 23,
    "start_time": "2022-05-27T10:48:58.042Z"
   },
   {
    "duration": 10,
    "start_time": "2022-05-27T11:02:23.148Z"
   },
   {
    "duration": 21,
    "start_time": "2022-05-27T11:02:33.343Z"
   },
   {
    "duration": 24,
    "start_time": "2022-05-27T11:05:05.373Z"
   },
   {
    "duration": 3,
    "start_time": "2022-05-27T11:07:06.073Z"
   },
   {
    "duration": 73,
    "start_time": "2022-05-27T11:07:06.078Z"
   },
   {
    "duration": 11,
    "start_time": "2022-05-27T11:07:06.153Z"
   },
   {
    "duration": 14,
    "start_time": "2022-05-27T11:07:06.166Z"
   },
   {
    "duration": 17,
    "start_time": "2022-05-27T11:07:11.021Z"
   },
   {
    "duration": 14,
    "start_time": "2022-05-27T11:07:43.400Z"
   },
   {
    "duration": 478,
    "start_time": "2022-05-27T11:09:02.918Z"
   },
   {
    "duration": 47,
    "start_time": "2022-05-27T11:10:08.808Z"
   },
   {
    "duration": 20,
    "start_time": "2022-05-27T11:11:30.513Z"
   },
   {
    "duration": 34,
    "start_time": "2022-05-27T11:11:41.079Z"
   },
   {
    "duration": 20,
    "start_time": "2022-05-27T11:12:09.944Z"
   },
   {
    "duration": 18,
    "start_time": "2022-05-27T11:13:44.081Z"
   },
   {
    "duration": 17,
    "start_time": "2022-05-27T11:14:08.770Z"
   },
   {
    "duration": 22,
    "start_time": "2022-05-27T11:14:43.027Z"
   },
   {
    "duration": 6,
    "start_time": "2022-05-27T11:14:48.870Z"
   },
   {
    "duration": 13,
    "start_time": "2022-05-27T11:15:33.745Z"
   },
   {
    "duration": 7,
    "start_time": "2022-05-27T11:32:57.058Z"
   },
   {
    "duration": 3,
    "start_time": "2022-05-27T11:53:18.252Z"
   },
   {
    "duration": 5,
    "start_time": "2022-05-27T11:53:23.097Z"
   },
   {
    "duration": 9,
    "start_time": "2022-05-27T11:55:08.492Z"
   },
   {
    "duration": 19,
    "start_time": "2022-05-27T11:55:17.546Z"
   },
   {
    "duration": 17,
    "start_time": "2022-05-27T11:55:30.058Z"
   },
   {
    "duration": 8,
    "start_time": "2022-05-27T11:55:55.698Z"
   },
   {
    "duration": 16,
    "start_time": "2022-05-27T11:55:58.307Z"
   },
   {
    "duration": 38,
    "start_time": "2022-05-27T11:58:31.077Z"
   },
   {
    "duration": 5,
    "start_time": "2022-05-27T12:00:16.405Z"
   },
   {
    "duration": 10,
    "start_time": "2022-05-27T12:09:52.430Z"
   },
   {
    "duration": 15,
    "start_time": "2022-05-27T12:10:02.755Z"
   },
   {
    "duration": 28,
    "start_time": "2022-05-27T12:10:19.693Z"
   },
   {
    "duration": 28,
    "start_time": "2022-05-27T12:11:11.919Z"
   },
   {
    "duration": 13,
    "start_time": "2022-05-27T12:11:52.137Z"
   },
   {
    "duration": 30,
    "start_time": "2022-05-27T12:37:53.446Z"
   },
   {
    "duration": 28,
    "start_time": "2022-05-27T12:39:27.813Z"
   },
   {
    "duration": 14,
    "start_time": "2022-05-27T12:45:05.560Z"
   },
   {
    "duration": 12,
    "start_time": "2022-05-27T12:45:49.025Z"
   },
   {
    "duration": 17,
    "start_time": "2022-05-27T12:46:16.976Z"
   },
   {
    "duration": 11,
    "start_time": "2022-05-27T12:51:20.570Z"
   },
   {
    "duration": 14,
    "start_time": "2022-05-27T12:51:30.340Z"
   },
   {
    "duration": 21,
    "start_time": "2022-05-27T12:51:37.955Z"
   },
   {
    "duration": 19,
    "start_time": "2022-05-27T12:52:40.297Z"
   },
   {
    "duration": 17,
    "start_time": "2022-05-27T12:55:11.763Z"
   },
   {
    "duration": 24,
    "start_time": "2022-05-27T12:55:58.419Z"
   },
   {
    "duration": 27,
    "start_time": "2022-05-27T13:55:31.565Z"
   },
   {
    "duration": 27,
    "start_time": "2022-05-27T13:55:45.943Z"
   },
   {
    "duration": 27,
    "start_time": "2022-05-27T13:56:36.643Z"
   },
   {
    "duration": 24,
    "start_time": "2022-05-27T13:57:25.101Z"
   },
   {
    "duration": 11,
    "start_time": "2022-05-27T13:57:45.044Z"
   },
   {
    "duration": 21,
    "start_time": "2022-05-27T13:57:56.141Z"
   },
   {
    "duration": 5,
    "start_time": "2022-05-27T13:59:28.592Z"
   },
   {
    "duration": 11,
    "start_time": "2022-05-27T13:59:36.965Z"
   },
   {
    "duration": 817,
    "start_time": "2022-05-27T14:07:03.993Z"
   },
   {
    "duration": 131,
    "start_time": "2022-05-27T14:08:45.746Z"
   },
   {
    "duration": 448,
    "start_time": "2022-05-31T13:26:59.548Z"
   },
   {
    "duration": 126,
    "start_time": "2022-05-31T13:26:59.999Z"
   },
   {
    "duration": 13,
    "start_time": "2022-05-31T13:27:00.127Z"
   },
   {
    "duration": 24,
    "start_time": "2022-05-31T13:27:00.141Z"
   },
   {
    "duration": 29,
    "start_time": "2022-05-31T13:27:00.167Z"
   },
   {
    "duration": 90,
    "start_time": "2022-05-31T13:27:00.198Z"
   },
   {
    "duration": 12,
    "start_time": "2022-05-31T13:27:16.501Z"
   },
   {
    "duration": 3,
    "start_time": "2022-05-31T13:27:26.142Z"
   },
   {
    "duration": 76,
    "start_time": "2022-05-31T13:27:26.148Z"
   },
   {
    "duration": 12,
    "start_time": "2022-05-31T13:27:26.225Z"
   },
   {
    "duration": 16,
    "start_time": "2022-05-31T13:27:26.239Z"
   },
   {
    "duration": 37,
    "start_time": "2022-05-31T13:27:26.257Z"
   },
   {
    "duration": 16,
    "start_time": "2022-05-31T13:27:26.296Z"
   },
   {
    "duration": 0,
    "start_time": "2022-05-31T13:27:26.314Z"
   },
   {
    "duration": 0,
    "start_time": "2022-05-31T13:27:26.315Z"
   },
   {
    "duration": 0,
    "start_time": "2022-05-31T13:27:26.316Z"
   },
   {
    "duration": 0,
    "start_time": "2022-05-31T13:27:26.317Z"
   },
   {
    "duration": 0,
    "start_time": "2022-05-31T13:27:26.318Z"
   },
   {
    "duration": 0,
    "start_time": "2022-05-31T13:27:26.320Z"
   },
   {
    "duration": 23,
    "start_time": "2022-05-31T13:27:37.629Z"
   },
   {
    "duration": 17,
    "start_time": "2022-05-31T13:27:42.336Z"
   },
   {
    "duration": 8,
    "start_time": "2022-05-31T13:28:07.695Z"
   },
   {
    "duration": 18,
    "start_time": "2022-05-31T13:28:33.985Z"
   },
   {
    "duration": 23,
    "start_time": "2022-05-31T13:28:52.954Z"
   },
   {
    "duration": 7,
    "start_time": "2022-05-31T13:29:50.751Z"
   },
   {
    "duration": 18,
    "start_time": "2022-05-31T13:30:15.051Z"
   },
   {
    "duration": 23,
    "start_time": "2022-05-31T13:30:55.075Z"
   },
   {
    "duration": 9,
    "start_time": "2022-05-31T13:31:15.633Z"
   },
   {
    "duration": 19,
    "start_time": "2022-05-31T13:31:21.525Z"
   },
   {
    "duration": 5,
    "start_time": "2022-05-31T13:31:36.623Z"
   },
   {
    "duration": 20,
    "start_time": "2022-05-31T13:32:10.750Z"
   },
   {
    "duration": 12,
    "start_time": "2022-05-31T13:32:37.871Z"
   },
   {
    "duration": 21,
    "start_time": "2022-05-31T13:36:59.963Z"
   },
   {
    "duration": 5,
    "start_time": "2022-05-31T13:38:31.375Z"
   },
   {
    "duration": 10,
    "start_time": "2022-05-31T13:38:43.837Z"
   },
   {
    "duration": 4,
    "start_time": "2022-05-31T13:40:20.416Z"
   },
   {
    "duration": 15,
    "start_time": "2022-05-31T13:40:32.627Z"
   },
   {
    "duration": 211,
    "start_time": "2022-05-31T13:42:02.350Z"
   },
   {
    "duration": 17,
    "start_time": "2022-05-31T13:42:05.833Z"
   },
   {
    "duration": 28,
    "start_time": "2022-05-31T13:42:34.419Z"
   },
   {
    "duration": 13,
    "start_time": "2022-05-31T13:42:45.572Z"
   },
   {
    "duration": 17,
    "start_time": "2022-05-31T13:43:05.210Z"
   },
   {
    "duration": 15,
    "start_time": "2022-05-31T13:43:30.335Z"
   },
   {
    "duration": 30,
    "start_time": "2022-05-31T13:43:53.990Z"
   },
   {
    "duration": 14,
    "start_time": "2022-05-31T13:44:04.841Z"
   },
   {
    "duration": 12,
    "start_time": "2022-05-31T13:44:38.782Z"
   },
   {
    "duration": 12,
    "start_time": "2022-05-31T13:48:58.503Z"
   },
   {
    "duration": 174,
    "start_time": "2022-05-31T13:51:05.836Z"
   },
   {
    "duration": 140,
    "start_time": "2022-05-31T13:51:51.641Z"
   },
   {
    "duration": 162,
    "start_time": "2022-05-31T13:52:22.185Z"
   },
   {
    "duration": 146,
    "start_time": "2022-05-31T13:52:37.750Z"
   },
   {
    "duration": 144,
    "start_time": "2022-05-31T13:53:13.292Z"
   },
   {
    "duration": 158,
    "start_time": "2022-05-31T13:53:21.945Z"
   },
   {
    "duration": 24,
    "start_time": "2022-05-31T13:53:54.015Z"
   },
   {
    "duration": 11,
    "start_time": "2022-05-31T13:53:58.796Z"
   },
   {
    "duration": 15,
    "start_time": "2022-05-31T13:54:04.303Z"
   },
   {
    "duration": 14,
    "start_time": "2022-05-31T14:06:06.978Z"
   },
   {
    "duration": 14,
    "start_time": "2022-05-31T14:06:28.699Z"
   },
   {
    "duration": 277,
    "start_time": "2022-05-31T14:06:32.347Z"
   },
   {
    "duration": 185,
    "start_time": "2022-05-31T14:07:08.205Z"
   },
   {
    "duration": 14,
    "start_time": "2022-05-31T14:07:38.088Z"
   },
   {
    "duration": 118,
    "start_time": "2022-05-31T14:07:42.931Z"
   },
   {
    "duration": 172,
    "start_time": "2022-05-31T14:07:55.623Z"
   },
   {
    "duration": 164,
    "start_time": "2022-05-31T14:08:31.054Z"
   },
   {
    "duration": 177,
    "start_time": "2022-05-31T14:08:43.494Z"
   },
   {
    "duration": 35,
    "start_time": "2022-05-31T14:13:01.885Z"
   },
   {
    "duration": 21,
    "start_time": "2022-05-31T14:13:13.182Z"
   },
   {
    "duration": 42,
    "start_time": "2022-05-31T14:13:45.466Z"
   },
   {
    "duration": 26,
    "start_time": "2022-05-31T14:14:49.812Z"
   },
   {
    "duration": 162,
    "start_time": "2022-05-31T14:15:50.226Z"
   },
   {
    "duration": 28,
    "start_time": "2022-05-31T14:16:57.390Z"
   },
   {
    "duration": 516,
    "start_time": "2022-05-31T14:17:02.836Z"
   },
   {
    "duration": 150,
    "start_time": "2022-05-31T14:17:54.343Z"
   },
   {
    "duration": 63,
    "start_time": "2022-05-31T15:52:32.901Z"
   },
   {
    "duration": 375,
    "start_time": "2022-05-31T15:52:39.105Z"
   },
   {
    "duration": 123,
    "start_time": "2022-05-31T15:52:39.482Z"
   },
   {
    "duration": 13,
    "start_time": "2022-05-31T15:52:39.607Z"
   },
   {
    "duration": 15,
    "start_time": "2022-05-31T15:52:39.621Z"
   },
   {
    "duration": 19,
    "start_time": "2022-05-31T15:52:39.638Z"
   },
   {
    "duration": 21,
    "start_time": "2022-05-31T15:52:39.658Z"
   },
   {
    "duration": 19,
    "start_time": "2022-05-31T15:52:39.681Z"
   },
   {
    "duration": 5,
    "start_time": "2022-05-31T15:52:39.701Z"
   },
   {
    "duration": 14,
    "start_time": "2022-05-31T15:52:39.708Z"
   },
   {
    "duration": 20,
    "start_time": "2022-05-31T15:52:39.724Z"
   },
   {
    "duration": 39,
    "start_time": "2022-05-31T15:52:39.745Z"
   },
   {
    "duration": 533,
    "start_time": "2022-05-31T15:52:41.690Z"
   },
   {
    "duration": 3,
    "start_time": "2022-05-31T15:53:07.077Z"
   },
   {
    "duration": 139,
    "start_time": "2022-05-31T15:53:12.487Z"
   },
   {
    "duration": 117,
    "start_time": "2022-05-31T15:53:29.337Z"
   },
   {
    "duration": 126,
    "start_time": "2022-05-31T15:53:46.918Z"
   },
   {
    "duration": 13,
    "start_time": "2022-05-31T15:54:06.068Z"
   },
   {
    "duration": 297,
    "start_time": "2022-05-31T16:04:17.198Z"
   },
   {
    "duration": 124,
    "start_time": "2022-05-31T16:06:46.655Z"
   },
   {
    "duration": 134,
    "start_time": "2022-05-31T16:06:58.971Z"
   },
   {
    "duration": 119,
    "start_time": "2022-05-31T16:08:03.430Z"
   },
   {
    "duration": 231,
    "start_time": "2022-05-31T16:08:20.724Z"
   },
   {
    "duration": 126,
    "start_time": "2022-05-31T16:08:28.291Z"
   },
   {
    "duration": 158,
    "start_time": "2022-05-31T16:08:45.777Z"
   },
   {
    "duration": 119,
    "start_time": "2022-05-31T16:09:29.582Z"
   },
   {
    "duration": 231,
    "start_time": "2022-05-31T16:09:49.295Z"
   },
   {
    "duration": 102,
    "start_time": "2022-05-31T16:10:14.346Z"
   },
   {
    "duration": 130,
    "start_time": "2022-05-31T16:10:19.717Z"
   },
   {
    "duration": 114,
    "start_time": "2022-05-31T16:10:49.684Z"
   },
   {
    "duration": 198,
    "start_time": "2022-05-31T16:10:56.268Z"
   },
   {
    "duration": 124,
    "start_time": "2022-05-31T16:10:59.002Z"
   },
   {
    "duration": 134,
    "start_time": "2022-05-31T16:11:20.397Z"
   },
   {
    "duration": 542,
    "start_time": "2022-05-31T16:11:56.193Z"
   },
   {
    "duration": 381,
    "start_time": "2022-05-31T16:12:22.025Z"
   },
   {
    "duration": 419,
    "start_time": "2022-05-31T16:12:41.018Z"
   },
   {
    "duration": 145,
    "start_time": "2022-05-31T16:12:55.667Z"
   },
   {
    "duration": 122,
    "start_time": "2022-05-31T16:13:29.270Z"
   },
   {
    "duration": 11,
    "start_time": "2022-05-31T16:14:01.717Z"
   },
   {
    "duration": 8,
    "start_time": "2022-05-31T16:14:56.467Z"
   },
   {
    "duration": 450,
    "start_time": "2022-05-31T16:15:06.068Z"
   },
   {
    "duration": 13,
    "start_time": "2022-05-31T16:15:20.698Z"
   },
   {
    "duration": 454,
    "start_time": "2022-05-31T16:15:32.322Z"
   },
   {
    "duration": 469,
    "start_time": "2022-05-31T16:15:50.516Z"
   },
   {
    "duration": 118,
    "start_time": "2022-05-31T16:16:57.247Z"
   },
   {
    "duration": 18,
    "start_time": "2022-05-31T16:17:41.285Z"
   },
   {
    "duration": 12,
    "start_time": "2022-05-31T16:17:48.123Z"
   },
   {
    "duration": 131,
    "start_time": "2022-05-31T16:17:57.801Z"
   },
   {
    "duration": 146,
    "start_time": "2022-05-31T16:18:17.554Z"
   },
   {
    "duration": 121,
    "start_time": "2022-05-31T16:18:20.578Z"
   },
   {
    "duration": 111,
    "start_time": "2022-05-31T16:19:19.404Z"
   },
   {
    "duration": 122,
    "start_time": "2022-05-31T16:20:11.018Z"
   },
   {
    "duration": 109,
    "start_time": "2022-05-31T16:20:18.294Z"
   },
   {
    "duration": 105,
    "start_time": "2022-05-31T16:21:08.257Z"
   },
   {
    "duration": 101,
    "start_time": "2022-05-31T16:21:13.703Z"
   },
   {
    "duration": 172,
    "start_time": "2022-05-31T16:21:24.171Z"
   },
   {
    "duration": 137,
    "start_time": "2022-05-31T16:21:29.012Z"
   },
   {
    "duration": 106,
    "start_time": "2022-05-31T16:21:33.760Z"
   },
   {
    "duration": 243,
    "start_time": "2022-05-31T16:21:37.406Z"
   },
   {
    "duration": 105,
    "start_time": "2022-05-31T16:22:54.343Z"
   },
   {
    "duration": 111,
    "start_time": "2022-05-31T16:23:01.396Z"
   },
   {
    "duration": 107,
    "start_time": "2022-05-31T16:23:35.126Z"
   },
   {
    "duration": 101,
    "start_time": "2022-05-31T16:23:43.091Z"
   },
   {
    "duration": 112,
    "start_time": "2022-05-31T16:23:53.823Z"
   },
   {
    "duration": 125,
    "start_time": "2022-05-31T16:24:10.815Z"
   },
   {
    "duration": 126,
    "start_time": "2022-05-31T16:25:15.292Z"
   },
   {
    "duration": 147,
    "start_time": "2022-05-31T16:25:37.908Z"
   },
   {
    "duration": 131,
    "start_time": "2022-05-31T16:26:35.587Z"
   },
   {
    "duration": 172,
    "start_time": "2022-05-31T16:27:25.767Z"
   },
   {
    "duration": 118,
    "start_time": "2022-05-31T16:27:58.767Z"
   },
   {
    "duration": 139,
    "start_time": "2022-05-31T16:28:30.767Z"
   },
   {
    "duration": 4,
    "start_time": "2022-05-31T16:35:20.861Z"
   },
   {
    "duration": 12,
    "start_time": "2022-05-31T16:37:30.516Z"
   },
   {
    "duration": 13,
    "start_time": "2022-05-31T16:39:32.775Z"
   },
   {
    "duration": 10,
    "start_time": "2022-05-31T16:39:55.838Z"
   },
   {
    "duration": 15,
    "start_time": "2022-05-31T16:40:33.653Z"
   },
   {
    "duration": 14,
    "start_time": "2022-05-31T16:40:56.933Z"
   },
   {
    "duration": 12,
    "start_time": "2022-05-31T16:41:25.222Z"
   },
   {
    "duration": 12,
    "start_time": "2022-05-31T16:42:00.803Z"
   },
   {
    "duration": 11,
    "start_time": "2022-05-31T16:43:20.038Z"
   },
   {
    "duration": 83,
    "start_time": "2022-05-31T16:44:20.524Z"
   },
   {
    "duration": 12,
    "start_time": "2022-05-31T16:45:05.944Z"
   },
   {
    "duration": 5,
    "start_time": "2022-05-31T16:51:36.046Z"
   },
   {
    "duration": 321,
    "start_time": "2022-05-31T16:52:58.291Z"
   },
   {
    "duration": 12,
    "start_time": "2022-05-31T16:53:22.431Z"
   },
   {
    "duration": 8,
    "start_time": "2022-05-31T16:54:01.765Z"
   },
   {
    "duration": 15,
    "start_time": "2022-05-31T16:54:05.907Z"
   },
   {
    "duration": 12,
    "start_time": "2022-05-31T16:54:11.632Z"
   },
   {
    "duration": 21,
    "start_time": "2022-05-31T16:54:20.036Z"
   },
   {
    "duration": 108,
    "start_time": "2022-05-31T16:54:27.126Z"
   },
   {
    "duration": 109,
    "start_time": "2022-05-31T16:54:46.724Z"
   },
   {
    "duration": 104,
    "start_time": "2022-05-31T16:54:50.918Z"
   },
   {
    "duration": 147,
    "start_time": "2022-05-31T16:55:42.340Z"
   },
   {
    "duration": 23,
    "start_time": "2022-05-31T16:55:48.034Z"
   },
   {
    "duration": 202,
    "start_time": "2022-05-31T17:02:17.799Z"
   },
   {
    "duration": 105,
    "start_time": "2022-05-31T17:02:50.549Z"
   },
   {
    "duration": 109,
    "start_time": "2022-05-31T17:05:18.022Z"
   },
   {
    "duration": 110,
    "start_time": "2022-05-31T17:05:18.177Z"
   },
   {
    "duration": 103,
    "start_time": "2022-05-31T17:05:29.244Z"
   },
   {
    "duration": 105,
    "start_time": "2022-05-31T17:05:48.354Z"
   },
   {
    "duration": 106,
    "start_time": "2022-05-31T17:06:00.417Z"
   },
   {
    "duration": 63,
    "start_time": "2022-05-31T20:54:49.766Z"
   },
   {
    "duration": 1174,
    "start_time": "2022-05-31T20:54:56.579Z"
   },
   {
    "duration": 109,
    "start_time": "2022-05-31T20:54:57.755Z"
   },
   {
    "duration": 11,
    "start_time": "2022-05-31T20:54:57.866Z"
   },
   {
    "duration": 15,
    "start_time": "2022-05-31T20:54:57.879Z"
   },
   {
    "duration": 33,
    "start_time": "2022-05-31T20:54:57.896Z"
   },
   {
    "duration": 7,
    "start_time": "2022-05-31T20:54:57.930Z"
   },
   {
    "duration": 18,
    "start_time": "2022-05-31T20:54:57.939Z"
   },
   {
    "duration": 5,
    "start_time": "2022-05-31T20:54:57.958Z"
   },
   {
    "duration": 17,
    "start_time": "2022-05-31T20:54:57.964Z"
   },
   {
    "duration": 55,
    "start_time": "2022-05-31T20:54:57.983Z"
   },
   {
    "duration": 13,
    "start_time": "2022-05-31T20:54:58.040Z"
   },
   {
    "duration": 167,
    "start_time": "2022-05-31T20:54:58.054Z"
   },
   {
    "duration": 158,
    "start_time": "2022-05-31T20:54:58.223Z"
   },
   {
    "duration": 177,
    "start_time": "2022-05-31T20:54:58.383Z"
   },
   {
    "duration": 142,
    "start_time": "2022-05-31T20:54:58.562Z"
   },
   {
    "duration": 156,
    "start_time": "2022-05-31T20:54:58.706Z"
   },
   {
    "duration": 5,
    "start_time": "2022-05-31T20:54:58.864Z"
   },
   {
    "duration": 18,
    "start_time": "2022-05-31T20:54:58.871Z"
   },
   {
    "duration": 13,
    "start_time": "2022-05-31T20:54:58.890Z"
   },
   {
    "duration": 111,
    "start_time": "2022-05-31T20:54:58.904Z"
   },
   {
    "duration": 137,
    "start_time": "2022-05-31T20:54:59.016Z"
   },
   {
    "duration": 144,
    "start_time": "2022-05-31T20:54:59.155Z"
   },
   {
    "duration": 16,
    "start_time": "2022-05-31T20:55:02.835Z"
   },
   {
    "duration": 49,
    "start_time": "2022-05-31T20:57:08.274Z"
   },
   {
    "duration": 21,
    "start_time": "2022-05-31T20:57:43.755Z"
   },
   {
    "duration": 16,
    "start_time": "2022-05-31T20:58:06.487Z"
   },
   {
    "duration": 16,
    "start_time": "2022-05-31T21:01:34.816Z"
   },
   {
    "duration": 387,
    "start_time": "2022-05-31T21:02:13.369Z"
   },
   {
    "duration": 8,
    "start_time": "2022-05-31T21:09:35.210Z"
   },
   {
    "duration": 3921,
    "start_time": "2022-05-31T21:09:55.645Z"
   },
   {
    "duration": 219,
    "start_time": "2022-05-31T21:10:29.957Z"
   },
   {
    "duration": 144,
    "start_time": "2022-05-31T21:11:04.971Z"
   },
   {
    "duration": 160,
    "start_time": "2022-05-31T21:11:54.617Z"
   },
   {
    "duration": 152,
    "start_time": "2022-05-31T21:12:09.698Z"
   },
   {
    "duration": 175,
    "start_time": "2022-05-31T21:13:26.926Z"
   },
   {
    "duration": 141,
    "start_time": "2022-05-31T21:13:50.470Z"
   },
   {
    "duration": 161,
    "start_time": "2022-05-31T21:14:09.017Z"
   },
   {
    "duration": 24,
    "start_time": "2022-05-31T21:23:48.346Z"
   },
   {
    "duration": 22,
    "start_time": "2022-05-31T21:24:05.529Z"
   },
   {
    "duration": 17,
    "start_time": "2022-05-31T21:25:27.668Z"
   },
   {
    "duration": 174,
    "start_time": "2022-05-31T21:25:56.203Z"
   },
   {
    "duration": 29,
    "start_time": "2022-05-31T21:26:29.312Z"
   },
   {
    "duration": 9,
    "start_time": "2022-05-31T21:30:40.190Z"
   },
   {
    "duration": 413,
    "start_time": "2022-05-31T21:31:19.715Z"
   },
   {
    "duration": 8,
    "start_time": "2022-05-31T21:31:43.302Z"
   },
   {
    "duration": 388,
    "start_time": "2022-05-31T21:32:18.808Z"
   },
   {
    "duration": 15,
    "start_time": "2022-05-31T21:36:06.913Z"
   },
   {
    "duration": 30,
    "start_time": "2022-05-31T21:36:20.015Z"
   },
   {
    "duration": 30,
    "start_time": "2022-05-31T21:37:19.844Z"
   },
   {
    "duration": 956,
    "start_time": "2022-05-31T21:37:40.422Z"
   },
   {
    "duration": 26,
    "start_time": "2022-05-31T21:39:05.832Z"
   },
   {
    "duration": 22,
    "start_time": "2022-05-31T21:39:41.723Z"
   },
   {
    "duration": 448,
    "start_time": "2022-05-31T21:39:50.159Z"
   },
   {
    "duration": 21,
    "start_time": "2022-05-31T21:40:05.524Z"
   },
   {
    "duration": 24,
    "start_time": "2022-05-31T21:40:50.206Z"
   },
   {
    "duration": 30,
    "start_time": "2022-05-31T21:41:01.237Z"
   },
   {
    "duration": 216,
    "start_time": "2022-05-31T21:41:19.143Z"
   },
   {
    "duration": 170,
    "start_time": "2022-05-31T21:41:54.547Z"
   },
   {
    "duration": 201,
    "start_time": "2022-05-31T21:42:38.379Z"
   },
   {
    "duration": 22,
    "start_time": "2022-05-31T21:42:59.828Z"
   },
   {
    "duration": 197,
    "start_time": "2022-05-31T21:43:14.169Z"
   },
   {
    "duration": 196,
    "start_time": "2022-05-31T21:43:31.598Z"
   },
   {
    "duration": 189,
    "start_time": "2022-05-31T21:44:51.599Z"
   },
   {
    "duration": 9,
    "start_time": "2022-06-01T14:09:33.685Z"
   },
   {
    "duration": 6,
    "start_time": "2022-06-01T14:09:45.139Z"
   },
   {
    "duration": 8,
    "start_time": "2022-06-01T14:10:01.843Z"
   },
   {
    "duration": 6,
    "start_time": "2022-06-01T14:10:19.296Z"
   },
   {
    "duration": 7,
    "start_time": "2022-06-01T14:10:44.467Z"
   },
   {
    "duration": 9,
    "start_time": "2022-06-01T14:10:54.053Z"
   },
   {
    "duration": 94,
    "start_time": "2022-06-01T14:11:23.721Z"
   },
   {
    "duration": 3,
    "start_time": "2022-06-01T18:19:31.075Z"
   },
   {
    "duration": 101,
    "start_time": "2022-06-01T18:19:31.080Z"
   },
   {
    "duration": 11,
    "start_time": "2022-06-01T18:19:31.182Z"
   },
   {
    "duration": 14,
    "start_time": "2022-06-01T18:19:31.195Z"
   },
   {
    "duration": 20,
    "start_time": "2022-06-01T18:19:31.210Z"
   },
   {
    "duration": 6,
    "start_time": "2022-06-01T18:19:31.231Z"
   },
   {
    "duration": 15,
    "start_time": "2022-06-01T18:19:31.238Z"
   },
   {
    "duration": 4,
    "start_time": "2022-06-01T18:19:31.279Z"
   },
   {
    "duration": 18,
    "start_time": "2022-06-01T18:19:31.285Z"
   },
   {
    "duration": 19,
    "start_time": "2022-06-01T18:19:31.305Z"
   },
   {
    "duration": 11,
    "start_time": "2022-06-01T18:19:31.325Z"
   },
   {
    "duration": 148,
    "start_time": "2022-06-01T18:19:31.338Z"
   },
   {
    "duration": 173,
    "start_time": "2022-06-01T18:19:31.488Z"
   },
   {
    "duration": 152,
    "start_time": "2022-06-01T18:19:31.665Z"
   },
   {
    "duration": 231,
    "start_time": "2022-06-01T18:19:31.819Z"
   },
   {
    "duration": 146,
    "start_time": "2022-06-01T18:19:32.052Z"
   },
   {
    "duration": 6,
    "start_time": "2022-06-01T18:19:32.199Z"
   },
   {
    "duration": 16,
    "start_time": "2022-06-01T18:19:32.207Z"
   },
   {
    "duration": 12,
    "start_time": "2022-06-01T18:19:32.224Z"
   },
   {
    "duration": 107,
    "start_time": "2022-06-01T18:19:32.238Z"
   },
   {
    "duration": 157,
    "start_time": "2022-06-01T18:19:32.347Z"
   },
   {
    "duration": 141,
    "start_time": "2022-06-01T18:19:32.505Z"
   },
   {
    "duration": 269,
    "start_time": "2022-06-01T18:19:32.647Z"
   },
   {
    "duration": 142,
    "start_time": "2022-06-01T18:19:32.917Z"
   },
   {
    "duration": 142,
    "start_time": "2022-06-01T18:19:33.061Z"
   },
   {
    "duration": 150,
    "start_time": "2022-06-01T18:19:33.204Z"
   },
   {
    "duration": 145,
    "start_time": "2022-06-01T18:19:33.355Z"
   },
   {
    "duration": 125,
    "start_time": "2022-06-01T18:19:33.502Z"
   },
   {
    "duration": 127,
    "start_time": "2022-06-01T18:19:33.629Z"
   },
   {
    "duration": 159,
    "start_time": "2022-06-01T18:19:33.757Z"
   },
   {
    "duration": 7,
    "start_time": "2022-06-01T18:19:50.965Z"
   },
   {
    "duration": 8,
    "start_time": "2022-06-01T18:20:09.712Z"
   },
   {
    "duration": 6,
    "start_time": "2022-06-01T18:20:15.073Z"
   },
   {
    "duration": 8,
    "start_time": "2022-06-01T18:20:42.531Z"
   },
   {
    "duration": 36,
    "start_time": "2022-06-01T18:27:25.017Z"
   },
   {
    "duration": 14,
    "start_time": "2022-06-01T18:27:37.514Z"
   },
   {
    "duration": 14,
    "start_time": "2022-06-01T18:27:58.247Z"
   },
   {
    "duration": 10,
    "start_time": "2022-06-01T18:28:38.368Z"
   },
   {
    "duration": 14,
    "start_time": "2022-06-01T18:28:56.250Z"
   },
   {
    "duration": 10,
    "start_time": "2022-06-01T18:30:32.906Z"
   },
   {
    "duration": 14,
    "start_time": "2022-06-01T18:31:41.093Z"
   },
   {
    "duration": 3,
    "start_time": "2022-06-01T18:32:19.510Z"
   },
   {
    "duration": 9,
    "start_time": "2022-06-01T18:32:28.223Z"
   },
   {
    "duration": 13,
    "start_time": "2022-06-01T18:32:47.533Z"
   },
   {
    "duration": 9,
    "start_time": "2022-06-01T18:33:58.103Z"
   },
   {
    "duration": 3,
    "start_time": "2022-06-01T18:34:04.042Z"
   },
   {
    "duration": 78,
    "start_time": "2022-06-01T18:34:04.047Z"
   },
   {
    "duration": 13,
    "start_time": "2022-06-01T18:34:04.127Z"
   },
   {
    "duration": 18,
    "start_time": "2022-06-01T18:34:04.141Z"
   },
   {
    "duration": 34,
    "start_time": "2022-06-01T18:34:04.162Z"
   },
   {
    "duration": 6,
    "start_time": "2022-06-01T18:34:04.198Z"
   },
   {
    "duration": 16,
    "start_time": "2022-06-01T18:34:04.206Z"
   },
   {
    "duration": 5,
    "start_time": "2022-06-01T18:34:04.224Z"
   },
   {
    "duration": 15,
    "start_time": "2022-06-01T18:34:04.230Z"
   },
   {
    "duration": 48,
    "start_time": "2022-06-01T18:34:04.247Z"
   },
   {
    "duration": 13,
    "start_time": "2022-06-01T18:34:04.297Z"
   },
   {
    "duration": 182,
    "start_time": "2022-06-01T18:34:04.312Z"
   },
   {
    "duration": 152,
    "start_time": "2022-06-01T18:34:04.498Z"
   },
   {
    "duration": 176,
    "start_time": "2022-06-01T18:34:04.652Z"
   },
   {
    "duration": 162,
    "start_time": "2022-06-01T18:34:04.830Z"
   },
   {
    "duration": 172,
    "start_time": "2022-06-01T18:34:04.995Z"
   },
   {
    "duration": 15,
    "start_time": "2022-06-01T18:34:05.168Z"
   },
   {
    "duration": 48,
    "start_time": "2022-06-01T18:34:05.184Z"
   },
   {
    "duration": 17,
    "start_time": "2022-06-01T18:34:05.234Z"
   },
   {
    "duration": 106,
    "start_time": "2022-06-01T18:34:05.253Z"
   },
   {
    "duration": 141,
    "start_time": "2022-06-01T18:34:05.361Z"
   },
   {
    "duration": 121,
    "start_time": "2022-06-01T18:34:05.504Z"
   },
   {
    "duration": 309,
    "start_time": "2022-06-01T18:34:05.627Z"
   },
   {
    "duration": 148,
    "start_time": "2022-06-01T18:34:05.938Z"
   },
   {
    "duration": 177,
    "start_time": "2022-06-01T18:34:06.087Z"
   },
   {
    "duration": 329,
    "start_time": "2022-06-01T18:34:06.266Z"
   },
   {
    "duration": 209,
    "start_time": "2022-06-01T18:34:06.597Z"
   },
   {
    "duration": 169,
    "start_time": "2022-06-01T18:34:06.808Z"
   },
   {
    "duration": 163,
    "start_time": "2022-06-01T18:34:06.980Z"
   },
   {
    "duration": 270,
    "start_time": "2022-06-01T18:34:07.145Z"
   },
   {
    "duration": 9,
    "start_time": "2022-06-01T18:34:09.700Z"
   },
   {
    "duration": 22,
    "start_time": "2022-06-01T18:34:47.110Z"
   },
   {
    "duration": 9,
    "start_time": "2022-06-01T18:35:26.519Z"
   },
   {
    "duration": 227,
    "start_time": "2022-06-01T18:38:58.530Z"
   },
   {
    "duration": 248,
    "start_time": "2022-06-01T18:39:22.390Z"
   },
   {
    "duration": 11,
    "start_time": "2022-06-01T18:39:37.809Z"
   },
   {
    "duration": 11,
    "start_time": "2022-06-01T18:39:46.631Z"
   },
   {
    "duration": 10,
    "start_time": "2022-06-01T18:40:04.779Z"
   },
   {
    "duration": 12,
    "start_time": "2022-06-01T18:42:02.930Z"
   },
   {
    "duration": 10,
    "start_time": "2022-06-01T18:45:41.563Z"
   },
   {
    "duration": 1127,
    "start_time": "2022-06-01T19:46:59.238Z"
   },
   {
    "duration": 144,
    "start_time": "2022-06-01T19:47:00.367Z"
   },
   {
    "duration": 11,
    "start_time": "2022-06-01T19:47:00.518Z"
   },
   {
    "duration": 19,
    "start_time": "2022-06-01T19:47:00.531Z"
   },
   {
    "duration": 46,
    "start_time": "2022-06-01T19:47:00.552Z"
   },
   {
    "duration": 22,
    "start_time": "2022-06-01T19:47:00.600Z"
   },
   {
    "duration": 23,
    "start_time": "2022-06-01T19:47:00.624Z"
   },
   {
    "duration": 5,
    "start_time": "2022-06-01T19:47:00.648Z"
   },
   {
    "duration": 23,
    "start_time": "2022-06-01T19:47:00.654Z"
   },
   {
    "duration": 25,
    "start_time": "2022-06-01T19:47:00.680Z"
   },
   {
    "duration": 29,
    "start_time": "2022-06-01T19:47:00.706Z"
   },
   {
    "duration": 189,
    "start_time": "2022-06-01T19:47:00.737Z"
   },
   {
    "duration": 164,
    "start_time": "2022-06-01T19:47:00.927Z"
   },
   {
    "duration": 276,
    "start_time": "2022-06-01T19:47:01.093Z"
   },
   {
    "duration": 196,
    "start_time": "2022-06-01T19:47:01.371Z"
   },
   {
    "duration": 184,
    "start_time": "2022-06-01T19:47:01.568Z"
   },
   {
    "duration": 6,
    "start_time": "2022-06-01T19:47:01.754Z"
   },
   {
    "duration": 47,
    "start_time": "2022-06-01T19:47:01.762Z"
   },
   {
    "duration": 47,
    "start_time": "2022-06-01T19:47:01.811Z"
   },
   {
    "duration": 143,
    "start_time": "2022-06-01T19:47:01.860Z"
   },
   {
    "duration": 186,
    "start_time": "2022-06-01T19:47:02.005Z"
   },
   {
    "duration": 143,
    "start_time": "2022-06-01T19:47:02.193Z"
   },
   {
    "duration": 431,
    "start_time": "2022-06-01T19:47:02.338Z"
   },
   {
    "duration": 194,
    "start_time": "2022-06-01T19:47:02.772Z"
   },
   {
    "duration": 202,
    "start_time": "2022-06-01T19:47:02.971Z"
   },
   {
    "duration": 179,
    "start_time": "2022-06-01T19:47:03.174Z"
   },
   {
    "duration": 171,
    "start_time": "2022-06-01T19:47:03.355Z"
   },
   {
    "duration": 173,
    "start_time": "2022-06-01T19:47:03.528Z"
   },
   {
    "duration": 228,
    "start_time": "2022-06-01T19:47:03.703Z"
   },
   {
    "duration": 197,
    "start_time": "2022-06-01T19:47:03.932Z"
   },
   {
    "duration": 9,
    "start_time": "2022-06-01T19:47:04.131Z"
   },
   {
    "duration": 25,
    "start_time": "2022-06-01T19:47:04.142Z"
   },
   {
    "duration": 2269,
    "start_time": "2022-06-02T09:21:12.489Z"
   },
   {
    "duration": 113,
    "start_time": "2022-06-02T09:21:14.761Z"
   },
   {
    "duration": 11,
    "start_time": "2022-06-02T09:21:14.875Z"
   },
   {
    "duration": 29,
    "start_time": "2022-06-02T09:21:14.888Z"
   },
   {
    "duration": 109,
    "start_time": "2022-06-02T09:21:23.627Z"
   },
   {
    "duration": 25,
    "start_time": "2022-06-02T09:21:57.757Z"
   },
   {
    "duration": 8,
    "start_time": "2022-06-02T10:16:44.074Z"
   },
   {
    "duration": 3,
    "start_time": "2022-06-02T10:16:50.411Z"
   },
   {
    "duration": 93,
    "start_time": "2022-06-02T10:16:50.417Z"
   },
   {
    "duration": 18,
    "start_time": "2022-06-02T10:16:50.512Z"
   },
   {
    "duration": 39,
    "start_time": "2022-06-02T10:16:50.532Z"
   },
   {
    "duration": 22,
    "start_time": "2022-06-02T10:16:50.573Z"
   },
   {
    "duration": 6,
    "start_time": "2022-06-02T10:16:50.597Z"
   },
   {
    "duration": 22,
    "start_time": "2022-06-02T10:16:50.605Z"
   },
   {
    "duration": 7,
    "start_time": "2022-06-02T10:16:50.630Z"
   },
   {
    "duration": 31,
    "start_time": "2022-06-02T10:16:50.640Z"
   },
   {
    "duration": 23,
    "start_time": "2022-06-02T10:16:50.673Z"
   },
   {
    "duration": 14,
    "start_time": "2022-06-02T10:16:50.699Z"
   },
   {
    "duration": 539,
    "start_time": "2022-06-02T10:16:50.727Z"
   },
   {
    "duration": 272,
    "start_time": "2022-06-02T10:16:51.268Z"
   },
   {
    "duration": 194,
    "start_time": "2022-06-02T10:16:51.543Z"
   },
   {
    "duration": 186,
    "start_time": "2022-06-02T10:16:51.741Z"
   },
   {
    "duration": 209,
    "start_time": "2022-06-02T10:16:51.931Z"
   },
   {
    "duration": 7,
    "start_time": "2022-06-02T10:16:56.680Z"
   },
   {
    "duration": 17,
    "start_time": "2022-06-02T10:17:01.479Z"
   },
   {
    "duration": 16,
    "start_time": "2022-06-02T10:17:21.680Z"
   },
   {
    "duration": 20,
    "start_time": "2022-06-02T10:17:31.744Z"
   },
   {
    "duration": 110,
    "start_time": "2022-06-02T10:18:07.096Z"
   },
   {
    "duration": 115,
    "start_time": "2022-06-02T10:24:35.759Z"
   },
   {
    "duration": 17,
    "start_time": "2022-06-02T10:25:26.853Z"
   },
   {
    "duration": 121,
    "start_time": "2022-06-02T10:27:33.372Z"
   },
   {
    "duration": 147,
    "start_time": "2022-06-02T10:28:05.325Z"
   },
   {
    "duration": 152,
    "start_time": "2022-06-02T10:32:23.529Z"
   },
   {
    "duration": 201,
    "start_time": "2022-06-02T10:32:49.060Z"
   },
   {
    "duration": 160,
    "start_time": "2022-06-02T10:33:12.859Z"
   },
   {
    "duration": 146,
    "start_time": "2022-06-02T10:34:33.512Z"
   },
   {
    "duration": 137,
    "start_time": "2022-06-02T10:35:27.560Z"
   },
   {
    "duration": 3,
    "start_time": "2022-06-02T10:35:45.988Z"
   },
   {
    "duration": 74,
    "start_time": "2022-06-02T10:35:45.994Z"
   },
   {
    "duration": 13,
    "start_time": "2022-06-02T10:35:46.069Z"
   },
   {
    "duration": 15,
    "start_time": "2022-06-02T10:35:46.083Z"
   },
   {
    "duration": 40,
    "start_time": "2022-06-02T10:35:46.100Z"
   },
   {
    "duration": 7,
    "start_time": "2022-06-02T10:35:46.142Z"
   },
   {
    "duration": 24,
    "start_time": "2022-06-02T10:35:46.151Z"
   },
   {
    "duration": 4,
    "start_time": "2022-06-02T10:35:46.177Z"
   },
   {
    "duration": 20,
    "start_time": "2022-06-02T10:35:46.183Z"
   },
   {
    "duration": 140,
    "start_time": "2022-06-02T10:35:46.205Z"
   },
   {
    "duration": 15,
    "start_time": "2022-06-02T10:35:46.347Z"
   },
   {
    "duration": 187,
    "start_time": "2022-06-02T10:35:46.364Z"
   },
   {
    "duration": 181,
    "start_time": "2022-06-02T10:35:46.553Z"
   },
   {
    "duration": 208,
    "start_time": "2022-06-02T10:35:46.737Z"
   },
   {
    "duration": 161,
    "start_time": "2022-06-02T10:35:46.947Z"
   },
   {
    "duration": 172,
    "start_time": "2022-06-02T10:35:47.110Z"
   },
   {
    "duration": 8,
    "start_time": "2022-06-02T10:35:47.284Z"
   },
   {
    "duration": 35,
    "start_time": "2022-06-02T10:35:47.294Z"
   },
   {
    "duration": 18,
    "start_time": "2022-06-02T10:35:47.332Z"
   },
   {
    "duration": 155,
    "start_time": "2022-06-02T10:35:47.353Z"
   },
   {
    "duration": 137,
    "start_time": "2022-06-02T10:35:49.166Z"
   },
   {
    "duration": 26,
    "start_time": "2022-06-02T10:36:40.217Z"
   },
   {
    "duration": 12,
    "start_time": "2022-06-02T10:36:52.737Z"
   },
   {
    "duration": 17,
    "start_time": "2022-06-02T10:37:19.281Z"
   },
   {
    "duration": 20,
    "start_time": "2022-06-02T10:37:48.209Z"
   },
   {
    "duration": 221,
    "start_time": "2022-06-02T10:37:59.795Z"
   },
   {
    "duration": 208,
    "start_time": "2022-06-02T10:39:56.486Z"
   },
   {
    "duration": 246,
    "start_time": "2022-06-02T10:40:12.763Z"
   },
   {
    "duration": 17,
    "start_time": "2022-06-02T10:41:12.748Z"
   },
   {
    "duration": 223,
    "start_time": "2022-06-02T10:41:57.852Z"
   },
   {
    "duration": 192,
    "start_time": "2022-06-02T10:42:41.411Z"
   },
   {
    "duration": 328,
    "start_time": "2022-06-02T10:46:51.966Z"
   },
   {
    "duration": 354,
    "start_time": "2022-06-02T10:49:14.460Z"
   },
   {
    "duration": 558,
    "start_time": "2022-06-02T10:49:34.270Z"
   },
   {
    "duration": 321,
    "start_time": "2022-06-02T10:49:48.233Z"
   },
   {
    "duration": 464,
    "start_time": "2022-06-02T10:49:57.938Z"
   },
   {
    "duration": 376,
    "start_time": "2022-06-02T10:51:20.623Z"
   },
   {
    "duration": 293,
    "start_time": "2022-06-02T10:53:41.196Z"
   },
   {
    "duration": 333,
    "start_time": "2022-06-02T10:54:18.964Z"
   },
   {
    "duration": 328,
    "start_time": "2022-06-02T10:54:31.179Z"
   },
   {
    "duration": 501,
    "start_time": "2022-06-02T10:55:07.655Z"
   },
   {
    "duration": 579,
    "start_time": "2022-06-02T10:55:52.457Z"
   },
   {
    "duration": 14,
    "start_time": "2022-06-02T10:56:54.165Z"
   },
   {
    "duration": 378,
    "start_time": "2022-06-02T10:57:02.303Z"
   },
   {
    "duration": 440,
    "start_time": "2022-06-02T10:57:24.125Z"
   },
   {
    "duration": 552,
    "start_time": "2022-06-02T10:58:09.622Z"
   },
   {
    "duration": 352,
    "start_time": "2022-06-02T10:58:23.619Z"
   },
   {
    "duration": 467,
    "start_time": "2022-06-02T10:58:53.227Z"
   },
   {
    "duration": 60,
    "start_time": "2022-06-02T10:59:10.076Z"
   },
   {
    "duration": 355,
    "start_time": "2022-06-02T10:59:12.868Z"
   },
   {
    "duration": 479,
    "start_time": "2022-06-02T10:59:41.469Z"
   },
   {
    "duration": 353,
    "start_time": "2022-06-02T10:59:47.723Z"
   },
   {
    "duration": 306,
    "start_time": "2022-06-02T10:59:53.747Z"
   },
   {
    "duration": 343,
    "start_time": "2022-06-02T11:01:21.592Z"
   },
   {
    "duration": 368,
    "start_time": "2022-06-02T11:01:29.527Z"
   },
   {
    "duration": 320,
    "start_time": "2022-06-02T11:01:36.972Z"
   },
   {
    "duration": 42,
    "start_time": "2022-06-02T11:02:33.172Z"
   },
   {
    "duration": 310,
    "start_time": "2022-06-02T11:02:45.420Z"
   },
   {
    "duration": 318,
    "start_time": "2022-06-02T11:03:10.604Z"
   },
   {
    "duration": 323,
    "start_time": "2022-06-02T11:04:07.470Z"
   },
   {
    "duration": 264,
    "start_time": "2022-06-02T11:04:50.671Z"
   },
   {
    "duration": 274,
    "start_time": "2022-06-02T11:05:28.455Z"
   },
   {
    "duration": 285,
    "start_time": "2022-06-02T11:05:39.167Z"
   },
   {
    "duration": 426,
    "start_time": "2022-06-02T11:07:39.912Z"
   },
   {
    "duration": 390,
    "start_time": "2022-06-02T11:07:48.046Z"
   },
   {
    "duration": 586,
    "start_time": "2022-06-02T11:08:32.032Z"
   },
   {
    "duration": 426,
    "start_time": "2022-06-02T11:08:43.767Z"
   },
   {
    "duration": 27,
    "start_time": "2022-06-02T11:13:41.426Z"
   },
   {
    "duration": 21,
    "start_time": "2022-06-02T11:14:29.193Z"
   },
   {
    "duration": 19,
    "start_time": "2022-06-02T11:14:33.662Z"
   },
   {
    "duration": 168,
    "start_time": "2022-06-02T11:14:40.762Z"
   },
   {
    "duration": 16,
    "start_time": "2022-06-02T11:15:31.062Z"
   },
   {
    "duration": 413,
    "start_time": "2022-06-02T11:16:13.596Z"
   },
   {
    "duration": 377,
    "start_time": "2022-06-02T11:23:35.904Z"
   },
   {
    "duration": 363,
    "start_time": "2022-06-02T11:23:46.697Z"
   },
   {
    "duration": 22,
    "start_time": "2022-06-02T11:26:36.426Z"
   },
   {
    "duration": 62,
    "start_time": "2022-06-02T12:17:34.234Z"
   },
   {
    "duration": 21,
    "start_time": "2022-06-02T12:17:43.129Z"
   },
   {
    "duration": 119,
    "start_time": "2022-06-02T12:23:11.124Z"
   },
   {
    "duration": 40,
    "start_time": "2022-06-02T12:23:26.620Z"
   },
   {
    "duration": 642,
    "start_time": "2022-06-02T12:24:17.247Z"
   },
   {
    "duration": 211,
    "start_time": "2022-06-02T12:25:24.026Z"
   },
   {
    "duration": 213,
    "start_time": "2022-06-02T12:25:47.450Z"
   },
   {
    "duration": 36,
    "start_time": "2022-06-02T12:26:22.912Z"
   },
   {
    "duration": 172,
    "start_time": "2022-06-02T12:26:37.291Z"
   },
   {
    "duration": 204,
    "start_time": "2022-06-02T12:26:54.483Z"
   },
   {
    "duration": 171,
    "start_time": "2022-06-02T12:28:32.889Z"
   },
   {
    "duration": 234,
    "start_time": "2022-06-02T12:30:17.718Z"
   },
   {
    "duration": 164,
    "start_time": "2022-06-02T12:30:37.216Z"
   },
   {
    "duration": 229,
    "start_time": "2022-06-02T12:30:49.216Z"
   },
   {
    "duration": 369,
    "start_time": "2022-06-02T12:31:01.505Z"
   },
   {
    "duration": 24,
    "start_time": "2022-06-02T12:42:20.978Z"
   },
   {
    "duration": 225,
    "start_time": "2022-06-02T12:42:34.469Z"
   },
   {
    "duration": 22,
    "start_time": "2022-06-02T12:43:10.193Z"
   },
   {
    "duration": 245,
    "start_time": "2022-06-02T12:43:24.371Z"
   },
   {
    "duration": 194,
    "start_time": "2022-06-02T12:45:23.400Z"
   },
   {
    "duration": 200,
    "start_time": "2022-06-02T12:50:22.003Z"
   },
   {
    "duration": 218,
    "start_time": "2022-06-02T12:50:38.156Z"
   },
   {
    "duration": 202,
    "start_time": "2022-06-02T12:50:58.064Z"
   },
   {
    "duration": 194,
    "start_time": "2022-06-02T12:52:32.971Z"
   },
   {
    "duration": 213,
    "start_time": "2022-06-02T12:54:01.884Z"
   },
   {
    "duration": 230,
    "start_time": "2022-06-02T12:54:19.475Z"
   },
   {
    "duration": 22,
    "start_time": "2022-06-02T12:54:47.661Z"
   },
   {
    "duration": 190,
    "start_time": "2022-06-02T12:54:54.011Z"
   },
   {
    "duration": 190,
    "start_time": "2022-06-02T12:57:23.786Z"
   },
   {
    "duration": 206,
    "start_time": "2022-06-02T12:57:36.451Z"
   },
   {
    "duration": 27,
    "start_time": "2022-06-02T12:58:35.582Z"
   },
   {
    "duration": 268,
    "start_time": "2022-06-02T12:59:03.820Z"
   },
   {
    "duration": 188,
    "start_time": "2022-06-02T13:04:55.973Z"
   },
   {
    "duration": 217,
    "start_time": "2022-06-02T13:06:27.590Z"
   },
   {
    "duration": 179,
    "start_time": "2022-06-02T13:13:03.785Z"
   },
   {
    "duration": 709,
    "start_time": "2022-06-02T13:13:14.584Z"
   },
   {
    "duration": 163,
    "start_time": "2022-06-02T13:13:27.888Z"
   },
   {
    "duration": 240,
    "start_time": "2022-06-02T13:13:44.463Z"
   },
   {
    "duration": 170,
    "start_time": "2022-06-02T13:13:57.045Z"
   },
   {
    "duration": 371,
    "start_time": "2022-06-02T13:14:14.480Z"
   },
   {
    "duration": 14,
    "start_time": "2022-06-02T13:16:45.758Z"
   },
   {
    "duration": 5,
    "start_time": "2022-06-02T13:17:47.979Z"
   },
   {
    "duration": 10,
    "start_time": "2022-06-02T13:18:16.883Z"
   },
   {
    "duration": 16,
    "start_time": "2022-06-02T13:19:13.563Z"
   },
   {
    "duration": 11,
    "start_time": "2022-06-02T13:20:48.915Z"
   },
   {
    "duration": 100,
    "start_time": "2022-06-02T13:21:27.459Z"
   },
   {
    "duration": 5,
    "start_time": "2022-06-02T13:21:37.770Z"
   },
   {
    "duration": 13,
    "start_time": "2022-06-02T13:21:39.266Z"
   },
   {
    "duration": 14,
    "start_time": "2022-06-02T13:22:55.299Z"
   },
   {
    "duration": 423,
    "start_time": "2022-06-02T13:48:01.442Z"
   },
   {
    "duration": 1113,
    "start_time": "2022-06-02T19:59:21.558Z"
   },
   {
    "duration": 62,
    "start_time": "2022-06-02T19:59:22.673Z"
   },
   {
    "duration": 18,
    "start_time": "2022-06-02T19:59:22.737Z"
   },
   {
    "duration": 13,
    "start_time": "2022-06-02T19:59:22.757Z"
   },
   {
    "duration": 13,
    "start_time": "2022-06-02T19:59:22.771Z"
   },
   {
    "duration": 19,
    "start_time": "2022-06-02T19:59:22.785Z"
   },
   {
    "duration": 8,
    "start_time": "2022-06-02T19:59:22.805Z"
   },
   {
    "duration": 43,
    "start_time": "2022-06-02T19:59:22.815Z"
   },
   {
    "duration": 4,
    "start_time": "2022-06-02T19:59:22.860Z"
   },
   {
    "duration": 19,
    "start_time": "2022-06-02T19:59:22.866Z"
   },
   {
    "duration": 19,
    "start_time": "2022-06-02T19:59:22.887Z"
   },
   {
    "duration": 13,
    "start_time": "2022-06-02T19:59:22.908Z"
   },
   {
    "duration": 182,
    "start_time": "2022-06-02T19:59:22.923Z"
   },
   {
    "duration": 165,
    "start_time": "2022-06-02T19:59:23.106Z"
   },
   {
    "duration": 258,
    "start_time": "2022-06-02T19:59:23.273Z"
   },
   {
    "duration": 147,
    "start_time": "2022-06-02T19:59:23.533Z"
   },
   {
    "duration": 160,
    "start_time": "2022-06-02T19:59:23.681Z"
   },
   {
    "duration": 14,
    "start_time": "2022-06-02T19:59:23.842Z"
   },
   {
    "duration": 22,
    "start_time": "2022-06-02T19:59:23.858Z"
   },
   {
    "duration": 13,
    "start_time": "2022-06-02T19:59:23.881Z"
   },
   {
    "duration": 114,
    "start_time": "2022-06-02T19:59:23.896Z"
   },
   {
    "duration": 314,
    "start_time": "2022-06-02T19:59:24.012Z"
   },
   {
    "duration": 317,
    "start_time": "2022-06-02T19:59:24.327Z"
   },
   {
    "duration": 328,
    "start_time": "2022-06-02T19:59:24.645Z"
   },
   {
    "duration": 502,
    "start_time": "2022-06-02T19:59:24.975Z"
   },
   {
    "duration": 373,
    "start_time": "2022-06-02T19:59:25.479Z"
   },
   {
    "duration": 163,
    "start_time": "2022-06-02T19:59:25.854Z"
   },
   {
    "duration": 172,
    "start_time": "2022-06-02T19:59:26.020Z"
   },
   {
    "duration": 154,
    "start_time": "2022-06-02T19:59:26.195Z"
   },
   {
    "duration": 283,
    "start_time": "2022-06-02T19:59:26.352Z"
   },
   {
    "duration": 177,
    "start_time": "2022-06-02T19:59:26.637Z"
   },
   {
    "duration": 160,
    "start_time": "2022-06-02T19:59:26.816Z"
   },
   {
    "duration": 167,
    "start_time": "2022-06-02T19:59:26.977Z"
   },
   {
    "duration": 9,
    "start_time": "2022-06-02T19:59:27.146Z"
   },
   {
    "duration": 14,
    "start_time": "2022-06-02T19:59:27.156Z"
   },
   {
    "duration": 15,
    "start_time": "2022-06-02T19:59:27.172Z"
   },
   {
    "duration": 218,
    "start_time": "2022-06-02T20:14:00.474Z"
   },
   {
    "duration": 122,
    "start_time": "2022-06-02T20:14:18.524Z"
   },
   {
    "duration": 103,
    "start_time": "2022-06-02T20:14:27.449Z"
   },
   {
    "duration": 218,
    "start_time": "2022-06-02T20:15:05.779Z"
   },
   {
    "duration": 202,
    "start_time": "2022-06-02T20:16:08.807Z"
   },
   {
    "duration": 310,
    "start_time": "2022-06-02T20:16:16.464Z"
   },
   {
    "duration": 222,
    "start_time": "2022-06-02T20:16:22.243Z"
   },
   {
    "duration": 221,
    "start_time": "2022-06-02T20:16:25.585Z"
   },
   {
    "duration": 237,
    "start_time": "2022-06-02T20:16:54.837Z"
   },
   {
    "duration": 218,
    "start_time": "2022-06-02T20:17:27.266Z"
   },
   {
    "duration": 219,
    "start_time": "2022-06-02T20:17:32.629Z"
   },
   {
    "duration": 13,
    "start_time": "2022-06-02T20:17:56.715Z"
   },
   {
    "duration": 229,
    "start_time": "2022-06-02T20:18:54.880Z"
   },
   {
    "duration": 368,
    "start_time": "2022-06-02T20:19:02.073Z"
   },
   {
    "duration": 221,
    "start_time": "2022-06-02T20:19:09.966Z"
   },
   {
    "duration": 216,
    "start_time": "2022-06-02T20:19:30.265Z"
   },
   {
    "duration": 520,
    "start_time": "2022-06-02T20:21:31.450Z"
   },
   {
    "duration": 206,
    "start_time": "2022-06-02T20:21:36.818Z"
   },
   {
    "duration": 317,
    "start_time": "2022-06-02T20:21:46.664Z"
   },
   {
    "duration": 209,
    "start_time": "2022-06-02T20:21:51.010Z"
   },
   {
    "duration": 232,
    "start_time": "2022-06-02T20:21:55.584Z"
   },
   {
    "duration": 236,
    "start_time": "2022-06-02T20:22:19.921Z"
   },
   {
    "duration": 225,
    "start_time": "2022-06-02T20:22:28.195Z"
   },
   {
    "duration": 290,
    "start_time": "2022-06-02T20:22:56.530Z"
   },
   {
    "duration": 298,
    "start_time": "2022-06-03T07:53:47.983Z"
   },
   {
    "duration": 335,
    "start_time": "2022-06-03T07:54:35.280Z"
   },
   {
    "duration": 391,
    "start_time": "2022-06-03T07:54:50.372Z"
   },
   {
    "duration": 16,
    "start_time": "2022-06-03T08:13:34.739Z"
   },
   {
    "duration": 30,
    "start_time": "2022-06-03T08:31:12.217Z"
   },
   {
    "duration": 126,
    "start_time": "2022-06-03T08:33:04.092Z"
   },
   {
    "duration": 11,
    "start_time": "2022-06-03T08:33:56.280Z"
   },
   {
    "duration": 13,
    "start_time": "2022-06-03T08:34:20.602Z"
   },
   {
    "duration": 3,
    "start_time": "2022-06-03T08:34:27.507Z"
   },
   {
    "duration": 60,
    "start_time": "2022-06-03T08:34:27.513Z"
   },
   {
    "duration": 14,
    "start_time": "2022-06-03T08:34:27.575Z"
   },
   {
    "duration": 14,
    "start_time": "2022-06-03T08:34:27.591Z"
   },
   {
    "duration": 23,
    "start_time": "2022-06-03T08:34:27.606Z"
   },
   {
    "duration": 22,
    "start_time": "2022-06-03T08:34:27.631Z"
   },
   {
    "duration": 7,
    "start_time": "2022-06-03T08:34:27.654Z"
   },
   {
    "duration": 22,
    "start_time": "2022-06-03T08:34:27.663Z"
   },
   {
    "duration": 41,
    "start_time": "2022-06-03T08:34:27.687Z"
   },
   {
    "duration": 14,
    "start_time": "2022-06-03T08:34:27.730Z"
   },
   {
    "duration": 20,
    "start_time": "2022-06-03T08:34:27.746Z"
   },
   {
    "duration": 13,
    "start_time": "2022-06-03T08:34:27.768Z"
   },
   {
    "duration": 178,
    "start_time": "2022-06-03T08:34:27.782Z"
   },
   {
    "duration": 170,
    "start_time": "2022-06-03T08:34:27.963Z"
   },
   {
    "duration": 185,
    "start_time": "2022-06-03T08:34:28.137Z"
   },
   {
    "duration": 149,
    "start_time": "2022-06-03T08:34:28.326Z"
   },
   {
    "duration": 163,
    "start_time": "2022-06-03T08:34:28.477Z"
   },
   {
    "duration": 7,
    "start_time": "2022-06-03T08:34:28.642Z"
   },
   {
    "duration": 17,
    "start_time": "2022-06-03T08:34:28.651Z"
   },
   {
    "duration": 13,
    "start_time": "2022-06-03T08:34:28.670Z"
   },
   {
    "duration": 318,
    "start_time": "2022-06-03T08:34:28.685Z"
   },
   {
    "duration": 471,
    "start_time": "2022-06-03T08:34:29.006Z"
   },
   {
    "duration": 444,
    "start_time": "2022-06-03T08:34:29.479Z"
   },
   {
    "duration": 426,
    "start_time": "2022-06-03T08:34:29.925Z"
   },
   {
    "duration": 286,
    "start_time": "2022-06-03T08:34:30.352Z"
   },
   {
    "duration": 366,
    "start_time": "2022-06-03T08:34:30.640Z"
   },
   {
    "duration": 372,
    "start_time": "2022-06-03T08:34:31.008Z"
   },
   {
    "duration": 171,
    "start_time": "2022-06-03T08:34:31.383Z"
   },
   {
    "duration": 160,
    "start_time": "2022-06-03T08:34:31.556Z"
   },
   {
    "duration": 161,
    "start_time": "2022-06-03T08:34:31.718Z"
   },
   {
    "duration": 196,
    "start_time": "2022-06-03T08:34:31.881Z"
   },
   {
    "duration": 201,
    "start_time": "2022-06-03T08:34:32.079Z"
   },
   {
    "duration": 170,
    "start_time": "2022-06-03T08:34:32.282Z"
   },
   {
    "duration": 165,
    "start_time": "2022-06-03T08:34:32.454Z"
   },
   {
    "duration": 5,
    "start_time": "2022-06-03T08:34:32.625Z"
   },
   {
    "duration": 61,
    "start_time": "2022-06-03T08:34:46.387Z"
   },
   {
    "duration": 20,
    "start_time": "2022-06-03T08:35:52.179Z"
   },
   {
    "duration": 20,
    "start_time": "2022-06-03T08:40:01.616Z"
   },
   {
    "duration": 22,
    "start_time": "2022-06-03T08:42:14.713Z"
   },
   {
    "duration": 3,
    "start_time": "2022-06-03T08:42:36.913Z"
   },
   {
    "duration": 66,
    "start_time": "2022-06-03T08:42:36.918Z"
   },
   {
    "duration": 18,
    "start_time": "2022-06-03T08:42:36.986Z"
   },
   {
    "duration": 21,
    "start_time": "2022-06-03T08:42:37.006Z"
   },
   {
    "duration": 16,
    "start_time": "2022-06-03T08:42:37.029Z"
   },
   {
    "duration": 24,
    "start_time": "2022-06-03T08:42:37.047Z"
   },
   {
    "duration": 7,
    "start_time": "2022-06-03T08:42:37.073Z"
   },
   {
    "duration": 47,
    "start_time": "2022-06-03T08:42:37.081Z"
   },
   {
    "duration": 4,
    "start_time": "2022-06-03T08:42:37.131Z"
   },
   {
    "duration": 18,
    "start_time": "2022-06-03T08:42:37.136Z"
   },
   {
    "duration": 19,
    "start_time": "2022-06-03T08:42:37.157Z"
   },
   {
    "duration": 17,
    "start_time": "2022-06-03T08:42:37.178Z"
   },
   {
    "duration": 177,
    "start_time": "2022-06-03T08:42:37.197Z"
   },
   {
    "duration": 169,
    "start_time": "2022-06-03T08:42:37.376Z"
   },
   {
    "duration": 172,
    "start_time": "2022-06-03T08:42:37.547Z"
   },
   {
    "duration": 157,
    "start_time": "2022-06-03T08:42:37.721Z"
   },
   {
    "duration": 288,
    "start_time": "2022-06-03T08:42:37.879Z"
   },
   {
    "duration": 7,
    "start_time": "2022-06-03T08:42:38.168Z"
   },
   {
    "duration": 18,
    "start_time": "2022-06-03T08:42:38.177Z"
   },
   {
    "duration": 30,
    "start_time": "2022-06-03T08:42:38.197Z"
   },
   {
    "duration": 310,
    "start_time": "2022-06-03T08:42:38.229Z"
   },
   {
    "duration": 309,
    "start_time": "2022-06-03T08:42:38.541Z"
   },
   {
    "duration": 293,
    "start_time": "2022-06-03T08:42:38.852Z"
   },
   {
    "duration": 304,
    "start_time": "2022-06-03T08:42:39.146Z"
   },
   {
    "duration": 300,
    "start_time": "2022-06-03T08:42:39.452Z"
   },
   {
    "duration": 360,
    "start_time": "2022-06-03T08:42:39.754Z"
   },
   {
    "duration": 369,
    "start_time": "2022-06-03T08:42:40.116Z"
   },
   {
    "duration": 165,
    "start_time": "2022-06-03T08:42:40.486Z"
   },
   {
    "duration": 162,
    "start_time": "2022-06-03T08:42:40.654Z"
   },
   {
    "duration": 158,
    "start_time": "2022-06-03T08:42:40.818Z"
   },
   {
    "duration": 184,
    "start_time": "2022-06-03T08:42:40.978Z"
   },
   {
    "duration": 167,
    "start_time": "2022-06-03T08:42:41.164Z"
   },
   {
    "duration": 170,
    "start_time": "2022-06-03T08:42:41.333Z"
   },
   {
    "duration": 181,
    "start_time": "2022-06-03T08:42:41.505Z"
   },
   {
    "duration": 5,
    "start_time": "2022-06-03T08:42:41.687Z"
   },
   {
    "duration": 16,
    "start_time": "2022-06-03T08:46:11.037Z"
   },
   {
    "duration": 13,
    "start_time": "2022-06-03T08:47:14.873Z"
   },
   {
    "duration": 17,
    "start_time": "2022-06-03T08:47:39.436Z"
   },
   {
    "duration": 25,
    "start_time": "2022-06-03T08:47:46.282Z"
   },
   {
    "duration": 33,
    "start_time": "2022-06-03T08:48:21.098Z"
   },
   {
    "duration": 11,
    "start_time": "2022-06-03T08:49:15.046Z"
   },
   {
    "duration": 178,
    "start_time": "2022-06-03T09:04:08.605Z"
   },
   {
    "duration": 13,
    "start_time": "2022-06-03T09:05:15.993Z"
   },
   {
    "duration": 29,
    "start_time": "2022-06-03T09:05:30.974Z"
   },
   {
    "duration": 18,
    "start_time": "2022-06-03T09:08:22.087Z"
   },
   {
    "duration": 25,
    "start_time": "2022-06-03T09:08:34.790Z"
   },
   {
    "duration": 28,
    "start_time": "2022-06-03T09:09:20.636Z"
   },
   {
    "duration": 45,
    "start_time": "2022-06-03T09:10:14.289Z"
   },
   {
    "duration": 9,
    "start_time": "2022-06-03T09:10:23.951Z"
   },
   {
    "duration": 11,
    "start_time": "2022-06-03T09:10:43.976Z"
   },
   {
    "duration": 13,
    "start_time": "2022-06-03T09:11:32.805Z"
   },
   {
    "duration": 1082,
    "start_time": "2022-06-03T15:47:05.443Z"
   },
   {
    "duration": 67,
    "start_time": "2022-06-03T15:47:06.527Z"
   },
   {
    "duration": 19,
    "start_time": "2022-06-03T15:47:06.596Z"
   },
   {
    "duration": 14,
    "start_time": "2022-06-03T15:47:06.617Z"
   },
   {
    "duration": 21,
    "start_time": "2022-06-03T15:47:06.633Z"
   },
   {
    "duration": 32,
    "start_time": "2022-06-03T15:47:06.655Z"
   },
   {
    "duration": 8,
    "start_time": "2022-06-03T15:47:06.688Z"
   },
   {
    "duration": 40,
    "start_time": "2022-06-03T15:47:06.697Z"
   },
   {
    "duration": 7,
    "start_time": "2022-06-03T15:47:06.739Z"
   },
   {
    "duration": 24,
    "start_time": "2022-06-03T15:47:06.749Z"
   },
   {
    "duration": 32,
    "start_time": "2022-06-03T15:47:06.775Z"
   },
   {
    "duration": 21,
    "start_time": "2022-06-03T15:47:06.809Z"
   },
   {
    "duration": 188,
    "start_time": "2022-06-03T15:47:06.832Z"
   },
   {
    "duration": 198,
    "start_time": "2022-06-03T15:47:07.021Z"
   },
   {
    "duration": 240,
    "start_time": "2022-06-03T15:47:07.225Z"
   },
   {
    "duration": 162,
    "start_time": "2022-06-03T15:47:07.467Z"
   },
   {
    "duration": 173,
    "start_time": "2022-06-03T15:47:07.630Z"
   },
   {
    "duration": 6,
    "start_time": "2022-06-03T15:47:07.804Z"
   },
   {
    "duration": 24,
    "start_time": "2022-06-03T15:47:07.812Z"
   },
   {
    "duration": 17,
    "start_time": "2022-06-03T15:47:07.838Z"
   },
   {
    "duration": 358,
    "start_time": "2022-06-03T15:47:07.857Z"
   },
   {
    "duration": 370,
    "start_time": "2022-06-03T15:47:08.217Z"
   },
   {
    "duration": 332,
    "start_time": "2022-06-03T15:47:08.589Z"
   },
   {
    "duration": 312,
    "start_time": "2022-06-03T15:47:08.924Z"
   },
   {
    "duration": 362,
    "start_time": "2022-06-03T15:47:09.238Z"
   },
   {
    "duration": 452,
    "start_time": "2022-06-03T15:47:09.602Z"
   },
   {
    "duration": 494,
    "start_time": "2022-06-03T15:47:10.056Z"
   },
   {
    "duration": 185,
    "start_time": "2022-06-03T15:47:10.554Z"
   },
   {
    "duration": 184,
    "start_time": "2022-06-03T15:47:10.741Z"
   },
   {
    "duration": 177,
    "start_time": "2022-06-03T15:47:10.927Z"
   },
   {
    "duration": 223,
    "start_time": "2022-06-03T15:47:11.105Z"
   },
   {
    "duration": 196,
    "start_time": "2022-06-03T15:47:11.329Z"
   },
   {
    "duration": 175,
    "start_time": "2022-06-03T15:47:11.528Z"
   },
   {
    "duration": 179,
    "start_time": "2022-06-03T15:47:11.705Z"
   },
   {
    "duration": 5,
    "start_time": "2022-06-03T15:47:11.887Z"
   },
   {
    "duration": 142,
    "start_time": "2022-06-03T15:47:11.893Z"
   },
   {
    "duration": 1,
    "start_time": "2022-06-03T15:47:12.037Z"
   },
   {
    "duration": 0,
    "start_time": "2022-06-03T15:47:12.039Z"
   },
   {
    "duration": 6,
    "start_time": "2022-06-06T20:28:35.171Z"
   },
   {
    "duration": 26,
    "start_time": "2022-06-06T20:28:54.311Z"
   },
   {
    "duration": 14,
    "start_time": "2022-06-06T20:29:31.073Z"
   },
   {
    "duration": 15,
    "start_time": "2022-06-06T20:30:12.033Z"
   },
   {
    "duration": 7,
    "start_time": "2022-06-06T20:30:25.331Z"
   },
   {
    "duration": 6,
    "start_time": "2022-06-06T20:30:53.171Z"
   },
   {
    "duration": 11,
    "start_time": "2022-06-06T20:31:02.698Z"
   },
   {
    "duration": 13,
    "start_time": "2022-06-06T20:31:29.773Z"
   },
   {
    "duration": 1209,
    "start_time": "2022-06-06T20:53:58.804Z"
   },
   {
    "duration": 85,
    "start_time": "2022-06-06T20:54:00.015Z"
   },
   {
    "duration": 23,
    "start_time": "2022-06-06T20:54:00.101Z"
   },
   {
    "duration": 42,
    "start_time": "2022-06-06T20:54:00.126Z"
   },
   {
    "duration": 27,
    "start_time": "2022-06-06T20:54:00.173Z"
   },
   {
    "duration": 30,
    "start_time": "2022-06-06T20:54:00.202Z"
   },
   {
    "duration": 29,
    "start_time": "2022-06-06T20:54:00.234Z"
   },
   {
    "duration": 30,
    "start_time": "2022-06-06T20:54:00.265Z"
   },
   {
    "duration": 11,
    "start_time": "2022-06-06T20:54:00.297Z"
   },
   {
    "duration": 20,
    "start_time": "2022-06-06T20:54:00.311Z"
   },
   {
    "duration": 33,
    "start_time": "2022-06-06T20:54:00.334Z"
   },
   {
    "duration": 21,
    "start_time": "2022-06-06T20:54:00.369Z"
   },
   {
    "duration": 216,
    "start_time": "2022-06-06T20:54:00.392Z"
   },
   {
    "duration": 208,
    "start_time": "2022-06-06T20:54:00.611Z"
   },
   {
    "duration": 334,
    "start_time": "2022-06-06T20:54:00.822Z"
   },
   {
    "duration": 193,
    "start_time": "2022-06-06T20:54:01.159Z"
   },
   {
    "duration": 235,
    "start_time": "2022-06-06T20:54:01.356Z"
   },
   {
    "duration": 8,
    "start_time": "2022-06-06T20:54:01.594Z"
   },
   {
    "duration": 39,
    "start_time": "2022-06-06T20:54:01.604Z"
   },
   {
    "duration": 23,
    "start_time": "2022-06-06T20:54:01.645Z"
   },
   {
    "duration": 425,
    "start_time": "2022-06-06T20:54:01.670Z"
   },
   {
    "duration": 396,
    "start_time": "2022-06-06T20:54:02.098Z"
   },
   {
    "duration": 349,
    "start_time": "2022-06-06T20:54:02.496Z"
   },
   {
    "duration": 337,
    "start_time": "2022-06-06T20:54:02.847Z"
   },
   {
    "duration": 321,
    "start_time": "2022-06-06T20:54:03.185Z"
   },
   {
    "duration": 400,
    "start_time": "2022-06-06T20:54:03.508Z"
   },
   {
    "duration": 500,
    "start_time": "2022-06-06T20:54:03.909Z"
   },
   {
    "duration": 218,
    "start_time": "2022-06-06T20:54:04.414Z"
   },
   {
    "duration": 184,
    "start_time": "2022-06-06T20:54:04.634Z"
   },
   {
    "duration": 177,
    "start_time": "2022-06-06T20:54:04.820Z"
   },
   {
    "duration": 212,
    "start_time": "2022-06-06T20:54:04.999Z"
   },
   {
    "duration": 191,
    "start_time": "2022-06-06T20:54:05.213Z"
   },
   {
    "duration": 190,
    "start_time": "2022-06-06T20:54:05.405Z"
   },
   {
    "duration": 192,
    "start_time": "2022-06-06T20:54:05.597Z"
   },
   {
    "duration": 4,
    "start_time": "2022-06-06T20:54:05.790Z"
   },
   {
    "duration": 9,
    "start_time": "2022-06-06T20:54:05.796Z"
   },
   {
    "duration": 12,
    "start_time": "2022-06-06T20:54:05.807Z"
   },
   {
    "duration": 25,
    "start_time": "2022-06-06T20:54:05.820Z"
   }
  ],
  "kernelspec": {
   "display_name": "Python 3 (ipykernel)",
   "language": "python",
   "name": "python3"
  },
  "language_info": {
   "codemirror_mode": {
    "name": "ipython",
    "version": 3
   },
   "file_extension": ".py",
   "mimetype": "text/x-python",
   "name": "python",
   "nbconvert_exporter": "python",
   "pygments_lexer": "ipython3",
   "version": "3.9.5"
  },
  "toc": {
   "base_numbering": 1,
   "nav_menu": {},
   "number_sections": true,
   "sideBar": true,
   "skip_h1_title": true,
   "title_cell": "Table of Contents",
   "title_sidebar": "Contents",
   "toc_cell": false,
   "toc_position": {},
   "toc_section_display": true,
   "toc_window_display": false
  }
 },
 "nbformat": 4,
 "nbformat_minor": 2
}
